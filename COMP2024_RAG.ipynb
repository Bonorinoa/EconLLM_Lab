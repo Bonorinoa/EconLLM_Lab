{
  "nbformat": 4,
  "nbformat_minor": 0,
  "metadata": {
    "colab": {
      "provenance": []
    },
    "kernelspec": {
      "name": "python3",
      "display_name": "Python 3"
    },
    "language_info": {
      "name": "python"
    },
    "widgets": {
      "application/vnd.jupyter.widget-state+json": {
        "39070468c7084d0cb64745bafa17feeb": {
          "model_module": "@jupyter-widgets/controls",
          "model_name": "HBoxModel",
          "model_module_version": "1.5.0",
          "state": {
            "_dom_classes": [],
            "_model_module": "@jupyter-widgets/controls",
            "_model_module_version": "1.5.0",
            "_model_name": "HBoxModel",
            "_view_count": null,
            "_view_module": "@jupyter-widgets/controls",
            "_view_module_version": "1.5.0",
            "_view_name": "HBoxView",
            "box_style": "",
            "children": [
              "IPY_MODEL_59d5651f6b114411bf17eddb1a9aed96",
              "IPY_MODEL_66a14631c6584298924d9df490abb4f4",
              "IPY_MODEL_c362a3fe8d1b497e83ce6eb37452b36d"
            ],
            "layout": "IPY_MODEL_a6c1f7e0c95547cbadfb33952edd1f0a"
          }
        },
        "59d5651f6b114411bf17eddb1a9aed96": {
          "model_module": "@jupyter-widgets/controls",
          "model_name": "HTMLModel",
          "model_module_version": "1.5.0",
          "state": {
            "_dom_classes": [],
            "_model_module": "@jupyter-widgets/controls",
            "_model_module_version": "1.5.0",
            "_model_name": "HTMLModel",
            "_view_count": null,
            "_view_module": "@jupyter-widgets/controls",
            "_view_module_version": "1.5.0",
            "_view_name": "HTMLView",
            "description": "",
            "description_tooltip": null,
            "layout": "IPY_MODEL_3f86744924e945dea91b8b92d958196f",
            "placeholder": "​",
            "style": "IPY_MODEL_5ebaebeb92394ebfa9ae941a88e7063e",
            "value": "modules.json: 100%"
          }
        },
        "66a14631c6584298924d9df490abb4f4": {
          "model_module": "@jupyter-widgets/controls",
          "model_name": "FloatProgressModel",
          "model_module_version": "1.5.0",
          "state": {
            "_dom_classes": [],
            "_model_module": "@jupyter-widgets/controls",
            "_model_module_version": "1.5.0",
            "_model_name": "FloatProgressModel",
            "_view_count": null,
            "_view_module": "@jupyter-widgets/controls",
            "_view_module_version": "1.5.0",
            "_view_name": "ProgressView",
            "bar_style": "success",
            "description": "",
            "description_tooltip": null,
            "layout": "IPY_MODEL_9052b8f7288743b0b5225a59ac3ba504",
            "max": 349,
            "min": 0,
            "orientation": "horizontal",
            "style": "IPY_MODEL_c17d22608cc341b5b647f29194d32ec0",
            "value": 349
          }
        },
        "c362a3fe8d1b497e83ce6eb37452b36d": {
          "model_module": "@jupyter-widgets/controls",
          "model_name": "HTMLModel",
          "model_module_version": "1.5.0",
          "state": {
            "_dom_classes": [],
            "_model_module": "@jupyter-widgets/controls",
            "_model_module_version": "1.5.0",
            "_model_name": "HTMLModel",
            "_view_count": null,
            "_view_module": "@jupyter-widgets/controls",
            "_view_module_version": "1.5.0",
            "_view_name": "HTMLView",
            "description": "",
            "description_tooltip": null,
            "layout": "IPY_MODEL_27ab93f6de544d4dbb931055efaa3251",
            "placeholder": "​",
            "style": "IPY_MODEL_8349c4b6a0f64c08b6983fa10c18d072",
            "value": " 349/349 [00:00&lt;00:00, 18.9kB/s]"
          }
        },
        "a6c1f7e0c95547cbadfb33952edd1f0a": {
          "model_module": "@jupyter-widgets/base",
          "model_name": "LayoutModel",
          "model_module_version": "1.2.0",
          "state": {
            "_model_module": "@jupyter-widgets/base",
            "_model_module_version": "1.2.0",
            "_model_name": "LayoutModel",
            "_view_count": null,
            "_view_module": "@jupyter-widgets/base",
            "_view_module_version": "1.2.0",
            "_view_name": "LayoutView",
            "align_content": null,
            "align_items": null,
            "align_self": null,
            "border": null,
            "bottom": null,
            "display": null,
            "flex": null,
            "flex_flow": null,
            "grid_area": null,
            "grid_auto_columns": null,
            "grid_auto_flow": null,
            "grid_auto_rows": null,
            "grid_column": null,
            "grid_gap": null,
            "grid_row": null,
            "grid_template_areas": null,
            "grid_template_columns": null,
            "grid_template_rows": null,
            "height": null,
            "justify_content": null,
            "justify_items": null,
            "left": null,
            "margin": null,
            "max_height": null,
            "max_width": null,
            "min_height": null,
            "min_width": null,
            "object_fit": null,
            "object_position": null,
            "order": null,
            "overflow": null,
            "overflow_x": null,
            "overflow_y": null,
            "padding": null,
            "right": null,
            "top": null,
            "visibility": null,
            "width": null
          }
        },
        "3f86744924e945dea91b8b92d958196f": {
          "model_module": "@jupyter-widgets/base",
          "model_name": "LayoutModel",
          "model_module_version": "1.2.0",
          "state": {
            "_model_module": "@jupyter-widgets/base",
            "_model_module_version": "1.2.0",
            "_model_name": "LayoutModel",
            "_view_count": null,
            "_view_module": "@jupyter-widgets/base",
            "_view_module_version": "1.2.0",
            "_view_name": "LayoutView",
            "align_content": null,
            "align_items": null,
            "align_self": null,
            "border": null,
            "bottom": null,
            "display": null,
            "flex": null,
            "flex_flow": null,
            "grid_area": null,
            "grid_auto_columns": null,
            "grid_auto_flow": null,
            "grid_auto_rows": null,
            "grid_column": null,
            "grid_gap": null,
            "grid_row": null,
            "grid_template_areas": null,
            "grid_template_columns": null,
            "grid_template_rows": null,
            "height": null,
            "justify_content": null,
            "justify_items": null,
            "left": null,
            "margin": null,
            "max_height": null,
            "max_width": null,
            "min_height": null,
            "min_width": null,
            "object_fit": null,
            "object_position": null,
            "order": null,
            "overflow": null,
            "overflow_x": null,
            "overflow_y": null,
            "padding": null,
            "right": null,
            "top": null,
            "visibility": null,
            "width": null
          }
        },
        "5ebaebeb92394ebfa9ae941a88e7063e": {
          "model_module": "@jupyter-widgets/controls",
          "model_name": "DescriptionStyleModel",
          "model_module_version": "1.5.0",
          "state": {
            "_model_module": "@jupyter-widgets/controls",
            "_model_module_version": "1.5.0",
            "_model_name": "DescriptionStyleModel",
            "_view_count": null,
            "_view_module": "@jupyter-widgets/base",
            "_view_module_version": "1.2.0",
            "_view_name": "StyleView",
            "description_width": ""
          }
        },
        "9052b8f7288743b0b5225a59ac3ba504": {
          "model_module": "@jupyter-widgets/base",
          "model_name": "LayoutModel",
          "model_module_version": "1.2.0",
          "state": {
            "_model_module": "@jupyter-widgets/base",
            "_model_module_version": "1.2.0",
            "_model_name": "LayoutModel",
            "_view_count": null,
            "_view_module": "@jupyter-widgets/base",
            "_view_module_version": "1.2.0",
            "_view_name": "LayoutView",
            "align_content": null,
            "align_items": null,
            "align_self": null,
            "border": null,
            "bottom": null,
            "display": null,
            "flex": null,
            "flex_flow": null,
            "grid_area": null,
            "grid_auto_columns": null,
            "grid_auto_flow": null,
            "grid_auto_rows": null,
            "grid_column": null,
            "grid_gap": null,
            "grid_row": null,
            "grid_template_areas": null,
            "grid_template_columns": null,
            "grid_template_rows": null,
            "height": null,
            "justify_content": null,
            "justify_items": null,
            "left": null,
            "margin": null,
            "max_height": null,
            "max_width": null,
            "min_height": null,
            "min_width": null,
            "object_fit": null,
            "object_position": null,
            "order": null,
            "overflow": null,
            "overflow_x": null,
            "overflow_y": null,
            "padding": null,
            "right": null,
            "top": null,
            "visibility": null,
            "width": null
          }
        },
        "c17d22608cc341b5b647f29194d32ec0": {
          "model_module": "@jupyter-widgets/controls",
          "model_name": "ProgressStyleModel",
          "model_module_version": "1.5.0",
          "state": {
            "_model_module": "@jupyter-widgets/controls",
            "_model_module_version": "1.5.0",
            "_model_name": "ProgressStyleModel",
            "_view_count": null,
            "_view_module": "@jupyter-widgets/base",
            "_view_module_version": "1.2.0",
            "_view_name": "StyleView",
            "bar_color": null,
            "description_width": ""
          }
        },
        "27ab93f6de544d4dbb931055efaa3251": {
          "model_module": "@jupyter-widgets/base",
          "model_name": "LayoutModel",
          "model_module_version": "1.2.0",
          "state": {
            "_model_module": "@jupyter-widgets/base",
            "_model_module_version": "1.2.0",
            "_model_name": "LayoutModel",
            "_view_count": null,
            "_view_module": "@jupyter-widgets/base",
            "_view_module_version": "1.2.0",
            "_view_name": "LayoutView",
            "align_content": null,
            "align_items": null,
            "align_self": null,
            "border": null,
            "bottom": null,
            "display": null,
            "flex": null,
            "flex_flow": null,
            "grid_area": null,
            "grid_auto_columns": null,
            "grid_auto_flow": null,
            "grid_auto_rows": null,
            "grid_column": null,
            "grid_gap": null,
            "grid_row": null,
            "grid_template_areas": null,
            "grid_template_columns": null,
            "grid_template_rows": null,
            "height": null,
            "justify_content": null,
            "justify_items": null,
            "left": null,
            "margin": null,
            "max_height": null,
            "max_width": null,
            "min_height": null,
            "min_width": null,
            "object_fit": null,
            "object_position": null,
            "order": null,
            "overflow": null,
            "overflow_x": null,
            "overflow_y": null,
            "padding": null,
            "right": null,
            "top": null,
            "visibility": null,
            "width": null
          }
        },
        "8349c4b6a0f64c08b6983fa10c18d072": {
          "model_module": "@jupyter-widgets/controls",
          "model_name": "DescriptionStyleModel",
          "model_module_version": "1.5.0",
          "state": {
            "_model_module": "@jupyter-widgets/controls",
            "_model_module_version": "1.5.0",
            "_model_name": "DescriptionStyleModel",
            "_view_count": null,
            "_view_module": "@jupyter-widgets/base",
            "_view_module_version": "1.2.0",
            "_view_name": "StyleView",
            "description_width": ""
          }
        },
        "1d0f83935fa04cbf902e8fc04b0b649b": {
          "model_module": "@jupyter-widgets/controls",
          "model_name": "HBoxModel",
          "model_module_version": "1.5.0",
          "state": {
            "_dom_classes": [],
            "_model_module": "@jupyter-widgets/controls",
            "_model_module_version": "1.5.0",
            "_model_name": "HBoxModel",
            "_view_count": null,
            "_view_module": "@jupyter-widgets/controls",
            "_view_module_version": "1.5.0",
            "_view_name": "HBoxView",
            "box_style": "",
            "children": [
              "IPY_MODEL_cd672dc446984088979b57fc879ded3b",
              "IPY_MODEL_f9d7e7d089164e48b4d9e735e061127f",
              "IPY_MODEL_a84cf6ff36644951833b1c7680ec3ac2"
            ],
            "layout": "IPY_MODEL_e6ef27b16082457b9710be71ff21ee85"
          }
        },
        "cd672dc446984088979b57fc879ded3b": {
          "model_module": "@jupyter-widgets/controls",
          "model_name": "HTMLModel",
          "model_module_version": "1.5.0",
          "state": {
            "_dom_classes": [],
            "_model_module": "@jupyter-widgets/controls",
            "_model_module_version": "1.5.0",
            "_model_name": "HTMLModel",
            "_view_count": null,
            "_view_module": "@jupyter-widgets/controls",
            "_view_module_version": "1.5.0",
            "_view_name": "HTMLView",
            "description": "",
            "description_tooltip": null,
            "layout": "IPY_MODEL_6c9576dc0a334763abd5816de480df07",
            "placeholder": "​",
            "style": "IPY_MODEL_e73f479ab0404c9d912548a39a048da9",
            "value": "config_sentence_transformers.json: 100%"
          }
        },
        "f9d7e7d089164e48b4d9e735e061127f": {
          "model_module": "@jupyter-widgets/controls",
          "model_name": "FloatProgressModel",
          "model_module_version": "1.5.0",
          "state": {
            "_dom_classes": [],
            "_model_module": "@jupyter-widgets/controls",
            "_model_module_version": "1.5.0",
            "_model_name": "FloatProgressModel",
            "_view_count": null,
            "_view_module": "@jupyter-widgets/controls",
            "_view_module_version": "1.5.0",
            "_view_name": "ProgressView",
            "bar_style": "success",
            "description": "",
            "description_tooltip": null,
            "layout": "IPY_MODEL_551c1de565984aa2953b7f42cfdee97a",
            "max": 116,
            "min": 0,
            "orientation": "horizontal",
            "style": "IPY_MODEL_0ee40f591ade4f06b6011caf632e059b",
            "value": 116
          }
        },
        "a84cf6ff36644951833b1c7680ec3ac2": {
          "model_module": "@jupyter-widgets/controls",
          "model_name": "HTMLModel",
          "model_module_version": "1.5.0",
          "state": {
            "_dom_classes": [],
            "_model_module": "@jupyter-widgets/controls",
            "_model_module_version": "1.5.0",
            "_model_name": "HTMLModel",
            "_view_count": null,
            "_view_module": "@jupyter-widgets/controls",
            "_view_module_version": "1.5.0",
            "_view_name": "HTMLView",
            "description": "",
            "description_tooltip": null,
            "layout": "IPY_MODEL_0e739145fcd14427ad0d9d21dd71ea42",
            "placeholder": "​",
            "style": "IPY_MODEL_e7d41b528a964d4e8180111eed6efcee",
            "value": " 116/116 [00:00&lt;00:00, 7.67kB/s]"
          }
        },
        "e6ef27b16082457b9710be71ff21ee85": {
          "model_module": "@jupyter-widgets/base",
          "model_name": "LayoutModel",
          "model_module_version": "1.2.0",
          "state": {
            "_model_module": "@jupyter-widgets/base",
            "_model_module_version": "1.2.0",
            "_model_name": "LayoutModel",
            "_view_count": null,
            "_view_module": "@jupyter-widgets/base",
            "_view_module_version": "1.2.0",
            "_view_name": "LayoutView",
            "align_content": null,
            "align_items": null,
            "align_self": null,
            "border": null,
            "bottom": null,
            "display": null,
            "flex": null,
            "flex_flow": null,
            "grid_area": null,
            "grid_auto_columns": null,
            "grid_auto_flow": null,
            "grid_auto_rows": null,
            "grid_column": null,
            "grid_gap": null,
            "grid_row": null,
            "grid_template_areas": null,
            "grid_template_columns": null,
            "grid_template_rows": null,
            "height": null,
            "justify_content": null,
            "justify_items": null,
            "left": null,
            "margin": null,
            "max_height": null,
            "max_width": null,
            "min_height": null,
            "min_width": null,
            "object_fit": null,
            "object_position": null,
            "order": null,
            "overflow": null,
            "overflow_x": null,
            "overflow_y": null,
            "padding": null,
            "right": null,
            "top": null,
            "visibility": null,
            "width": null
          }
        },
        "6c9576dc0a334763abd5816de480df07": {
          "model_module": "@jupyter-widgets/base",
          "model_name": "LayoutModel",
          "model_module_version": "1.2.0",
          "state": {
            "_model_module": "@jupyter-widgets/base",
            "_model_module_version": "1.2.0",
            "_model_name": "LayoutModel",
            "_view_count": null,
            "_view_module": "@jupyter-widgets/base",
            "_view_module_version": "1.2.0",
            "_view_name": "LayoutView",
            "align_content": null,
            "align_items": null,
            "align_self": null,
            "border": null,
            "bottom": null,
            "display": null,
            "flex": null,
            "flex_flow": null,
            "grid_area": null,
            "grid_auto_columns": null,
            "grid_auto_flow": null,
            "grid_auto_rows": null,
            "grid_column": null,
            "grid_gap": null,
            "grid_row": null,
            "grid_template_areas": null,
            "grid_template_columns": null,
            "grid_template_rows": null,
            "height": null,
            "justify_content": null,
            "justify_items": null,
            "left": null,
            "margin": null,
            "max_height": null,
            "max_width": null,
            "min_height": null,
            "min_width": null,
            "object_fit": null,
            "object_position": null,
            "order": null,
            "overflow": null,
            "overflow_x": null,
            "overflow_y": null,
            "padding": null,
            "right": null,
            "top": null,
            "visibility": null,
            "width": null
          }
        },
        "e73f479ab0404c9d912548a39a048da9": {
          "model_module": "@jupyter-widgets/controls",
          "model_name": "DescriptionStyleModel",
          "model_module_version": "1.5.0",
          "state": {
            "_model_module": "@jupyter-widgets/controls",
            "_model_module_version": "1.5.0",
            "_model_name": "DescriptionStyleModel",
            "_view_count": null,
            "_view_module": "@jupyter-widgets/base",
            "_view_module_version": "1.2.0",
            "_view_name": "StyleView",
            "description_width": ""
          }
        },
        "551c1de565984aa2953b7f42cfdee97a": {
          "model_module": "@jupyter-widgets/base",
          "model_name": "LayoutModel",
          "model_module_version": "1.2.0",
          "state": {
            "_model_module": "@jupyter-widgets/base",
            "_model_module_version": "1.2.0",
            "_model_name": "LayoutModel",
            "_view_count": null,
            "_view_module": "@jupyter-widgets/base",
            "_view_module_version": "1.2.0",
            "_view_name": "LayoutView",
            "align_content": null,
            "align_items": null,
            "align_self": null,
            "border": null,
            "bottom": null,
            "display": null,
            "flex": null,
            "flex_flow": null,
            "grid_area": null,
            "grid_auto_columns": null,
            "grid_auto_flow": null,
            "grid_auto_rows": null,
            "grid_column": null,
            "grid_gap": null,
            "grid_row": null,
            "grid_template_areas": null,
            "grid_template_columns": null,
            "grid_template_rows": null,
            "height": null,
            "justify_content": null,
            "justify_items": null,
            "left": null,
            "margin": null,
            "max_height": null,
            "max_width": null,
            "min_height": null,
            "min_width": null,
            "object_fit": null,
            "object_position": null,
            "order": null,
            "overflow": null,
            "overflow_x": null,
            "overflow_y": null,
            "padding": null,
            "right": null,
            "top": null,
            "visibility": null,
            "width": null
          }
        },
        "0ee40f591ade4f06b6011caf632e059b": {
          "model_module": "@jupyter-widgets/controls",
          "model_name": "ProgressStyleModel",
          "model_module_version": "1.5.0",
          "state": {
            "_model_module": "@jupyter-widgets/controls",
            "_model_module_version": "1.5.0",
            "_model_name": "ProgressStyleModel",
            "_view_count": null,
            "_view_module": "@jupyter-widgets/base",
            "_view_module_version": "1.2.0",
            "_view_name": "StyleView",
            "bar_color": null,
            "description_width": ""
          }
        },
        "0e739145fcd14427ad0d9d21dd71ea42": {
          "model_module": "@jupyter-widgets/base",
          "model_name": "LayoutModel",
          "model_module_version": "1.2.0",
          "state": {
            "_model_module": "@jupyter-widgets/base",
            "_model_module_version": "1.2.0",
            "_model_name": "LayoutModel",
            "_view_count": null,
            "_view_module": "@jupyter-widgets/base",
            "_view_module_version": "1.2.0",
            "_view_name": "LayoutView",
            "align_content": null,
            "align_items": null,
            "align_self": null,
            "border": null,
            "bottom": null,
            "display": null,
            "flex": null,
            "flex_flow": null,
            "grid_area": null,
            "grid_auto_columns": null,
            "grid_auto_flow": null,
            "grid_auto_rows": null,
            "grid_column": null,
            "grid_gap": null,
            "grid_row": null,
            "grid_template_areas": null,
            "grid_template_columns": null,
            "grid_template_rows": null,
            "height": null,
            "justify_content": null,
            "justify_items": null,
            "left": null,
            "margin": null,
            "max_height": null,
            "max_width": null,
            "min_height": null,
            "min_width": null,
            "object_fit": null,
            "object_position": null,
            "order": null,
            "overflow": null,
            "overflow_x": null,
            "overflow_y": null,
            "padding": null,
            "right": null,
            "top": null,
            "visibility": null,
            "width": null
          }
        },
        "e7d41b528a964d4e8180111eed6efcee": {
          "model_module": "@jupyter-widgets/controls",
          "model_name": "DescriptionStyleModel",
          "model_module_version": "1.5.0",
          "state": {
            "_model_module": "@jupyter-widgets/controls",
            "_model_module_version": "1.5.0",
            "_model_name": "DescriptionStyleModel",
            "_view_count": null,
            "_view_module": "@jupyter-widgets/base",
            "_view_module_version": "1.2.0",
            "_view_name": "StyleView",
            "description_width": ""
          }
        },
        "33e7715bebae4c328bc6b2eb75187528": {
          "model_module": "@jupyter-widgets/controls",
          "model_name": "HBoxModel",
          "model_module_version": "1.5.0",
          "state": {
            "_dom_classes": [],
            "_model_module": "@jupyter-widgets/controls",
            "_model_module_version": "1.5.0",
            "_model_name": "HBoxModel",
            "_view_count": null,
            "_view_module": "@jupyter-widgets/controls",
            "_view_module_version": "1.5.0",
            "_view_name": "HBoxView",
            "box_style": "",
            "children": [
              "IPY_MODEL_a911c31636b74bd9842363022386d51c",
              "IPY_MODEL_94a25db5ddbb47b5bf2959ace7aa00b1",
              "IPY_MODEL_3a0b1c121ab94442a7f68ba96e696b21"
            ],
            "layout": "IPY_MODEL_36f20473119d43d2b6258b63ac739c3b"
          }
        },
        "a911c31636b74bd9842363022386d51c": {
          "model_module": "@jupyter-widgets/controls",
          "model_name": "HTMLModel",
          "model_module_version": "1.5.0",
          "state": {
            "_dom_classes": [],
            "_model_module": "@jupyter-widgets/controls",
            "_model_module_version": "1.5.0",
            "_model_name": "HTMLModel",
            "_view_count": null,
            "_view_module": "@jupyter-widgets/controls",
            "_view_module_version": "1.5.0",
            "_view_name": "HTMLView",
            "description": "",
            "description_tooltip": null,
            "layout": "IPY_MODEL_8f9b55a7d1184e5aadbe69690a106045",
            "placeholder": "​",
            "style": "IPY_MODEL_16e61e64d1fc46f2bb3343d268ed36cb",
            "value": "README.md: 100%"
          }
        },
        "94a25db5ddbb47b5bf2959ace7aa00b1": {
          "model_module": "@jupyter-widgets/controls",
          "model_name": "FloatProgressModel",
          "model_module_version": "1.5.0",
          "state": {
            "_dom_classes": [],
            "_model_module": "@jupyter-widgets/controls",
            "_model_module_version": "1.5.0",
            "_model_name": "FloatProgressModel",
            "_view_count": null,
            "_view_module": "@jupyter-widgets/controls",
            "_view_module_version": "1.5.0",
            "_view_name": "ProgressView",
            "bar_style": "success",
            "description": "",
            "description_tooltip": null,
            "layout": "IPY_MODEL_b797939510f44d1fa22dceb83b2a67ce",
            "max": 10659,
            "min": 0,
            "orientation": "horizontal",
            "style": "IPY_MODEL_35bc9d99e25b4e20956d7191dadbe883",
            "value": 10659
          }
        },
        "3a0b1c121ab94442a7f68ba96e696b21": {
          "model_module": "@jupyter-widgets/controls",
          "model_name": "HTMLModel",
          "model_module_version": "1.5.0",
          "state": {
            "_dom_classes": [],
            "_model_module": "@jupyter-widgets/controls",
            "_model_module_version": "1.5.0",
            "_model_name": "HTMLModel",
            "_view_count": null,
            "_view_module": "@jupyter-widgets/controls",
            "_view_module_version": "1.5.0",
            "_view_name": "HTMLView",
            "description": "",
            "description_tooltip": null,
            "layout": "IPY_MODEL_b1f8043385f04610a8fc64a0dbd387b4",
            "placeholder": "​",
            "style": "IPY_MODEL_824d132c688748868c32d022f272f672",
            "value": " 10.7k/10.7k [00:00&lt;00:00, 557kB/s]"
          }
        },
        "36f20473119d43d2b6258b63ac739c3b": {
          "model_module": "@jupyter-widgets/base",
          "model_name": "LayoutModel",
          "model_module_version": "1.2.0",
          "state": {
            "_model_module": "@jupyter-widgets/base",
            "_model_module_version": "1.2.0",
            "_model_name": "LayoutModel",
            "_view_count": null,
            "_view_module": "@jupyter-widgets/base",
            "_view_module_version": "1.2.0",
            "_view_name": "LayoutView",
            "align_content": null,
            "align_items": null,
            "align_self": null,
            "border": null,
            "bottom": null,
            "display": null,
            "flex": null,
            "flex_flow": null,
            "grid_area": null,
            "grid_auto_columns": null,
            "grid_auto_flow": null,
            "grid_auto_rows": null,
            "grid_column": null,
            "grid_gap": null,
            "grid_row": null,
            "grid_template_areas": null,
            "grid_template_columns": null,
            "grid_template_rows": null,
            "height": null,
            "justify_content": null,
            "justify_items": null,
            "left": null,
            "margin": null,
            "max_height": null,
            "max_width": null,
            "min_height": null,
            "min_width": null,
            "object_fit": null,
            "object_position": null,
            "order": null,
            "overflow": null,
            "overflow_x": null,
            "overflow_y": null,
            "padding": null,
            "right": null,
            "top": null,
            "visibility": null,
            "width": null
          }
        },
        "8f9b55a7d1184e5aadbe69690a106045": {
          "model_module": "@jupyter-widgets/base",
          "model_name": "LayoutModel",
          "model_module_version": "1.2.0",
          "state": {
            "_model_module": "@jupyter-widgets/base",
            "_model_module_version": "1.2.0",
            "_model_name": "LayoutModel",
            "_view_count": null,
            "_view_module": "@jupyter-widgets/base",
            "_view_module_version": "1.2.0",
            "_view_name": "LayoutView",
            "align_content": null,
            "align_items": null,
            "align_self": null,
            "border": null,
            "bottom": null,
            "display": null,
            "flex": null,
            "flex_flow": null,
            "grid_area": null,
            "grid_auto_columns": null,
            "grid_auto_flow": null,
            "grid_auto_rows": null,
            "grid_column": null,
            "grid_gap": null,
            "grid_row": null,
            "grid_template_areas": null,
            "grid_template_columns": null,
            "grid_template_rows": null,
            "height": null,
            "justify_content": null,
            "justify_items": null,
            "left": null,
            "margin": null,
            "max_height": null,
            "max_width": null,
            "min_height": null,
            "min_width": null,
            "object_fit": null,
            "object_position": null,
            "order": null,
            "overflow": null,
            "overflow_x": null,
            "overflow_y": null,
            "padding": null,
            "right": null,
            "top": null,
            "visibility": null,
            "width": null
          }
        },
        "16e61e64d1fc46f2bb3343d268ed36cb": {
          "model_module": "@jupyter-widgets/controls",
          "model_name": "DescriptionStyleModel",
          "model_module_version": "1.5.0",
          "state": {
            "_model_module": "@jupyter-widgets/controls",
            "_model_module_version": "1.5.0",
            "_model_name": "DescriptionStyleModel",
            "_view_count": null,
            "_view_module": "@jupyter-widgets/base",
            "_view_module_version": "1.2.0",
            "_view_name": "StyleView",
            "description_width": ""
          }
        },
        "b797939510f44d1fa22dceb83b2a67ce": {
          "model_module": "@jupyter-widgets/base",
          "model_name": "LayoutModel",
          "model_module_version": "1.2.0",
          "state": {
            "_model_module": "@jupyter-widgets/base",
            "_model_module_version": "1.2.0",
            "_model_name": "LayoutModel",
            "_view_count": null,
            "_view_module": "@jupyter-widgets/base",
            "_view_module_version": "1.2.0",
            "_view_name": "LayoutView",
            "align_content": null,
            "align_items": null,
            "align_self": null,
            "border": null,
            "bottom": null,
            "display": null,
            "flex": null,
            "flex_flow": null,
            "grid_area": null,
            "grid_auto_columns": null,
            "grid_auto_flow": null,
            "grid_auto_rows": null,
            "grid_column": null,
            "grid_gap": null,
            "grid_row": null,
            "grid_template_areas": null,
            "grid_template_columns": null,
            "grid_template_rows": null,
            "height": null,
            "justify_content": null,
            "justify_items": null,
            "left": null,
            "margin": null,
            "max_height": null,
            "max_width": null,
            "min_height": null,
            "min_width": null,
            "object_fit": null,
            "object_position": null,
            "order": null,
            "overflow": null,
            "overflow_x": null,
            "overflow_y": null,
            "padding": null,
            "right": null,
            "top": null,
            "visibility": null,
            "width": null
          }
        },
        "35bc9d99e25b4e20956d7191dadbe883": {
          "model_module": "@jupyter-widgets/controls",
          "model_name": "ProgressStyleModel",
          "model_module_version": "1.5.0",
          "state": {
            "_model_module": "@jupyter-widgets/controls",
            "_model_module_version": "1.5.0",
            "_model_name": "ProgressStyleModel",
            "_view_count": null,
            "_view_module": "@jupyter-widgets/base",
            "_view_module_version": "1.2.0",
            "_view_name": "StyleView",
            "bar_color": null,
            "description_width": ""
          }
        },
        "b1f8043385f04610a8fc64a0dbd387b4": {
          "model_module": "@jupyter-widgets/base",
          "model_name": "LayoutModel",
          "model_module_version": "1.2.0",
          "state": {
            "_model_module": "@jupyter-widgets/base",
            "_model_module_version": "1.2.0",
            "_model_name": "LayoutModel",
            "_view_count": null,
            "_view_module": "@jupyter-widgets/base",
            "_view_module_version": "1.2.0",
            "_view_name": "LayoutView",
            "align_content": null,
            "align_items": null,
            "align_self": null,
            "border": null,
            "bottom": null,
            "display": null,
            "flex": null,
            "flex_flow": null,
            "grid_area": null,
            "grid_auto_columns": null,
            "grid_auto_flow": null,
            "grid_auto_rows": null,
            "grid_column": null,
            "grid_gap": null,
            "grid_row": null,
            "grid_template_areas": null,
            "grid_template_columns": null,
            "grid_template_rows": null,
            "height": null,
            "justify_content": null,
            "justify_items": null,
            "left": null,
            "margin": null,
            "max_height": null,
            "max_width": null,
            "min_height": null,
            "min_width": null,
            "object_fit": null,
            "object_position": null,
            "order": null,
            "overflow": null,
            "overflow_x": null,
            "overflow_y": null,
            "padding": null,
            "right": null,
            "top": null,
            "visibility": null,
            "width": null
          }
        },
        "824d132c688748868c32d022f272f672": {
          "model_module": "@jupyter-widgets/controls",
          "model_name": "DescriptionStyleModel",
          "model_module_version": "1.5.0",
          "state": {
            "_model_module": "@jupyter-widgets/controls",
            "_model_module_version": "1.5.0",
            "_model_name": "DescriptionStyleModel",
            "_view_count": null,
            "_view_module": "@jupyter-widgets/base",
            "_view_module_version": "1.2.0",
            "_view_name": "StyleView",
            "description_width": ""
          }
        },
        "432599cb30bc45dfbc0da23f1778f8c3": {
          "model_module": "@jupyter-widgets/controls",
          "model_name": "HBoxModel",
          "model_module_version": "1.5.0",
          "state": {
            "_dom_classes": [],
            "_model_module": "@jupyter-widgets/controls",
            "_model_module_version": "1.5.0",
            "_model_name": "HBoxModel",
            "_view_count": null,
            "_view_module": "@jupyter-widgets/controls",
            "_view_module_version": "1.5.0",
            "_view_name": "HBoxView",
            "box_style": "",
            "children": [
              "IPY_MODEL_48c42f452e984e00915f18781a7beaff",
              "IPY_MODEL_d1cb255b53814daf9be84dd8b77bd56c",
              "IPY_MODEL_fc1fce2e3cee4bd1ace9b12212297b20"
            ],
            "layout": "IPY_MODEL_e2b6fa8758214ac5a27131c6de670d8b"
          }
        },
        "48c42f452e984e00915f18781a7beaff": {
          "model_module": "@jupyter-widgets/controls",
          "model_name": "HTMLModel",
          "model_module_version": "1.5.0",
          "state": {
            "_dom_classes": [],
            "_model_module": "@jupyter-widgets/controls",
            "_model_module_version": "1.5.0",
            "_model_name": "HTMLModel",
            "_view_count": null,
            "_view_module": "@jupyter-widgets/controls",
            "_view_module_version": "1.5.0",
            "_view_name": "HTMLView",
            "description": "",
            "description_tooltip": null,
            "layout": "IPY_MODEL_04fbb1eb7b58410dbe9f2a5caf70021d",
            "placeholder": "​",
            "style": "IPY_MODEL_2842f606cd314ceca9f7473bfd7f6af8",
            "value": "sentence_bert_config.json: 100%"
          }
        },
        "d1cb255b53814daf9be84dd8b77bd56c": {
          "model_module": "@jupyter-widgets/controls",
          "model_name": "FloatProgressModel",
          "model_module_version": "1.5.0",
          "state": {
            "_dom_classes": [],
            "_model_module": "@jupyter-widgets/controls",
            "_model_module_version": "1.5.0",
            "_model_name": "FloatProgressModel",
            "_view_count": null,
            "_view_module": "@jupyter-widgets/controls",
            "_view_module_version": "1.5.0",
            "_view_name": "ProgressView",
            "bar_style": "success",
            "description": "",
            "description_tooltip": null,
            "layout": "IPY_MODEL_4b89cc6d761c4d08b01c905ccdf27db4",
            "max": 53,
            "min": 0,
            "orientation": "horizontal",
            "style": "IPY_MODEL_4b92479f8b3249ddad45223a975704e9",
            "value": 53
          }
        },
        "fc1fce2e3cee4bd1ace9b12212297b20": {
          "model_module": "@jupyter-widgets/controls",
          "model_name": "HTMLModel",
          "model_module_version": "1.5.0",
          "state": {
            "_dom_classes": [],
            "_model_module": "@jupyter-widgets/controls",
            "_model_module_version": "1.5.0",
            "_model_name": "HTMLModel",
            "_view_count": null,
            "_view_module": "@jupyter-widgets/controls",
            "_view_module_version": "1.5.0",
            "_view_name": "HTMLView",
            "description": "",
            "description_tooltip": null,
            "layout": "IPY_MODEL_58789c95d6df48ad9e4be960c290d2e8",
            "placeholder": "​",
            "style": "IPY_MODEL_51973df7898945838aeb360ea370fa47",
            "value": " 53.0/53.0 [00:00&lt;00:00, 1.50kB/s]"
          }
        },
        "e2b6fa8758214ac5a27131c6de670d8b": {
          "model_module": "@jupyter-widgets/base",
          "model_name": "LayoutModel",
          "model_module_version": "1.2.0",
          "state": {
            "_model_module": "@jupyter-widgets/base",
            "_model_module_version": "1.2.0",
            "_model_name": "LayoutModel",
            "_view_count": null,
            "_view_module": "@jupyter-widgets/base",
            "_view_module_version": "1.2.0",
            "_view_name": "LayoutView",
            "align_content": null,
            "align_items": null,
            "align_self": null,
            "border": null,
            "bottom": null,
            "display": null,
            "flex": null,
            "flex_flow": null,
            "grid_area": null,
            "grid_auto_columns": null,
            "grid_auto_flow": null,
            "grid_auto_rows": null,
            "grid_column": null,
            "grid_gap": null,
            "grid_row": null,
            "grid_template_areas": null,
            "grid_template_columns": null,
            "grid_template_rows": null,
            "height": null,
            "justify_content": null,
            "justify_items": null,
            "left": null,
            "margin": null,
            "max_height": null,
            "max_width": null,
            "min_height": null,
            "min_width": null,
            "object_fit": null,
            "object_position": null,
            "order": null,
            "overflow": null,
            "overflow_x": null,
            "overflow_y": null,
            "padding": null,
            "right": null,
            "top": null,
            "visibility": null,
            "width": null
          }
        },
        "04fbb1eb7b58410dbe9f2a5caf70021d": {
          "model_module": "@jupyter-widgets/base",
          "model_name": "LayoutModel",
          "model_module_version": "1.2.0",
          "state": {
            "_model_module": "@jupyter-widgets/base",
            "_model_module_version": "1.2.0",
            "_model_name": "LayoutModel",
            "_view_count": null,
            "_view_module": "@jupyter-widgets/base",
            "_view_module_version": "1.2.0",
            "_view_name": "LayoutView",
            "align_content": null,
            "align_items": null,
            "align_self": null,
            "border": null,
            "bottom": null,
            "display": null,
            "flex": null,
            "flex_flow": null,
            "grid_area": null,
            "grid_auto_columns": null,
            "grid_auto_flow": null,
            "grid_auto_rows": null,
            "grid_column": null,
            "grid_gap": null,
            "grid_row": null,
            "grid_template_areas": null,
            "grid_template_columns": null,
            "grid_template_rows": null,
            "height": null,
            "justify_content": null,
            "justify_items": null,
            "left": null,
            "margin": null,
            "max_height": null,
            "max_width": null,
            "min_height": null,
            "min_width": null,
            "object_fit": null,
            "object_position": null,
            "order": null,
            "overflow": null,
            "overflow_x": null,
            "overflow_y": null,
            "padding": null,
            "right": null,
            "top": null,
            "visibility": null,
            "width": null
          }
        },
        "2842f606cd314ceca9f7473bfd7f6af8": {
          "model_module": "@jupyter-widgets/controls",
          "model_name": "DescriptionStyleModel",
          "model_module_version": "1.5.0",
          "state": {
            "_model_module": "@jupyter-widgets/controls",
            "_model_module_version": "1.5.0",
            "_model_name": "DescriptionStyleModel",
            "_view_count": null,
            "_view_module": "@jupyter-widgets/base",
            "_view_module_version": "1.2.0",
            "_view_name": "StyleView",
            "description_width": ""
          }
        },
        "4b89cc6d761c4d08b01c905ccdf27db4": {
          "model_module": "@jupyter-widgets/base",
          "model_name": "LayoutModel",
          "model_module_version": "1.2.0",
          "state": {
            "_model_module": "@jupyter-widgets/base",
            "_model_module_version": "1.2.0",
            "_model_name": "LayoutModel",
            "_view_count": null,
            "_view_module": "@jupyter-widgets/base",
            "_view_module_version": "1.2.0",
            "_view_name": "LayoutView",
            "align_content": null,
            "align_items": null,
            "align_self": null,
            "border": null,
            "bottom": null,
            "display": null,
            "flex": null,
            "flex_flow": null,
            "grid_area": null,
            "grid_auto_columns": null,
            "grid_auto_flow": null,
            "grid_auto_rows": null,
            "grid_column": null,
            "grid_gap": null,
            "grid_row": null,
            "grid_template_areas": null,
            "grid_template_columns": null,
            "grid_template_rows": null,
            "height": null,
            "justify_content": null,
            "justify_items": null,
            "left": null,
            "margin": null,
            "max_height": null,
            "max_width": null,
            "min_height": null,
            "min_width": null,
            "object_fit": null,
            "object_position": null,
            "order": null,
            "overflow": null,
            "overflow_x": null,
            "overflow_y": null,
            "padding": null,
            "right": null,
            "top": null,
            "visibility": null,
            "width": null
          }
        },
        "4b92479f8b3249ddad45223a975704e9": {
          "model_module": "@jupyter-widgets/controls",
          "model_name": "ProgressStyleModel",
          "model_module_version": "1.5.0",
          "state": {
            "_model_module": "@jupyter-widgets/controls",
            "_model_module_version": "1.5.0",
            "_model_name": "ProgressStyleModel",
            "_view_count": null,
            "_view_module": "@jupyter-widgets/base",
            "_view_module_version": "1.2.0",
            "_view_name": "StyleView",
            "bar_color": null,
            "description_width": ""
          }
        },
        "58789c95d6df48ad9e4be960c290d2e8": {
          "model_module": "@jupyter-widgets/base",
          "model_name": "LayoutModel",
          "model_module_version": "1.2.0",
          "state": {
            "_model_module": "@jupyter-widgets/base",
            "_model_module_version": "1.2.0",
            "_model_name": "LayoutModel",
            "_view_count": null,
            "_view_module": "@jupyter-widgets/base",
            "_view_module_version": "1.2.0",
            "_view_name": "LayoutView",
            "align_content": null,
            "align_items": null,
            "align_self": null,
            "border": null,
            "bottom": null,
            "display": null,
            "flex": null,
            "flex_flow": null,
            "grid_area": null,
            "grid_auto_columns": null,
            "grid_auto_flow": null,
            "grid_auto_rows": null,
            "grid_column": null,
            "grid_gap": null,
            "grid_row": null,
            "grid_template_areas": null,
            "grid_template_columns": null,
            "grid_template_rows": null,
            "height": null,
            "justify_content": null,
            "justify_items": null,
            "left": null,
            "margin": null,
            "max_height": null,
            "max_width": null,
            "min_height": null,
            "min_width": null,
            "object_fit": null,
            "object_position": null,
            "order": null,
            "overflow": null,
            "overflow_x": null,
            "overflow_y": null,
            "padding": null,
            "right": null,
            "top": null,
            "visibility": null,
            "width": null
          }
        },
        "51973df7898945838aeb360ea370fa47": {
          "model_module": "@jupyter-widgets/controls",
          "model_name": "DescriptionStyleModel",
          "model_module_version": "1.5.0",
          "state": {
            "_model_module": "@jupyter-widgets/controls",
            "_model_module_version": "1.5.0",
            "_model_name": "DescriptionStyleModel",
            "_view_count": null,
            "_view_module": "@jupyter-widgets/base",
            "_view_module_version": "1.2.0",
            "_view_name": "StyleView",
            "description_width": ""
          }
        },
        "649e0ce556c24dd9ba9c7cf6510e8f9e": {
          "model_module": "@jupyter-widgets/controls",
          "model_name": "HBoxModel",
          "model_module_version": "1.5.0",
          "state": {
            "_dom_classes": [],
            "_model_module": "@jupyter-widgets/controls",
            "_model_module_version": "1.5.0",
            "_model_name": "HBoxModel",
            "_view_count": null,
            "_view_module": "@jupyter-widgets/controls",
            "_view_module_version": "1.5.0",
            "_view_name": "HBoxView",
            "box_style": "",
            "children": [
              "IPY_MODEL_ca23384c1350424e92de002ac8f2e082",
              "IPY_MODEL_eeaeec3722164812afc5ebe8c7b3cc94",
              "IPY_MODEL_eeaf680d25914139a5e8d7740d810cbc"
            ],
            "layout": "IPY_MODEL_d38ec211a5a540cf8c8e85220a249cb6"
          }
        },
        "ca23384c1350424e92de002ac8f2e082": {
          "model_module": "@jupyter-widgets/controls",
          "model_name": "HTMLModel",
          "model_module_version": "1.5.0",
          "state": {
            "_dom_classes": [],
            "_model_module": "@jupyter-widgets/controls",
            "_model_module_version": "1.5.0",
            "_model_name": "HTMLModel",
            "_view_count": null,
            "_view_module": "@jupyter-widgets/controls",
            "_view_module_version": "1.5.0",
            "_view_name": "HTMLView",
            "description": "",
            "description_tooltip": null,
            "layout": "IPY_MODEL_b7ef73a0b2924a11a6216a4038742b3c",
            "placeholder": "​",
            "style": "IPY_MODEL_bfca8132e7c044e8b649b25de06d6dd8",
            "value": "config.json: 100%"
          }
        },
        "eeaeec3722164812afc5ebe8c7b3cc94": {
          "model_module": "@jupyter-widgets/controls",
          "model_name": "FloatProgressModel",
          "model_module_version": "1.5.0",
          "state": {
            "_dom_classes": [],
            "_model_module": "@jupyter-widgets/controls",
            "_model_module_version": "1.5.0",
            "_model_name": "FloatProgressModel",
            "_view_count": null,
            "_view_module": "@jupyter-widgets/controls",
            "_view_module_version": "1.5.0",
            "_view_name": "ProgressView",
            "bar_style": "success",
            "description": "",
            "description_tooltip": null,
            "layout": "IPY_MODEL_88291458ba0d40c9bd7f1daa5ae3a316",
            "max": 612,
            "min": 0,
            "orientation": "horizontal",
            "style": "IPY_MODEL_a369d0ff1674491c9a802b2501b97e11",
            "value": 612
          }
        },
        "eeaf680d25914139a5e8d7740d810cbc": {
          "model_module": "@jupyter-widgets/controls",
          "model_name": "HTMLModel",
          "model_module_version": "1.5.0",
          "state": {
            "_dom_classes": [],
            "_model_module": "@jupyter-widgets/controls",
            "_model_module_version": "1.5.0",
            "_model_name": "HTMLModel",
            "_view_count": null,
            "_view_module": "@jupyter-widgets/controls",
            "_view_module_version": "1.5.0",
            "_view_name": "HTMLView",
            "description": "",
            "description_tooltip": null,
            "layout": "IPY_MODEL_f38ffa3f47eb4bb5889b2625f20a7670",
            "placeholder": "​",
            "style": "IPY_MODEL_eec5a78728cc4c56963c5f4e599d72a9",
            "value": " 612/612 [00:00&lt;00:00, 24.7kB/s]"
          }
        },
        "d38ec211a5a540cf8c8e85220a249cb6": {
          "model_module": "@jupyter-widgets/base",
          "model_name": "LayoutModel",
          "model_module_version": "1.2.0",
          "state": {
            "_model_module": "@jupyter-widgets/base",
            "_model_module_version": "1.2.0",
            "_model_name": "LayoutModel",
            "_view_count": null,
            "_view_module": "@jupyter-widgets/base",
            "_view_module_version": "1.2.0",
            "_view_name": "LayoutView",
            "align_content": null,
            "align_items": null,
            "align_self": null,
            "border": null,
            "bottom": null,
            "display": null,
            "flex": null,
            "flex_flow": null,
            "grid_area": null,
            "grid_auto_columns": null,
            "grid_auto_flow": null,
            "grid_auto_rows": null,
            "grid_column": null,
            "grid_gap": null,
            "grid_row": null,
            "grid_template_areas": null,
            "grid_template_columns": null,
            "grid_template_rows": null,
            "height": null,
            "justify_content": null,
            "justify_items": null,
            "left": null,
            "margin": null,
            "max_height": null,
            "max_width": null,
            "min_height": null,
            "min_width": null,
            "object_fit": null,
            "object_position": null,
            "order": null,
            "overflow": null,
            "overflow_x": null,
            "overflow_y": null,
            "padding": null,
            "right": null,
            "top": null,
            "visibility": null,
            "width": null
          }
        },
        "b7ef73a0b2924a11a6216a4038742b3c": {
          "model_module": "@jupyter-widgets/base",
          "model_name": "LayoutModel",
          "model_module_version": "1.2.0",
          "state": {
            "_model_module": "@jupyter-widgets/base",
            "_model_module_version": "1.2.0",
            "_model_name": "LayoutModel",
            "_view_count": null,
            "_view_module": "@jupyter-widgets/base",
            "_view_module_version": "1.2.0",
            "_view_name": "LayoutView",
            "align_content": null,
            "align_items": null,
            "align_self": null,
            "border": null,
            "bottom": null,
            "display": null,
            "flex": null,
            "flex_flow": null,
            "grid_area": null,
            "grid_auto_columns": null,
            "grid_auto_flow": null,
            "grid_auto_rows": null,
            "grid_column": null,
            "grid_gap": null,
            "grid_row": null,
            "grid_template_areas": null,
            "grid_template_columns": null,
            "grid_template_rows": null,
            "height": null,
            "justify_content": null,
            "justify_items": null,
            "left": null,
            "margin": null,
            "max_height": null,
            "max_width": null,
            "min_height": null,
            "min_width": null,
            "object_fit": null,
            "object_position": null,
            "order": null,
            "overflow": null,
            "overflow_x": null,
            "overflow_y": null,
            "padding": null,
            "right": null,
            "top": null,
            "visibility": null,
            "width": null
          }
        },
        "bfca8132e7c044e8b649b25de06d6dd8": {
          "model_module": "@jupyter-widgets/controls",
          "model_name": "DescriptionStyleModel",
          "model_module_version": "1.5.0",
          "state": {
            "_model_module": "@jupyter-widgets/controls",
            "_model_module_version": "1.5.0",
            "_model_name": "DescriptionStyleModel",
            "_view_count": null,
            "_view_module": "@jupyter-widgets/base",
            "_view_module_version": "1.2.0",
            "_view_name": "StyleView",
            "description_width": ""
          }
        },
        "88291458ba0d40c9bd7f1daa5ae3a316": {
          "model_module": "@jupyter-widgets/base",
          "model_name": "LayoutModel",
          "model_module_version": "1.2.0",
          "state": {
            "_model_module": "@jupyter-widgets/base",
            "_model_module_version": "1.2.0",
            "_model_name": "LayoutModel",
            "_view_count": null,
            "_view_module": "@jupyter-widgets/base",
            "_view_module_version": "1.2.0",
            "_view_name": "LayoutView",
            "align_content": null,
            "align_items": null,
            "align_self": null,
            "border": null,
            "bottom": null,
            "display": null,
            "flex": null,
            "flex_flow": null,
            "grid_area": null,
            "grid_auto_columns": null,
            "grid_auto_flow": null,
            "grid_auto_rows": null,
            "grid_column": null,
            "grid_gap": null,
            "grid_row": null,
            "grid_template_areas": null,
            "grid_template_columns": null,
            "grid_template_rows": null,
            "height": null,
            "justify_content": null,
            "justify_items": null,
            "left": null,
            "margin": null,
            "max_height": null,
            "max_width": null,
            "min_height": null,
            "min_width": null,
            "object_fit": null,
            "object_position": null,
            "order": null,
            "overflow": null,
            "overflow_x": null,
            "overflow_y": null,
            "padding": null,
            "right": null,
            "top": null,
            "visibility": null,
            "width": null
          }
        },
        "a369d0ff1674491c9a802b2501b97e11": {
          "model_module": "@jupyter-widgets/controls",
          "model_name": "ProgressStyleModel",
          "model_module_version": "1.5.0",
          "state": {
            "_model_module": "@jupyter-widgets/controls",
            "_model_module_version": "1.5.0",
            "_model_name": "ProgressStyleModel",
            "_view_count": null,
            "_view_module": "@jupyter-widgets/base",
            "_view_module_version": "1.2.0",
            "_view_name": "StyleView",
            "bar_color": null,
            "description_width": ""
          }
        },
        "f38ffa3f47eb4bb5889b2625f20a7670": {
          "model_module": "@jupyter-widgets/base",
          "model_name": "LayoutModel",
          "model_module_version": "1.2.0",
          "state": {
            "_model_module": "@jupyter-widgets/base",
            "_model_module_version": "1.2.0",
            "_model_name": "LayoutModel",
            "_view_count": null,
            "_view_module": "@jupyter-widgets/base",
            "_view_module_version": "1.2.0",
            "_view_name": "LayoutView",
            "align_content": null,
            "align_items": null,
            "align_self": null,
            "border": null,
            "bottom": null,
            "display": null,
            "flex": null,
            "flex_flow": null,
            "grid_area": null,
            "grid_auto_columns": null,
            "grid_auto_flow": null,
            "grid_auto_rows": null,
            "grid_column": null,
            "grid_gap": null,
            "grid_row": null,
            "grid_template_areas": null,
            "grid_template_columns": null,
            "grid_template_rows": null,
            "height": null,
            "justify_content": null,
            "justify_items": null,
            "left": null,
            "margin": null,
            "max_height": null,
            "max_width": null,
            "min_height": null,
            "min_width": null,
            "object_fit": null,
            "object_position": null,
            "order": null,
            "overflow": null,
            "overflow_x": null,
            "overflow_y": null,
            "padding": null,
            "right": null,
            "top": null,
            "visibility": null,
            "width": null
          }
        },
        "eec5a78728cc4c56963c5f4e599d72a9": {
          "model_module": "@jupyter-widgets/controls",
          "model_name": "DescriptionStyleModel",
          "model_module_version": "1.5.0",
          "state": {
            "_model_module": "@jupyter-widgets/controls",
            "_model_module_version": "1.5.0",
            "_model_name": "DescriptionStyleModel",
            "_view_count": null,
            "_view_module": "@jupyter-widgets/base",
            "_view_module_version": "1.2.0",
            "_view_name": "StyleView",
            "description_width": ""
          }
        },
        "5895920c2cbb4ac1942c008759302109": {
          "model_module": "@jupyter-widgets/controls",
          "model_name": "HBoxModel",
          "model_module_version": "1.5.0",
          "state": {
            "_dom_classes": [],
            "_model_module": "@jupyter-widgets/controls",
            "_model_module_version": "1.5.0",
            "_model_name": "HBoxModel",
            "_view_count": null,
            "_view_module": "@jupyter-widgets/controls",
            "_view_module_version": "1.5.0",
            "_view_name": "HBoxView",
            "box_style": "",
            "children": [
              "IPY_MODEL_8bc240adffdf463d85afd5673263cb7b",
              "IPY_MODEL_aee2e705ce1d40039510f1437cfe83f3",
              "IPY_MODEL_2d6f8bdb7d3347979cb9c821c4c70267"
            ],
            "layout": "IPY_MODEL_8075909ac5eb4b36b232a4fa6199c190"
          }
        },
        "8bc240adffdf463d85afd5673263cb7b": {
          "model_module": "@jupyter-widgets/controls",
          "model_name": "HTMLModel",
          "model_module_version": "1.5.0",
          "state": {
            "_dom_classes": [],
            "_model_module": "@jupyter-widgets/controls",
            "_model_module_version": "1.5.0",
            "_model_name": "HTMLModel",
            "_view_count": null,
            "_view_module": "@jupyter-widgets/controls",
            "_view_module_version": "1.5.0",
            "_view_name": "HTMLView",
            "description": "",
            "description_tooltip": null,
            "layout": "IPY_MODEL_e25bf924d18d45cdbc2c7c08154acdc2",
            "placeholder": "​",
            "style": "IPY_MODEL_c42e18d0d8d446f1ac0694e79205be90",
            "value": "model.safetensors: 100%"
          }
        },
        "aee2e705ce1d40039510f1437cfe83f3": {
          "model_module": "@jupyter-widgets/controls",
          "model_name": "FloatProgressModel",
          "model_module_version": "1.5.0",
          "state": {
            "_dom_classes": [],
            "_model_module": "@jupyter-widgets/controls",
            "_model_module_version": "1.5.0",
            "_model_name": "FloatProgressModel",
            "_view_count": null,
            "_view_module": "@jupyter-widgets/controls",
            "_view_module_version": "1.5.0",
            "_view_name": "ProgressView",
            "bar_style": "success",
            "description": "",
            "description_tooltip": null,
            "layout": "IPY_MODEL_ed00286fd11b4a438e120e7f274f86da",
            "max": 90868376,
            "min": 0,
            "orientation": "horizontal",
            "style": "IPY_MODEL_4c85020cf5a040ce863af934f6143205",
            "value": 90868376
          }
        },
        "2d6f8bdb7d3347979cb9c821c4c70267": {
          "model_module": "@jupyter-widgets/controls",
          "model_name": "HTMLModel",
          "model_module_version": "1.5.0",
          "state": {
            "_dom_classes": [],
            "_model_module": "@jupyter-widgets/controls",
            "_model_module_version": "1.5.0",
            "_model_name": "HTMLModel",
            "_view_count": null,
            "_view_module": "@jupyter-widgets/controls",
            "_view_module_version": "1.5.0",
            "_view_name": "HTMLView",
            "description": "",
            "description_tooltip": null,
            "layout": "IPY_MODEL_efc8b75ea97e4d859c588e5506f8eb6b",
            "placeholder": "​",
            "style": "IPY_MODEL_813442bf91f3478f97cbcac69266e6ab",
            "value": " 90.9M/90.9M [00:01&lt;00:00, 112MB/s]"
          }
        },
        "8075909ac5eb4b36b232a4fa6199c190": {
          "model_module": "@jupyter-widgets/base",
          "model_name": "LayoutModel",
          "model_module_version": "1.2.0",
          "state": {
            "_model_module": "@jupyter-widgets/base",
            "_model_module_version": "1.2.0",
            "_model_name": "LayoutModel",
            "_view_count": null,
            "_view_module": "@jupyter-widgets/base",
            "_view_module_version": "1.2.0",
            "_view_name": "LayoutView",
            "align_content": null,
            "align_items": null,
            "align_self": null,
            "border": null,
            "bottom": null,
            "display": null,
            "flex": null,
            "flex_flow": null,
            "grid_area": null,
            "grid_auto_columns": null,
            "grid_auto_flow": null,
            "grid_auto_rows": null,
            "grid_column": null,
            "grid_gap": null,
            "grid_row": null,
            "grid_template_areas": null,
            "grid_template_columns": null,
            "grid_template_rows": null,
            "height": null,
            "justify_content": null,
            "justify_items": null,
            "left": null,
            "margin": null,
            "max_height": null,
            "max_width": null,
            "min_height": null,
            "min_width": null,
            "object_fit": null,
            "object_position": null,
            "order": null,
            "overflow": null,
            "overflow_x": null,
            "overflow_y": null,
            "padding": null,
            "right": null,
            "top": null,
            "visibility": null,
            "width": null
          }
        },
        "e25bf924d18d45cdbc2c7c08154acdc2": {
          "model_module": "@jupyter-widgets/base",
          "model_name": "LayoutModel",
          "model_module_version": "1.2.0",
          "state": {
            "_model_module": "@jupyter-widgets/base",
            "_model_module_version": "1.2.0",
            "_model_name": "LayoutModel",
            "_view_count": null,
            "_view_module": "@jupyter-widgets/base",
            "_view_module_version": "1.2.0",
            "_view_name": "LayoutView",
            "align_content": null,
            "align_items": null,
            "align_self": null,
            "border": null,
            "bottom": null,
            "display": null,
            "flex": null,
            "flex_flow": null,
            "grid_area": null,
            "grid_auto_columns": null,
            "grid_auto_flow": null,
            "grid_auto_rows": null,
            "grid_column": null,
            "grid_gap": null,
            "grid_row": null,
            "grid_template_areas": null,
            "grid_template_columns": null,
            "grid_template_rows": null,
            "height": null,
            "justify_content": null,
            "justify_items": null,
            "left": null,
            "margin": null,
            "max_height": null,
            "max_width": null,
            "min_height": null,
            "min_width": null,
            "object_fit": null,
            "object_position": null,
            "order": null,
            "overflow": null,
            "overflow_x": null,
            "overflow_y": null,
            "padding": null,
            "right": null,
            "top": null,
            "visibility": null,
            "width": null
          }
        },
        "c42e18d0d8d446f1ac0694e79205be90": {
          "model_module": "@jupyter-widgets/controls",
          "model_name": "DescriptionStyleModel",
          "model_module_version": "1.5.0",
          "state": {
            "_model_module": "@jupyter-widgets/controls",
            "_model_module_version": "1.5.0",
            "_model_name": "DescriptionStyleModel",
            "_view_count": null,
            "_view_module": "@jupyter-widgets/base",
            "_view_module_version": "1.2.0",
            "_view_name": "StyleView",
            "description_width": ""
          }
        },
        "ed00286fd11b4a438e120e7f274f86da": {
          "model_module": "@jupyter-widgets/base",
          "model_name": "LayoutModel",
          "model_module_version": "1.2.0",
          "state": {
            "_model_module": "@jupyter-widgets/base",
            "_model_module_version": "1.2.0",
            "_model_name": "LayoutModel",
            "_view_count": null,
            "_view_module": "@jupyter-widgets/base",
            "_view_module_version": "1.2.0",
            "_view_name": "LayoutView",
            "align_content": null,
            "align_items": null,
            "align_self": null,
            "border": null,
            "bottom": null,
            "display": null,
            "flex": null,
            "flex_flow": null,
            "grid_area": null,
            "grid_auto_columns": null,
            "grid_auto_flow": null,
            "grid_auto_rows": null,
            "grid_column": null,
            "grid_gap": null,
            "grid_row": null,
            "grid_template_areas": null,
            "grid_template_columns": null,
            "grid_template_rows": null,
            "height": null,
            "justify_content": null,
            "justify_items": null,
            "left": null,
            "margin": null,
            "max_height": null,
            "max_width": null,
            "min_height": null,
            "min_width": null,
            "object_fit": null,
            "object_position": null,
            "order": null,
            "overflow": null,
            "overflow_x": null,
            "overflow_y": null,
            "padding": null,
            "right": null,
            "top": null,
            "visibility": null,
            "width": null
          }
        },
        "4c85020cf5a040ce863af934f6143205": {
          "model_module": "@jupyter-widgets/controls",
          "model_name": "ProgressStyleModel",
          "model_module_version": "1.5.0",
          "state": {
            "_model_module": "@jupyter-widgets/controls",
            "_model_module_version": "1.5.0",
            "_model_name": "ProgressStyleModel",
            "_view_count": null,
            "_view_module": "@jupyter-widgets/base",
            "_view_module_version": "1.2.0",
            "_view_name": "StyleView",
            "bar_color": null,
            "description_width": ""
          }
        },
        "efc8b75ea97e4d859c588e5506f8eb6b": {
          "model_module": "@jupyter-widgets/base",
          "model_name": "LayoutModel",
          "model_module_version": "1.2.0",
          "state": {
            "_model_module": "@jupyter-widgets/base",
            "_model_module_version": "1.2.0",
            "_model_name": "LayoutModel",
            "_view_count": null,
            "_view_module": "@jupyter-widgets/base",
            "_view_module_version": "1.2.0",
            "_view_name": "LayoutView",
            "align_content": null,
            "align_items": null,
            "align_self": null,
            "border": null,
            "bottom": null,
            "display": null,
            "flex": null,
            "flex_flow": null,
            "grid_area": null,
            "grid_auto_columns": null,
            "grid_auto_flow": null,
            "grid_auto_rows": null,
            "grid_column": null,
            "grid_gap": null,
            "grid_row": null,
            "grid_template_areas": null,
            "grid_template_columns": null,
            "grid_template_rows": null,
            "height": null,
            "justify_content": null,
            "justify_items": null,
            "left": null,
            "margin": null,
            "max_height": null,
            "max_width": null,
            "min_height": null,
            "min_width": null,
            "object_fit": null,
            "object_position": null,
            "order": null,
            "overflow": null,
            "overflow_x": null,
            "overflow_y": null,
            "padding": null,
            "right": null,
            "top": null,
            "visibility": null,
            "width": null
          }
        },
        "813442bf91f3478f97cbcac69266e6ab": {
          "model_module": "@jupyter-widgets/controls",
          "model_name": "DescriptionStyleModel",
          "model_module_version": "1.5.0",
          "state": {
            "_model_module": "@jupyter-widgets/controls",
            "_model_module_version": "1.5.0",
            "_model_name": "DescriptionStyleModel",
            "_view_count": null,
            "_view_module": "@jupyter-widgets/base",
            "_view_module_version": "1.2.0",
            "_view_name": "StyleView",
            "description_width": ""
          }
        },
        "83845cee674847e8aea0e8e27972d0be": {
          "model_module": "@jupyter-widgets/controls",
          "model_name": "HBoxModel",
          "model_module_version": "1.5.0",
          "state": {
            "_dom_classes": [],
            "_model_module": "@jupyter-widgets/controls",
            "_model_module_version": "1.5.0",
            "_model_name": "HBoxModel",
            "_view_count": null,
            "_view_module": "@jupyter-widgets/controls",
            "_view_module_version": "1.5.0",
            "_view_name": "HBoxView",
            "box_style": "",
            "children": [
              "IPY_MODEL_67d4f8dab59e49b3bc404438ee6d046b",
              "IPY_MODEL_6a9c14a8c11e4a5296e39e184da2adf3",
              "IPY_MODEL_5c491ccb3eeb43b9a446cb0a8287e052"
            ],
            "layout": "IPY_MODEL_5d10822656a04043800ace68088a8566"
          }
        },
        "67d4f8dab59e49b3bc404438ee6d046b": {
          "model_module": "@jupyter-widgets/controls",
          "model_name": "HTMLModel",
          "model_module_version": "1.5.0",
          "state": {
            "_dom_classes": [],
            "_model_module": "@jupyter-widgets/controls",
            "_model_module_version": "1.5.0",
            "_model_name": "HTMLModel",
            "_view_count": null,
            "_view_module": "@jupyter-widgets/controls",
            "_view_module_version": "1.5.0",
            "_view_name": "HTMLView",
            "description": "",
            "description_tooltip": null,
            "layout": "IPY_MODEL_98868b2d2d044bbeb8ebc981dbf8a833",
            "placeholder": "​",
            "style": "IPY_MODEL_ecea3b59554d4d99855d4c4a109c7a7f",
            "value": "tokenizer_config.json: 100%"
          }
        },
        "6a9c14a8c11e4a5296e39e184da2adf3": {
          "model_module": "@jupyter-widgets/controls",
          "model_name": "FloatProgressModel",
          "model_module_version": "1.5.0",
          "state": {
            "_dom_classes": [],
            "_model_module": "@jupyter-widgets/controls",
            "_model_module_version": "1.5.0",
            "_model_name": "FloatProgressModel",
            "_view_count": null,
            "_view_module": "@jupyter-widgets/controls",
            "_view_module_version": "1.5.0",
            "_view_name": "ProgressView",
            "bar_style": "success",
            "description": "",
            "description_tooltip": null,
            "layout": "IPY_MODEL_14ef82d74184439fa63d29f494d11d48",
            "max": 350,
            "min": 0,
            "orientation": "horizontal",
            "style": "IPY_MODEL_ae162980a65240ad8e506170da14fa83",
            "value": 350
          }
        },
        "5c491ccb3eeb43b9a446cb0a8287e052": {
          "model_module": "@jupyter-widgets/controls",
          "model_name": "HTMLModel",
          "model_module_version": "1.5.0",
          "state": {
            "_dom_classes": [],
            "_model_module": "@jupyter-widgets/controls",
            "_model_module_version": "1.5.0",
            "_model_name": "HTMLModel",
            "_view_count": null,
            "_view_module": "@jupyter-widgets/controls",
            "_view_module_version": "1.5.0",
            "_view_name": "HTMLView",
            "description": "",
            "description_tooltip": null,
            "layout": "IPY_MODEL_e5681feb025d4a898b97a41e31d763bf",
            "placeholder": "​",
            "style": "IPY_MODEL_528ac3aeb2e845ae9543a1091da96dd0",
            "value": " 350/350 [00:00&lt;00:00, 11.7kB/s]"
          }
        },
        "5d10822656a04043800ace68088a8566": {
          "model_module": "@jupyter-widgets/base",
          "model_name": "LayoutModel",
          "model_module_version": "1.2.0",
          "state": {
            "_model_module": "@jupyter-widgets/base",
            "_model_module_version": "1.2.0",
            "_model_name": "LayoutModel",
            "_view_count": null,
            "_view_module": "@jupyter-widgets/base",
            "_view_module_version": "1.2.0",
            "_view_name": "LayoutView",
            "align_content": null,
            "align_items": null,
            "align_self": null,
            "border": null,
            "bottom": null,
            "display": null,
            "flex": null,
            "flex_flow": null,
            "grid_area": null,
            "grid_auto_columns": null,
            "grid_auto_flow": null,
            "grid_auto_rows": null,
            "grid_column": null,
            "grid_gap": null,
            "grid_row": null,
            "grid_template_areas": null,
            "grid_template_columns": null,
            "grid_template_rows": null,
            "height": null,
            "justify_content": null,
            "justify_items": null,
            "left": null,
            "margin": null,
            "max_height": null,
            "max_width": null,
            "min_height": null,
            "min_width": null,
            "object_fit": null,
            "object_position": null,
            "order": null,
            "overflow": null,
            "overflow_x": null,
            "overflow_y": null,
            "padding": null,
            "right": null,
            "top": null,
            "visibility": null,
            "width": null
          }
        },
        "98868b2d2d044bbeb8ebc981dbf8a833": {
          "model_module": "@jupyter-widgets/base",
          "model_name": "LayoutModel",
          "model_module_version": "1.2.0",
          "state": {
            "_model_module": "@jupyter-widgets/base",
            "_model_module_version": "1.2.0",
            "_model_name": "LayoutModel",
            "_view_count": null,
            "_view_module": "@jupyter-widgets/base",
            "_view_module_version": "1.2.0",
            "_view_name": "LayoutView",
            "align_content": null,
            "align_items": null,
            "align_self": null,
            "border": null,
            "bottom": null,
            "display": null,
            "flex": null,
            "flex_flow": null,
            "grid_area": null,
            "grid_auto_columns": null,
            "grid_auto_flow": null,
            "grid_auto_rows": null,
            "grid_column": null,
            "grid_gap": null,
            "grid_row": null,
            "grid_template_areas": null,
            "grid_template_columns": null,
            "grid_template_rows": null,
            "height": null,
            "justify_content": null,
            "justify_items": null,
            "left": null,
            "margin": null,
            "max_height": null,
            "max_width": null,
            "min_height": null,
            "min_width": null,
            "object_fit": null,
            "object_position": null,
            "order": null,
            "overflow": null,
            "overflow_x": null,
            "overflow_y": null,
            "padding": null,
            "right": null,
            "top": null,
            "visibility": null,
            "width": null
          }
        },
        "ecea3b59554d4d99855d4c4a109c7a7f": {
          "model_module": "@jupyter-widgets/controls",
          "model_name": "DescriptionStyleModel",
          "model_module_version": "1.5.0",
          "state": {
            "_model_module": "@jupyter-widgets/controls",
            "_model_module_version": "1.5.0",
            "_model_name": "DescriptionStyleModel",
            "_view_count": null,
            "_view_module": "@jupyter-widgets/base",
            "_view_module_version": "1.2.0",
            "_view_name": "StyleView",
            "description_width": ""
          }
        },
        "14ef82d74184439fa63d29f494d11d48": {
          "model_module": "@jupyter-widgets/base",
          "model_name": "LayoutModel",
          "model_module_version": "1.2.0",
          "state": {
            "_model_module": "@jupyter-widgets/base",
            "_model_module_version": "1.2.0",
            "_model_name": "LayoutModel",
            "_view_count": null,
            "_view_module": "@jupyter-widgets/base",
            "_view_module_version": "1.2.0",
            "_view_name": "LayoutView",
            "align_content": null,
            "align_items": null,
            "align_self": null,
            "border": null,
            "bottom": null,
            "display": null,
            "flex": null,
            "flex_flow": null,
            "grid_area": null,
            "grid_auto_columns": null,
            "grid_auto_flow": null,
            "grid_auto_rows": null,
            "grid_column": null,
            "grid_gap": null,
            "grid_row": null,
            "grid_template_areas": null,
            "grid_template_columns": null,
            "grid_template_rows": null,
            "height": null,
            "justify_content": null,
            "justify_items": null,
            "left": null,
            "margin": null,
            "max_height": null,
            "max_width": null,
            "min_height": null,
            "min_width": null,
            "object_fit": null,
            "object_position": null,
            "order": null,
            "overflow": null,
            "overflow_x": null,
            "overflow_y": null,
            "padding": null,
            "right": null,
            "top": null,
            "visibility": null,
            "width": null
          }
        },
        "ae162980a65240ad8e506170da14fa83": {
          "model_module": "@jupyter-widgets/controls",
          "model_name": "ProgressStyleModel",
          "model_module_version": "1.5.0",
          "state": {
            "_model_module": "@jupyter-widgets/controls",
            "_model_module_version": "1.5.0",
            "_model_name": "ProgressStyleModel",
            "_view_count": null,
            "_view_module": "@jupyter-widgets/base",
            "_view_module_version": "1.2.0",
            "_view_name": "StyleView",
            "bar_color": null,
            "description_width": ""
          }
        },
        "e5681feb025d4a898b97a41e31d763bf": {
          "model_module": "@jupyter-widgets/base",
          "model_name": "LayoutModel",
          "model_module_version": "1.2.0",
          "state": {
            "_model_module": "@jupyter-widgets/base",
            "_model_module_version": "1.2.0",
            "_model_name": "LayoutModel",
            "_view_count": null,
            "_view_module": "@jupyter-widgets/base",
            "_view_module_version": "1.2.0",
            "_view_name": "LayoutView",
            "align_content": null,
            "align_items": null,
            "align_self": null,
            "border": null,
            "bottom": null,
            "display": null,
            "flex": null,
            "flex_flow": null,
            "grid_area": null,
            "grid_auto_columns": null,
            "grid_auto_flow": null,
            "grid_auto_rows": null,
            "grid_column": null,
            "grid_gap": null,
            "grid_row": null,
            "grid_template_areas": null,
            "grid_template_columns": null,
            "grid_template_rows": null,
            "height": null,
            "justify_content": null,
            "justify_items": null,
            "left": null,
            "margin": null,
            "max_height": null,
            "max_width": null,
            "min_height": null,
            "min_width": null,
            "object_fit": null,
            "object_position": null,
            "order": null,
            "overflow": null,
            "overflow_x": null,
            "overflow_y": null,
            "padding": null,
            "right": null,
            "top": null,
            "visibility": null,
            "width": null
          }
        },
        "528ac3aeb2e845ae9543a1091da96dd0": {
          "model_module": "@jupyter-widgets/controls",
          "model_name": "DescriptionStyleModel",
          "model_module_version": "1.5.0",
          "state": {
            "_model_module": "@jupyter-widgets/controls",
            "_model_module_version": "1.5.0",
            "_model_name": "DescriptionStyleModel",
            "_view_count": null,
            "_view_module": "@jupyter-widgets/base",
            "_view_module_version": "1.2.0",
            "_view_name": "StyleView",
            "description_width": ""
          }
        },
        "9af6568b488240de853c79062bd8a569": {
          "model_module": "@jupyter-widgets/controls",
          "model_name": "HBoxModel",
          "model_module_version": "1.5.0",
          "state": {
            "_dom_classes": [],
            "_model_module": "@jupyter-widgets/controls",
            "_model_module_version": "1.5.0",
            "_model_name": "HBoxModel",
            "_view_count": null,
            "_view_module": "@jupyter-widgets/controls",
            "_view_module_version": "1.5.0",
            "_view_name": "HBoxView",
            "box_style": "",
            "children": [
              "IPY_MODEL_6f0339a3236346c5b1847aa0ad901978",
              "IPY_MODEL_d4887733910946c1b07d14ba480fda94",
              "IPY_MODEL_4c8c72aea9bb4d20bd986e0af501f89f"
            ],
            "layout": "IPY_MODEL_ad8b632c3faa4d3daa1aa674fd30280b"
          }
        },
        "6f0339a3236346c5b1847aa0ad901978": {
          "model_module": "@jupyter-widgets/controls",
          "model_name": "HTMLModel",
          "model_module_version": "1.5.0",
          "state": {
            "_dom_classes": [],
            "_model_module": "@jupyter-widgets/controls",
            "_model_module_version": "1.5.0",
            "_model_name": "HTMLModel",
            "_view_count": null,
            "_view_module": "@jupyter-widgets/controls",
            "_view_module_version": "1.5.0",
            "_view_name": "HTMLView",
            "description": "",
            "description_tooltip": null,
            "layout": "IPY_MODEL_11796bad694c4664a1dfcc55b0a7b933",
            "placeholder": "​",
            "style": "IPY_MODEL_bd6ae3fd0af342be8ece82d3e34a2d80",
            "value": "vocab.txt: 100%"
          }
        },
        "d4887733910946c1b07d14ba480fda94": {
          "model_module": "@jupyter-widgets/controls",
          "model_name": "FloatProgressModel",
          "model_module_version": "1.5.0",
          "state": {
            "_dom_classes": [],
            "_model_module": "@jupyter-widgets/controls",
            "_model_module_version": "1.5.0",
            "_model_name": "FloatProgressModel",
            "_view_count": null,
            "_view_module": "@jupyter-widgets/controls",
            "_view_module_version": "1.5.0",
            "_view_name": "ProgressView",
            "bar_style": "success",
            "description": "",
            "description_tooltip": null,
            "layout": "IPY_MODEL_a9d03bf127804193a29d0608ca15d8ed",
            "max": 231508,
            "min": 0,
            "orientation": "horizontal",
            "style": "IPY_MODEL_455b168e1e8c410b8b44669b66b6b8cc",
            "value": 231508
          }
        },
        "4c8c72aea9bb4d20bd986e0af501f89f": {
          "model_module": "@jupyter-widgets/controls",
          "model_name": "HTMLModel",
          "model_module_version": "1.5.0",
          "state": {
            "_dom_classes": [],
            "_model_module": "@jupyter-widgets/controls",
            "_model_module_version": "1.5.0",
            "_model_name": "HTMLModel",
            "_view_count": null,
            "_view_module": "@jupyter-widgets/controls",
            "_view_module_version": "1.5.0",
            "_view_name": "HTMLView",
            "description": "",
            "description_tooltip": null,
            "layout": "IPY_MODEL_7953352f1849404bb202fdea109af284",
            "placeholder": "​",
            "style": "IPY_MODEL_1945aa98dfd945b68cb82147e6ce8f15",
            "value": " 232k/232k [00:00&lt;00:00, 2.77MB/s]"
          }
        },
        "ad8b632c3faa4d3daa1aa674fd30280b": {
          "model_module": "@jupyter-widgets/base",
          "model_name": "LayoutModel",
          "model_module_version": "1.2.0",
          "state": {
            "_model_module": "@jupyter-widgets/base",
            "_model_module_version": "1.2.0",
            "_model_name": "LayoutModel",
            "_view_count": null,
            "_view_module": "@jupyter-widgets/base",
            "_view_module_version": "1.2.0",
            "_view_name": "LayoutView",
            "align_content": null,
            "align_items": null,
            "align_self": null,
            "border": null,
            "bottom": null,
            "display": null,
            "flex": null,
            "flex_flow": null,
            "grid_area": null,
            "grid_auto_columns": null,
            "grid_auto_flow": null,
            "grid_auto_rows": null,
            "grid_column": null,
            "grid_gap": null,
            "grid_row": null,
            "grid_template_areas": null,
            "grid_template_columns": null,
            "grid_template_rows": null,
            "height": null,
            "justify_content": null,
            "justify_items": null,
            "left": null,
            "margin": null,
            "max_height": null,
            "max_width": null,
            "min_height": null,
            "min_width": null,
            "object_fit": null,
            "object_position": null,
            "order": null,
            "overflow": null,
            "overflow_x": null,
            "overflow_y": null,
            "padding": null,
            "right": null,
            "top": null,
            "visibility": null,
            "width": null
          }
        },
        "11796bad694c4664a1dfcc55b0a7b933": {
          "model_module": "@jupyter-widgets/base",
          "model_name": "LayoutModel",
          "model_module_version": "1.2.0",
          "state": {
            "_model_module": "@jupyter-widgets/base",
            "_model_module_version": "1.2.0",
            "_model_name": "LayoutModel",
            "_view_count": null,
            "_view_module": "@jupyter-widgets/base",
            "_view_module_version": "1.2.0",
            "_view_name": "LayoutView",
            "align_content": null,
            "align_items": null,
            "align_self": null,
            "border": null,
            "bottom": null,
            "display": null,
            "flex": null,
            "flex_flow": null,
            "grid_area": null,
            "grid_auto_columns": null,
            "grid_auto_flow": null,
            "grid_auto_rows": null,
            "grid_column": null,
            "grid_gap": null,
            "grid_row": null,
            "grid_template_areas": null,
            "grid_template_columns": null,
            "grid_template_rows": null,
            "height": null,
            "justify_content": null,
            "justify_items": null,
            "left": null,
            "margin": null,
            "max_height": null,
            "max_width": null,
            "min_height": null,
            "min_width": null,
            "object_fit": null,
            "object_position": null,
            "order": null,
            "overflow": null,
            "overflow_x": null,
            "overflow_y": null,
            "padding": null,
            "right": null,
            "top": null,
            "visibility": null,
            "width": null
          }
        },
        "bd6ae3fd0af342be8ece82d3e34a2d80": {
          "model_module": "@jupyter-widgets/controls",
          "model_name": "DescriptionStyleModel",
          "model_module_version": "1.5.0",
          "state": {
            "_model_module": "@jupyter-widgets/controls",
            "_model_module_version": "1.5.0",
            "_model_name": "DescriptionStyleModel",
            "_view_count": null,
            "_view_module": "@jupyter-widgets/base",
            "_view_module_version": "1.2.0",
            "_view_name": "StyleView",
            "description_width": ""
          }
        },
        "a9d03bf127804193a29d0608ca15d8ed": {
          "model_module": "@jupyter-widgets/base",
          "model_name": "LayoutModel",
          "model_module_version": "1.2.0",
          "state": {
            "_model_module": "@jupyter-widgets/base",
            "_model_module_version": "1.2.0",
            "_model_name": "LayoutModel",
            "_view_count": null,
            "_view_module": "@jupyter-widgets/base",
            "_view_module_version": "1.2.0",
            "_view_name": "LayoutView",
            "align_content": null,
            "align_items": null,
            "align_self": null,
            "border": null,
            "bottom": null,
            "display": null,
            "flex": null,
            "flex_flow": null,
            "grid_area": null,
            "grid_auto_columns": null,
            "grid_auto_flow": null,
            "grid_auto_rows": null,
            "grid_column": null,
            "grid_gap": null,
            "grid_row": null,
            "grid_template_areas": null,
            "grid_template_columns": null,
            "grid_template_rows": null,
            "height": null,
            "justify_content": null,
            "justify_items": null,
            "left": null,
            "margin": null,
            "max_height": null,
            "max_width": null,
            "min_height": null,
            "min_width": null,
            "object_fit": null,
            "object_position": null,
            "order": null,
            "overflow": null,
            "overflow_x": null,
            "overflow_y": null,
            "padding": null,
            "right": null,
            "top": null,
            "visibility": null,
            "width": null
          }
        },
        "455b168e1e8c410b8b44669b66b6b8cc": {
          "model_module": "@jupyter-widgets/controls",
          "model_name": "ProgressStyleModel",
          "model_module_version": "1.5.0",
          "state": {
            "_model_module": "@jupyter-widgets/controls",
            "_model_module_version": "1.5.0",
            "_model_name": "ProgressStyleModel",
            "_view_count": null,
            "_view_module": "@jupyter-widgets/base",
            "_view_module_version": "1.2.0",
            "_view_name": "StyleView",
            "bar_color": null,
            "description_width": ""
          }
        },
        "7953352f1849404bb202fdea109af284": {
          "model_module": "@jupyter-widgets/base",
          "model_name": "LayoutModel",
          "model_module_version": "1.2.0",
          "state": {
            "_model_module": "@jupyter-widgets/base",
            "_model_module_version": "1.2.0",
            "_model_name": "LayoutModel",
            "_view_count": null,
            "_view_module": "@jupyter-widgets/base",
            "_view_module_version": "1.2.0",
            "_view_name": "LayoutView",
            "align_content": null,
            "align_items": null,
            "align_self": null,
            "border": null,
            "bottom": null,
            "display": null,
            "flex": null,
            "flex_flow": null,
            "grid_area": null,
            "grid_auto_columns": null,
            "grid_auto_flow": null,
            "grid_auto_rows": null,
            "grid_column": null,
            "grid_gap": null,
            "grid_row": null,
            "grid_template_areas": null,
            "grid_template_columns": null,
            "grid_template_rows": null,
            "height": null,
            "justify_content": null,
            "justify_items": null,
            "left": null,
            "margin": null,
            "max_height": null,
            "max_width": null,
            "min_height": null,
            "min_width": null,
            "object_fit": null,
            "object_position": null,
            "order": null,
            "overflow": null,
            "overflow_x": null,
            "overflow_y": null,
            "padding": null,
            "right": null,
            "top": null,
            "visibility": null,
            "width": null
          }
        },
        "1945aa98dfd945b68cb82147e6ce8f15": {
          "model_module": "@jupyter-widgets/controls",
          "model_name": "DescriptionStyleModel",
          "model_module_version": "1.5.0",
          "state": {
            "_model_module": "@jupyter-widgets/controls",
            "_model_module_version": "1.5.0",
            "_model_name": "DescriptionStyleModel",
            "_view_count": null,
            "_view_module": "@jupyter-widgets/base",
            "_view_module_version": "1.2.0",
            "_view_name": "StyleView",
            "description_width": ""
          }
        },
        "ad5275cd86764a1980a3825dbc7100c1": {
          "model_module": "@jupyter-widgets/controls",
          "model_name": "HBoxModel",
          "model_module_version": "1.5.0",
          "state": {
            "_dom_classes": [],
            "_model_module": "@jupyter-widgets/controls",
            "_model_module_version": "1.5.0",
            "_model_name": "HBoxModel",
            "_view_count": null,
            "_view_module": "@jupyter-widgets/controls",
            "_view_module_version": "1.5.0",
            "_view_name": "HBoxView",
            "box_style": "",
            "children": [
              "IPY_MODEL_78d40176c96042208163206762cbcaa3",
              "IPY_MODEL_1e95ff2c1057415b9ccf5533f788ff4d",
              "IPY_MODEL_10ed6d3e63af4adaa63e88fa1ab71441"
            ],
            "layout": "IPY_MODEL_1e2fc4f38acf4afa8b5e76263390e1f3"
          }
        },
        "78d40176c96042208163206762cbcaa3": {
          "model_module": "@jupyter-widgets/controls",
          "model_name": "HTMLModel",
          "model_module_version": "1.5.0",
          "state": {
            "_dom_classes": [],
            "_model_module": "@jupyter-widgets/controls",
            "_model_module_version": "1.5.0",
            "_model_name": "HTMLModel",
            "_view_count": null,
            "_view_module": "@jupyter-widgets/controls",
            "_view_module_version": "1.5.0",
            "_view_name": "HTMLView",
            "description": "",
            "description_tooltip": null,
            "layout": "IPY_MODEL_80d81ec64f2d4652bc53dd4a7615ba32",
            "placeholder": "​",
            "style": "IPY_MODEL_272a98da66054076903c71d9d19300e1",
            "value": "tokenizer.json: 100%"
          }
        },
        "1e95ff2c1057415b9ccf5533f788ff4d": {
          "model_module": "@jupyter-widgets/controls",
          "model_name": "FloatProgressModel",
          "model_module_version": "1.5.0",
          "state": {
            "_dom_classes": [],
            "_model_module": "@jupyter-widgets/controls",
            "_model_module_version": "1.5.0",
            "_model_name": "FloatProgressModel",
            "_view_count": null,
            "_view_module": "@jupyter-widgets/controls",
            "_view_module_version": "1.5.0",
            "_view_name": "ProgressView",
            "bar_style": "success",
            "description": "",
            "description_tooltip": null,
            "layout": "IPY_MODEL_7f3200f7ccb74049af87fd8693ad0a5a",
            "max": 466247,
            "min": 0,
            "orientation": "horizontal",
            "style": "IPY_MODEL_1e705f1fc80845c3be460ca32c7b1961",
            "value": 466247
          }
        },
        "10ed6d3e63af4adaa63e88fa1ab71441": {
          "model_module": "@jupyter-widgets/controls",
          "model_name": "HTMLModel",
          "model_module_version": "1.5.0",
          "state": {
            "_dom_classes": [],
            "_model_module": "@jupyter-widgets/controls",
            "_model_module_version": "1.5.0",
            "_model_name": "HTMLModel",
            "_view_count": null,
            "_view_module": "@jupyter-widgets/controls",
            "_view_module_version": "1.5.0",
            "_view_name": "HTMLView",
            "description": "",
            "description_tooltip": null,
            "layout": "IPY_MODEL_9693230e2a2a42c8af40ea552eb9770b",
            "placeholder": "​",
            "style": "IPY_MODEL_dae2f720aa5546a7ae6e2bfa677f2238",
            "value": " 466k/466k [00:00&lt;00:00, 9.59MB/s]"
          }
        },
        "1e2fc4f38acf4afa8b5e76263390e1f3": {
          "model_module": "@jupyter-widgets/base",
          "model_name": "LayoutModel",
          "model_module_version": "1.2.0",
          "state": {
            "_model_module": "@jupyter-widgets/base",
            "_model_module_version": "1.2.0",
            "_model_name": "LayoutModel",
            "_view_count": null,
            "_view_module": "@jupyter-widgets/base",
            "_view_module_version": "1.2.0",
            "_view_name": "LayoutView",
            "align_content": null,
            "align_items": null,
            "align_self": null,
            "border": null,
            "bottom": null,
            "display": null,
            "flex": null,
            "flex_flow": null,
            "grid_area": null,
            "grid_auto_columns": null,
            "grid_auto_flow": null,
            "grid_auto_rows": null,
            "grid_column": null,
            "grid_gap": null,
            "grid_row": null,
            "grid_template_areas": null,
            "grid_template_columns": null,
            "grid_template_rows": null,
            "height": null,
            "justify_content": null,
            "justify_items": null,
            "left": null,
            "margin": null,
            "max_height": null,
            "max_width": null,
            "min_height": null,
            "min_width": null,
            "object_fit": null,
            "object_position": null,
            "order": null,
            "overflow": null,
            "overflow_x": null,
            "overflow_y": null,
            "padding": null,
            "right": null,
            "top": null,
            "visibility": null,
            "width": null
          }
        },
        "80d81ec64f2d4652bc53dd4a7615ba32": {
          "model_module": "@jupyter-widgets/base",
          "model_name": "LayoutModel",
          "model_module_version": "1.2.0",
          "state": {
            "_model_module": "@jupyter-widgets/base",
            "_model_module_version": "1.2.0",
            "_model_name": "LayoutModel",
            "_view_count": null,
            "_view_module": "@jupyter-widgets/base",
            "_view_module_version": "1.2.0",
            "_view_name": "LayoutView",
            "align_content": null,
            "align_items": null,
            "align_self": null,
            "border": null,
            "bottom": null,
            "display": null,
            "flex": null,
            "flex_flow": null,
            "grid_area": null,
            "grid_auto_columns": null,
            "grid_auto_flow": null,
            "grid_auto_rows": null,
            "grid_column": null,
            "grid_gap": null,
            "grid_row": null,
            "grid_template_areas": null,
            "grid_template_columns": null,
            "grid_template_rows": null,
            "height": null,
            "justify_content": null,
            "justify_items": null,
            "left": null,
            "margin": null,
            "max_height": null,
            "max_width": null,
            "min_height": null,
            "min_width": null,
            "object_fit": null,
            "object_position": null,
            "order": null,
            "overflow": null,
            "overflow_x": null,
            "overflow_y": null,
            "padding": null,
            "right": null,
            "top": null,
            "visibility": null,
            "width": null
          }
        },
        "272a98da66054076903c71d9d19300e1": {
          "model_module": "@jupyter-widgets/controls",
          "model_name": "DescriptionStyleModel",
          "model_module_version": "1.5.0",
          "state": {
            "_model_module": "@jupyter-widgets/controls",
            "_model_module_version": "1.5.0",
            "_model_name": "DescriptionStyleModel",
            "_view_count": null,
            "_view_module": "@jupyter-widgets/base",
            "_view_module_version": "1.2.0",
            "_view_name": "StyleView",
            "description_width": ""
          }
        },
        "7f3200f7ccb74049af87fd8693ad0a5a": {
          "model_module": "@jupyter-widgets/base",
          "model_name": "LayoutModel",
          "model_module_version": "1.2.0",
          "state": {
            "_model_module": "@jupyter-widgets/base",
            "_model_module_version": "1.2.0",
            "_model_name": "LayoutModel",
            "_view_count": null,
            "_view_module": "@jupyter-widgets/base",
            "_view_module_version": "1.2.0",
            "_view_name": "LayoutView",
            "align_content": null,
            "align_items": null,
            "align_self": null,
            "border": null,
            "bottom": null,
            "display": null,
            "flex": null,
            "flex_flow": null,
            "grid_area": null,
            "grid_auto_columns": null,
            "grid_auto_flow": null,
            "grid_auto_rows": null,
            "grid_column": null,
            "grid_gap": null,
            "grid_row": null,
            "grid_template_areas": null,
            "grid_template_columns": null,
            "grid_template_rows": null,
            "height": null,
            "justify_content": null,
            "justify_items": null,
            "left": null,
            "margin": null,
            "max_height": null,
            "max_width": null,
            "min_height": null,
            "min_width": null,
            "object_fit": null,
            "object_position": null,
            "order": null,
            "overflow": null,
            "overflow_x": null,
            "overflow_y": null,
            "padding": null,
            "right": null,
            "top": null,
            "visibility": null,
            "width": null
          }
        },
        "1e705f1fc80845c3be460ca32c7b1961": {
          "model_module": "@jupyter-widgets/controls",
          "model_name": "ProgressStyleModel",
          "model_module_version": "1.5.0",
          "state": {
            "_model_module": "@jupyter-widgets/controls",
            "_model_module_version": "1.5.0",
            "_model_name": "ProgressStyleModel",
            "_view_count": null,
            "_view_module": "@jupyter-widgets/base",
            "_view_module_version": "1.2.0",
            "_view_name": "StyleView",
            "bar_color": null,
            "description_width": ""
          }
        },
        "9693230e2a2a42c8af40ea552eb9770b": {
          "model_module": "@jupyter-widgets/base",
          "model_name": "LayoutModel",
          "model_module_version": "1.2.0",
          "state": {
            "_model_module": "@jupyter-widgets/base",
            "_model_module_version": "1.2.0",
            "_model_name": "LayoutModel",
            "_view_count": null,
            "_view_module": "@jupyter-widgets/base",
            "_view_module_version": "1.2.0",
            "_view_name": "LayoutView",
            "align_content": null,
            "align_items": null,
            "align_self": null,
            "border": null,
            "bottom": null,
            "display": null,
            "flex": null,
            "flex_flow": null,
            "grid_area": null,
            "grid_auto_columns": null,
            "grid_auto_flow": null,
            "grid_auto_rows": null,
            "grid_column": null,
            "grid_gap": null,
            "grid_row": null,
            "grid_template_areas": null,
            "grid_template_columns": null,
            "grid_template_rows": null,
            "height": null,
            "justify_content": null,
            "justify_items": null,
            "left": null,
            "margin": null,
            "max_height": null,
            "max_width": null,
            "min_height": null,
            "min_width": null,
            "object_fit": null,
            "object_position": null,
            "order": null,
            "overflow": null,
            "overflow_x": null,
            "overflow_y": null,
            "padding": null,
            "right": null,
            "top": null,
            "visibility": null,
            "width": null
          }
        },
        "dae2f720aa5546a7ae6e2bfa677f2238": {
          "model_module": "@jupyter-widgets/controls",
          "model_name": "DescriptionStyleModel",
          "model_module_version": "1.5.0",
          "state": {
            "_model_module": "@jupyter-widgets/controls",
            "_model_module_version": "1.5.0",
            "_model_name": "DescriptionStyleModel",
            "_view_count": null,
            "_view_module": "@jupyter-widgets/base",
            "_view_module_version": "1.2.0",
            "_view_name": "StyleView",
            "description_width": ""
          }
        },
        "2eb35398d2bc4172bc8364c217cde8be": {
          "model_module": "@jupyter-widgets/controls",
          "model_name": "HBoxModel",
          "model_module_version": "1.5.0",
          "state": {
            "_dom_classes": [],
            "_model_module": "@jupyter-widgets/controls",
            "_model_module_version": "1.5.0",
            "_model_name": "HBoxModel",
            "_view_count": null,
            "_view_module": "@jupyter-widgets/controls",
            "_view_module_version": "1.5.0",
            "_view_name": "HBoxView",
            "box_style": "",
            "children": [
              "IPY_MODEL_51fe85263da641e5af710aa1553f5ec6",
              "IPY_MODEL_d0a325c6bf894441a606120913879ef5",
              "IPY_MODEL_dbe8d4736f244a859cd3222fc3492821"
            ],
            "layout": "IPY_MODEL_ad560bc2eba049d5bd467c49d21467a2"
          }
        },
        "51fe85263da641e5af710aa1553f5ec6": {
          "model_module": "@jupyter-widgets/controls",
          "model_name": "HTMLModel",
          "model_module_version": "1.5.0",
          "state": {
            "_dom_classes": [],
            "_model_module": "@jupyter-widgets/controls",
            "_model_module_version": "1.5.0",
            "_model_name": "HTMLModel",
            "_view_count": null,
            "_view_module": "@jupyter-widgets/controls",
            "_view_module_version": "1.5.0",
            "_view_name": "HTMLView",
            "description": "",
            "description_tooltip": null,
            "layout": "IPY_MODEL_5ef4c26b227e4750b7e0760a221a9183",
            "placeholder": "​",
            "style": "IPY_MODEL_1c6790af93e04bd1949ae82f683ef7dd",
            "value": "special_tokens_map.json: 100%"
          }
        },
        "d0a325c6bf894441a606120913879ef5": {
          "model_module": "@jupyter-widgets/controls",
          "model_name": "FloatProgressModel",
          "model_module_version": "1.5.0",
          "state": {
            "_dom_classes": [],
            "_model_module": "@jupyter-widgets/controls",
            "_model_module_version": "1.5.0",
            "_model_name": "FloatProgressModel",
            "_view_count": null,
            "_view_module": "@jupyter-widgets/controls",
            "_view_module_version": "1.5.0",
            "_view_name": "ProgressView",
            "bar_style": "success",
            "description": "",
            "description_tooltip": null,
            "layout": "IPY_MODEL_51d1b586b90841ff8c990c593ec7081c",
            "max": 112,
            "min": 0,
            "orientation": "horizontal",
            "style": "IPY_MODEL_6de417786a2d497b8ccf6ba0202dfe2d",
            "value": 112
          }
        },
        "dbe8d4736f244a859cd3222fc3492821": {
          "model_module": "@jupyter-widgets/controls",
          "model_name": "HTMLModel",
          "model_module_version": "1.5.0",
          "state": {
            "_dom_classes": [],
            "_model_module": "@jupyter-widgets/controls",
            "_model_module_version": "1.5.0",
            "_model_name": "HTMLModel",
            "_view_count": null,
            "_view_module": "@jupyter-widgets/controls",
            "_view_module_version": "1.5.0",
            "_view_name": "HTMLView",
            "description": "",
            "description_tooltip": null,
            "layout": "IPY_MODEL_e2ac920f97614eda8007ff7709015816",
            "placeholder": "​",
            "style": "IPY_MODEL_8f5759ccdeb04985b5d544bf7bd0f8cb",
            "value": " 112/112 [00:00&lt;00:00, 3.98kB/s]"
          }
        },
        "ad560bc2eba049d5bd467c49d21467a2": {
          "model_module": "@jupyter-widgets/base",
          "model_name": "LayoutModel",
          "model_module_version": "1.2.0",
          "state": {
            "_model_module": "@jupyter-widgets/base",
            "_model_module_version": "1.2.0",
            "_model_name": "LayoutModel",
            "_view_count": null,
            "_view_module": "@jupyter-widgets/base",
            "_view_module_version": "1.2.0",
            "_view_name": "LayoutView",
            "align_content": null,
            "align_items": null,
            "align_self": null,
            "border": null,
            "bottom": null,
            "display": null,
            "flex": null,
            "flex_flow": null,
            "grid_area": null,
            "grid_auto_columns": null,
            "grid_auto_flow": null,
            "grid_auto_rows": null,
            "grid_column": null,
            "grid_gap": null,
            "grid_row": null,
            "grid_template_areas": null,
            "grid_template_columns": null,
            "grid_template_rows": null,
            "height": null,
            "justify_content": null,
            "justify_items": null,
            "left": null,
            "margin": null,
            "max_height": null,
            "max_width": null,
            "min_height": null,
            "min_width": null,
            "object_fit": null,
            "object_position": null,
            "order": null,
            "overflow": null,
            "overflow_x": null,
            "overflow_y": null,
            "padding": null,
            "right": null,
            "top": null,
            "visibility": null,
            "width": null
          }
        },
        "5ef4c26b227e4750b7e0760a221a9183": {
          "model_module": "@jupyter-widgets/base",
          "model_name": "LayoutModel",
          "model_module_version": "1.2.0",
          "state": {
            "_model_module": "@jupyter-widgets/base",
            "_model_module_version": "1.2.0",
            "_model_name": "LayoutModel",
            "_view_count": null,
            "_view_module": "@jupyter-widgets/base",
            "_view_module_version": "1.2.0",
            "_view_name": "LayoutView",
            "align_content": null,
            "align_items": null,
            "align_self": null,
            "border": null,
            "bottom": null,
            "display": null,
            "flex": null,
            "flex_flow": null,
            "grid_area": null,
            "grid_auto_columns": null,
            "grid_auto_flow": null,
            "grid_auto_rows": null,
            "grid_column": null,
            "grid_gap": null,
            "grid_row": null,
            "grid_template_areas": null,
            "grid_template_columns": null,
            "grid_template_rows": null,
            "height": null,
            "justify_content": null,
            "justify_items": null,
            "left": null,
            "margin": null,
            "max_height": null,
            "max_width": null,
            "min_height": null,
            "min_width": null,
            "object_fit": null,
            "object_position": null,
            "order": null,
            "overflow": null,
            "overflow_x": null,
            "overflow_y": null,
            "padding": null,
            "right": null,
            "top": null,
            "visibility": null,
            "width": null
          }
        },
        "1c6790af93e04bd1949ae82f683ef7dd": {
          "model_module": "@jupyter-widgets/controls",
          "model_name": "DescriptionStyleModel",
          "model_module_version": "1.5.0",
          "state": {
            "_model_module": "@jupyter-widgets/controls",
            "_model_module_version": "1.5.0",
            "_model_name": "DescriptionStyleModel",
            "_view_count": null,
            "_view_module": "@jupyter-widgets/base",
            "_view_module_version": "1.2.0",
            "_view_name": "StyleView",
            "description_width": ""
          }
        },
        "51d1b586b90841ff8c990c593ec7081c": {
          "model_module": "@jupyter-widgets/base",
          "model_name": "LayoutModel",
          "model_module_version": "1.2.0",
          "state": {
            "_model_module": "@jupyter-widgets/base",
            "_model_module_version": "1.2.0",
            "_model_name": "LayoutModel",
            "_view_count": null,
            "_view_module": "@jupyter-widgets/base",
            "_view_module_version": "1.2.0",
            "_view_name": "LayoutView",
            "align_content": null,
            "align_items": null,
            "align_self": null,
            "border": null,
            "bottom": null,
            "display": null,
            "flex": null,
            "flex_flow": null,
            "grid_area": null,
            "grid_auto_columns": null,
            "grid_auto_flow": null,
            "grid_auto_rows": null,
            "grid_column": null,
            "grid_gap": null,
            "grid_row": null,
            "grid_template_areas": null,
            "grid_template_columns": null,
            "grid_template_rows": null,
            "height": null,
            "justify_content": null,
            "justify_items": null,
            "left": null,
            "margin": null,
            "max_height": null,
            "max_width": null,
            "min_height": null,
            "min_width": null,
            "object_fit": null,
            "object_position": null,
            "order": null,
            "overflow": null,
            "overflow_x": null,
            "overflow_y": null,
            "padding": null,
            "right": null,
            "top": null,
            "visibility": null,
            "width": null
          }
        },
        "6de417786a2d497b8ccf6ba0202dfe2d": {
          "model_module": "@jupyter-widgets/controls",
          "model_name": "ProgressStyleModel",
          "model_module_version": "1.5.0",
          "state": {
            "_model_module": "@jupyter-widgets/controls",
            "_model_module_version": "1.5.0",
            "_model_name": "ProgressStyleModel",
            "_view_count": null,
            "_view_module": "@jupyter-widgets/base",
            "_view_module_version": "1.2.0",
            "_view_name": "StyleView",
            "bar_color": null,
            "description_width": ""
          }
        },
        "e2ac920f97614eda8007ff7709015816": {
          "model_module": "@jupyter-widgets/base",
          "model_name": "LayoutModel",
          "model_module_version": "1.2.0",
          "state": {
            "_model_module": "@jupyter-widgets/base",
            "_model_module_version": "1.2.0",
            "_model_name": "LayoutModel",
            "_view_count": null,
            "_view_module": "@jupyter-widgets/base",
            "_view_module_version": "1.2.0",
            "_view_name": "LayoutView",
            "align_content": null,
            "align_items": null,
            "align_self": null,
            "border": null,
            "bottom": null,
            "display": null,
            "flex": null,
            "flex_flow": null,
            "grid_area": null,
            "grid_auto_columns": null,
            "grid_auto_flow": null,
            "grid_auto_rows": null,
            "grid_column": null,
            "grid_gap": null,
            "grid_row": null,
            "grid_template_areas": null,
            "grid_template_columns": null,
            "grid_template_rows": null,
            "height": null,
            "justify_content": null,
            "justify_items": null,
            "left": null,
            "margin": null,
            "max_height": null,
            "max_width": null,
            "min_height": null,
            "min_width": null,
            "object_fit": null,
            "object_position": null,
            "order": null,
            "overflow": null,
            "overflow_x": null,
            "overflow_y": null,
            "padding": null,
            "right": null,
            "top": null,
            "visibility": null,
            "width": null
          }
        },
        "8f5759ccdeb04985b5d544bf7bd0f8cb": {
          "model_module": "@jupyter-widgets/controls",
          "model_name": "DescriptionStyleModel",
          "model_module_version": "1.5.0",
          "state": {
            "_model_module": "@jupyter-widgets/controls",
            "_model_module_version": "1.5.0",
            "_model_name": "DescriptionStyleModel",
            "_view_count": null,
            "_view_module": "@jupyter-widgets/base",
            "_view_module_version": "1.2.0",
            "_view_name": "StyleView",
            "description_width": ""
          }
        },
        "4e4eba82cc3d4cf4b2ee74e8716d7c79": {
          "model_module": "@jupyter-widgets/controls",
          "model_name": "HBoxModel",
          "model_module_version": "1.5.0",
          "state": {
            "_dom_classes": [],
            "_model_module": "@jupyter-widgets/controls",
            "_model_module_version": "1.5.0",
            "_model_name": "HBoxModel",
            "_view_count": null,
            "_view_module": "@jupyter-widgets/controls",
            "_view_module_version": "1.5.0",
            "_view_name": "HBoxView",
            "box_style": "",
            "children": [
              "IPY_MODEL_93298b1daa9342b49c40f51d75f289b7",
              "IPY_MODEL_b02ece5b6cdd4d77acce799064f1c4a1",
              "IPY_MODEL_a8fefa4e9cbb431998e9f9418e309bcf"
            ],
            "layout": "IPY_MODEL_511ae240c9744fe3bb1365696592dcf4"
          }
        },
        "93298b1daa9342b49c40f51d75f289b7": {
          "model_module": "@jupyter-widgets/controls",
          "model_name": "HTMLModel",
          "model_module_version": "1.5.0",
          "state": {
            "_dom_classes": [],
            "_model_module": "@jupyter-widgets/controls",
            "_model_module_version": "1.5.0",
            "_model_name": "HTMLModel",
            "_view_count": null,
            "_view_module": "@jupyter-widgets/controls",
            "_view_module_version": "1.5.0",
            "_view_name": "HTMLView",
            "description": "",
            "description_tooltip": null,
            "layout": "IPY_MODEL_2158a525cad1492a9c3861044de6dac6",
            "placeholder": "​",
            "style": "IPY_MODEL_3c1363d8fa644bea9a3f0905250656d0",
            "value": "1_Pooling/config.json: 100%"
          }
        },
        "b02ece5b6cdd4d77acce799064f1c4a1": {
          "model_module": "@jupyter-widgets/controls",
          "model_name": "FloatProgressModel",
          "model_module_version": "1.5.0",
          "state": {
            "_dom_classes": [],
            "_model_module": "@jupyter-widgets/controls",
            "_model_module_version": "1.5.0",
            "_model_name": "FloatProgressModel",
            "_view_count": null,
            "_view_module": "@jupyter-widgets/controls",
            "_view_module_version": "1.5.0",
            "_view_name": "ProgressView",
            "bar_style": "success",
            "description": "",
            "description_tooltip": null,
            "layout": "IPY_MODEL_bbde387f07444fe3a1aea5c47ef6c298",
            "max": 190,
            "min": 0,
            "orientation": "horizontal",
            "style": "IPY_MODEL_bc87a09ea023489fbe8a37ec5cbe66ad",
            "value": 190
          }
        },
        "a8fefa4e9cbb431998e9f9418e309bcf": {
          "model_module": "@jupyter-widgets/controls",
          "model_name": "HTMLModel",
          "model_module_version": "1.5.0",
          "state": {
            "_dom_classes": [],
            "_model_module": "@jupyter-widgets/controls",
            "_model_module_version": "1.5.0",
            "_model_name": "HTMLModel",
            "_view_count": null,
            "_view_module": "@jupyter-widgets/controls",
            "_view_module_version": "1.5.0",
            "_view_name": "HTMLView",
            "description": "",
            "description_tooltip": null,
            "layout": "IPY_MODEL_a04a01f9436747f49f29f9406b3b105a",
            "placeholder": "​",
            "style": "IPY_MODEL_e85d2a992368480b9f751f48c67ca498",
            "value": " 190/190 [00:00&lt;00:00, 7.15kB/s]"
          }
        },
        "511ae240c9744fe3bb1365696592dcf4": {
          "model_module": "@jupyter-widgets/base",
          "model_name": "LayoutModel",
          "model_module_version": "1.2.0",
          "state": {
            "_model_module": "@jupyter-widgets/base",
            "_model_module_version": "1.2.0",
            "_model_name": "LayoutModel",
            "_view_count": null,
            "_view_module": "@jupyter-widgets/base",
            "_view_module_version": "1.2.0",
            "_view_name": "LayoutView",
            "align_content": null,
            "align_items": null,
            "align_self": null,
            "border": null,
            "bottom": null,
            "display": null,
            "flex": null,
            "flex_flow": null,
            "grid_area": null,
            "grid_auto_columns": null,
            "grid_auto_flow": null,
            "grid_auto_rows": null,
            "grid_column": null,
            "grid_gap": null,
            "grid_row": null,
            "grid_template_areas": null,
            "grid_template_columns": null,
            "grid_template_rows": null,
            "height": null,
            "justify_content": null,
            "justify_items": null,
            "left": null,
            "margin": null,
            "max_height": null,
            "max_width": null,
            "min_height": null,
            "min_width": null,
            "object_fit": null,
            "object_position": null,
            "order": null,
            "overflow": null,
            "overflow_x": null,
            "overflow_y": null,
            "padding": null,
            "right": null,
            "top": null,
            "visibility": null,
            "width": null
          }
        },
        "2158a525cad1492a9c3861044de6dac6": {
          "model_module": "@jupyter-widgets/base",
          "model_name": "LayoutModel",
          "model_module_version": "1.2.0",
          "state": {
            "_model_module": "@jupyter-widgets/base",
            "_model_module_version": "1.2.0",
            "_model_name": "LayoutModel",
            "_view_count": null,
            "_view_module": "@jupyter-widgets/base",
            "_view_module_version": "1.2.0",
            "_view_name": "LayoutView",
            "align_content": null,
            "align_items": null,
            "align_self": null,
            "border": null,
            "bottom": null,
            "display": null,
            "flex": null,
            "flex_flow": null,
            "grid_area": null,
            "grid_auto_columns": null,
            "grid_auto_flow": null,
            "grid_auto_rows": null,
            "grid_column": null,
            "grid_gap": null,
            "grid_row": null,
            "grid_template_areas": null,
            "grid_template_columns": null,
            "grid_template_rows": null,
            "height": null,
            "justify_content": null,
            "justify_items": null,
            "left": null,
            "margin": null,
            "max_height": null,
            "max_width": null,
            "min_height": null,
            "min_width": null,
            "object_fit": null,
            "object_position": null,
            "order": null,
            "overflow": null,
            "overflow_x": null,
            "overflow_y": null,
            "padding": null,
            "right": null,
            "top": null,
            "visibility": null,
            "width": null
          }
        },
        "3c1363d8fa644bea9a3f0905250656d0": {
          "model_module": "@jupyter-widgets/controls",
          "model_name": "DescriptionStyleModel",
          "model_module_version": "1.5.0",
          "state": {
            "_model_module": "@jupyter-widgets/controls",
            "_model_module_version": "1.5.0",
            "_model_name": "DescriptionStyleModel",
            "_view_count": null,
            "_view_module": "@jupyter-widgets/base",
            "_view_module_version": "1.2.0",
            "_view_name": "StyleView",
            "description_width": ""
          }
        },
        "bbde387f07444fe3a1aea5c47ef6c298": {
          "model_module": "@jupyter-widgets/base",
          "model_name": "LayoutModel",
          "model_module_version": "1.2.0",
          "state": {
            "_model_module": "@jupyter-widgets/base",
            "_model_module_version": "1.2.0",
            "_model_name": "LayoutModel",
            "_view_count": null,
            "_view_module": "@jupyter-widgets/base",
            "_view_module_version": "1.2.0",
            "_view_name": "LayoutView",
            "align_content": null,
            "align_items": null,
            "align_self": null,
            "border": null,
            "bottom": null,
            "display": null,
            "flex": null,
            "flex_flow": null,
            "grid_area": null,
            "grid_auto_columns": null,
            "grid_auto_flow": null,
            "grid_auto_rows": null,
            "grid_column": null,
            "grid_gap": null,
            "grid_row": null,
            "grid_template_areas": null,
            "grid_template_columns": null,
            "grid_template_rows": null,
            "height": null,
            "justify_content": null,
            "justify_items": null,
            "left": null,
            "margin": null,
            "max_height": null,
            "max_width": null,
            "min_height": null,
            "min_width": null,
            "object_fit": null,
            "object_position": null,
            "order": null,
            "overflow": null,
            "overflow_x": null,
            "overflow_y": null,
            "padding": null,
            "right": null,
            "top": null,
            "visibility": null,
            "width": null
          }
        },
        "bc87a09ea023489fbe8a37ec5cbe66ad": {
          "model_module": "@jupyter-widgets/controls",
          "model_name": "ProgressStyleModel",
          "model_module_version": "1.5.0",
          "state": {
            "_model_module": "@jupyter-widgets/controls",
            "_model_module_version": "1.5.0",
            "_model_name": "ProgressStyleModel",
            "_view_count": null,
            "_view_module": "@jupyter-widgets/base",
            "_view_module_version": "1.2.0",
            "_view_name": "StyleView",
            "bar_color": null,
            "description_width": ""
          }
        },
        "a04a01f9436747f49f29f9406b3b105a": {
          "model_module": "@jupyter-widgets/base",
          "model_name": "LayoutModel",
          "model_module_version": "1.2.0",
          "state": {
            "_model_module": "@jupyter-widgets/base",
            "_model_module_version": "1.2.0",
            "_model_name": "LayoutModel",
            "_view_count": null,
            "_view_module": "@jupyter-widgets/base",
            "_view_module_version": "1.2.0",
            "_view_name": "LayoutView",
            "align_content": null,
            "align_items": null,
            "align_self": null,
            "border": null,
            "bottom": null,
            "display": null,
            "flex": null,
            "flex_flow": null,
            "grid_area": null,
            "grid_auto_columns": null,
            "grid_auto_flow": null,
            "grid_auto_rows": null,
            "grid_column": null,
            "grid_gap": null,
            "grid_row": null,
            "grid_template_areas": null,
            "grid_template_columns": null,
            "grid_template_rows": null,
            "height": null,
            "justify_content": null,
            "justify_items": null,
            "left": null,
            "margin": null,
            "max_height": null,
            "max_width": null,
            "min_height": null,
            "min_width": null,
            "object_fit": null,
            "object_position": null,
            "order": null,
            "overflow": null,
            "overflow_x": null,
            "overflow_y": null,
            "padding": null,
            "right": null,
            "top": null,
            "visibility": null,
            "width": null
          }
        },
        "e85d2a992368480b9f751f48c67ca498": {
          "model_module": "@jupyter-widgets/controls",
          "model_name": "DescriptionStyleModel",
          "model_module_version": "1.5.0",
          "state": {
            "_model_module": "@jupyter-widgets/controls",
            "_model_module_version": "1.5.0",
            "_model_name": "DescriptionStyleModel",
            "_view_count": null,
            "_view_module": "@jupyter-widgets/base",
            "_view_module_version": "1.2.0",
            "_view_name": "StyleView",
            "description_width": ""
          }
        }
      }
    }
  },
  "cells": [
    {
      "cell_type": "code",
      "source": [
        "%pip install langchain langchain_core --quiet"
      ],
      "metadata": {
        "id": "2AxSbtBOEs31",
        "colab": {
          "base_uri": "https://localhost:8080/"
        },
        "outputId": "cea32e26-4ced-4b6e-c0f1-53baa9b9ef0b"
      },
      "execution_count": null,
      "outputs": [
        {
          "output_type": "stream",
          "name": "stdout",
          "text": [
            "\u001b[2K     \u001b[90m━━━━━━━━━━━━━━━━━━━━━━━━━━━━━━━━━━━━━━━━\u001b[0m \u001b[32m975.5/975.5 kB\u001b[0m \u001b[31m5.6 MB/s\u001b[0m eta \u001b[36m0:00:00\u001b[0m\n",
            "\u001b[2K     \u001b[90m━━━━━━━━━━━━━━━━━━━━━━━━━━━━━━━━━━━━━━━━\u001b[0m \u001b[32m332.8/332.8 kB\u001b[0m \u001b[31m7.2 MB/s\u001b[0m eta \u001b[36m0:00:00\u001b[0m\n",
            "\u001b[2K     \u001b[90m━━━━━━━━━━━━━━━━━━━━━━━━━━━━━━━━━━━━━━━━\u001b[0m \u001b[32m127.4/127.4 kB\u001b[0m \u001b[31m9.5 MB/s\u001b[0m eta \u001b[36m0:00:00\u001b[0m\n",
            "\u001b[2K     \u001b[90m━━━━━━━━━━━━━━━━━━━━━━━━━━━━━━━━━━━━━━━━\u001b[0m \u001b[32m145.0/145.0 kB\u001b[0m \u001b[31m8.3 MB/s\u001b[0m eta \u001b[36m0:00:00\u001b[0m\n",
            "\u001b[?25h"
          ]
        }
      ]
    },
    {
      "cell_type": "markdown",
      "source": [
        "## Retrieval Augmented Generation (RAG)\n",
        "\n",
        "A prompting technique, proposed by [lewis et al](https://arxiv.org/abs/2005.11401) that combines methods from Information Retrieval (IR) and Natural Language Generation (NLG) to ground an LLM's response given relevant context to a query. Common applications lie in Closed and Open-Domain Question Answering tasks. It has become one of the go to techniques in industry and research because it is low-cost and quite straightforward to implement at scale. It mainly relies on an \"emergent property\" of LLMs called in-context learning.  \n",
        "\n",
        "**Setup:**\n",
        "\n",
        "1. [Document Loaders](https://python.langchain.com/v0.1/docs/modules/data_connection/document_loaders/)\n",
        "\n",
        "2.  [Split Documents](https://python.langchain.com/v0.1/docs/modules/data_connection/document_transformers/)\n",
        "\n",
        "3. [Embed Splits](https://python.langchain.com/v0.1/docs/modules/data_connection/text_embedding/)\n",
        "\n",
        "4. [Index Embeddings](https://python.langchain.com/v0.1/docs/modules/data_connection/vectorstores/)\n",
        "\n",
        "5. [Retrieve](https://python.langchain.com/v0.1/docs/modules/data_connection/retrievers/)\n",
        "\n",
        "6. [Build RAG Chain](https://python.langchain.com/v0.1/docs/modules/chains/)\n",
        "\n",
        "\n",
        "## Evaluation & LogProbs (extra)\n",
        "\n",
        "[logprobs](https://python.langchain.com/v0.2/docs/how_to/logprobs/)"
      ],
      "metadata": {
        "id": "uOcJoV0Yp6aB"
      }
    },
    {
      "cell_type": "markdown",
      "source": [
        "## Loading Documents\n",
        "\n",
        "There are many formats supported: CSV, PDF, TXT, MD, Directories (i.e., folders), HTML, and JSON. You can also write a custom class to support specific types of documents. The only difference with regular python functions to read files is that these document loaders return LangChain `Document` objects readily available for further text processing."
      ],
      "metadata": {
        "id": "LlpoEfqsR6fG"
      }
    },
    {
      "cell_type": "code",
      "source": [
        "%pip install langchain_community pypdf --quiet"
      ],
      "metadata": {
        "id": "31tPup9NJ2Xd",
        "colab": {
          "base_uri": "https://localhost:8080/"
        },
        "outputId": "95edb98f-69e8-434a-86d8-3ea207bc07fb"
      },
      "execution_count": null,
      "outputs": [
        {
          "output_type": "stream",
          "name": "stdout",
          "text": [
            "\u001b[2K     \u001b[90m━━━━━━━━━━━━━━━━━━━━━━━━━━━━━━━━━━━━━━━━\u001b[0m \u001b[32m2.2/2.2 MB\u001b[0m \u001b[31m18.9 MB/s\u001b[0m eta \u001b[36m0:00:00\u001b[0m\n",
            "\u001b[2K     \u001b[90m━━━━━━━━━━━━━━━━━━━━━━━━━━━━━━━━━━━━━━━━\u001b[0m \u001b[32m290.4/290.4 kB\u001b[0m \u001b[31m18.0 MB/s\u001b[0m eta \u001b[36m0:00:00\u001b[0m\n",
            "\u001b[2K     \u001b[90m━━━━━━━━━━━━━━━━━━━━━━━━━━━━━━━━━━━━━━━━\u001b[0m \u001b[32m49.2/49.2 kB\u001b[0m \u001b[31m4.8 MB/s\u001b[0m eta \u001b[36m0:00:00\u001b[0m\n",
            "\u001b[?25h"
          ]
        }
      ]
    },
    {
      "cell_type": "code",
      "source": [
        "# Load documents\n",
        "from langchain_community.document_loaders import PyPDFLoader\n",
        "\n",
        "file_path = \"/content/SmallScaleSocieties_HenrichEtAl.pdf\" # replace with any PDF file path\n",
        "\n",
        "loader = PyPDFLoader(file_path)\n",
        "docs = loader.load()\n",
        "\n",
        "# test\n",
        "print(len(docs))\n",
        "print(type(docs))\n",
        "print(type(docs[0])) # langchain object\n",
        "print(len(docs[0].page_content.split(\" \"))) # approx tokens"
      ],
      "metadata": {
        "colab": {
          "base_uri": "https://localhost:8080/"
        },
        "id": "tIKV4EwVp5Gz",
        "outputId": "3f031a2a-25fe-4429-cafb-33923eef4d39"
      },
      "execution_count": null,
      "outputs": [
        {
          "output_type": "stream",
          "name": "stdout",
          "text": [
            "6\n",
            "<class 'list'>\n",
            "<class 'langchain_core.documents.base.Document'>\n",
            "491\n"
          ]
        }
      ]
    },
    {
      "cell_type": "code",
      "source": [
        "docs[:2]"
      ],
      "metadata": {
        "colab": {
          "base_uri": "https://localhost:8080/"
        },
        "id": "cwVQsOLIKkeY",
        "outputId": "3efbd5e3-36e2-4ae8-b929-5f91d36f8ee4"
      },
      "execution_count": null,
      "outputs": [
        {
          "output_type": "execute_result",
          "data": {
            "text/plain": [
              "[Document(page_content='In Search of Homo Economicus: Behavioral Experiments\\nin 15 Small-Scale Societies\\nByJOSEPHHENRICH,ROBERTBOYD,SAMUELBOWLES,COLINCAMERER,ERNSTFEHR,\\nHERBERTGINTIS,ANDRICHARDMCELREATH*\\nRecent investigations have uncovered large,\\nconsistentdeviationsfromthepredictionsofthetextbook representation of Homo economicus\\n(Alvin E. Roth et al., 1991; Ernst Fehr andSimon Ga ¨chter, 2000; Colin Camerer, 2001).\\nOne problem appears to lie in economists’ ca-nonical assumption that individuals are entirelyself-interested: in addition to their own materialpayoffs, many experimental subjects appear tocare about fairness and reciprocity, are willingto change the distribution of material outcomesat personal cost, and are willing to reward thosewho act in a cooperative manner while punish-ing those who do not even when these actionsare costly to the individual. These deviationsfrom what we will term the canonical modelhave important consequences for a wide rangeof economic phenomena, including the optimaldesign of institutions and contracts, the alloca-tion of property rights, the conditions for suc-cessful collective action, the analysis ofincomplete contracts, and the persistence ofnoncompetitive wage premia.\\nFundamental questions remain unanswered.\\nAre the deviations from the canonical modelevidenceofuniversalpatternsofbehavior,ordothe individual’s economic and social environ-ments shape behavior? If the latter, which eco-\\nnomic and social conditions are involved? Isreciprocalbehaviorbetterexplainedstatisticallyby individuals’ attributes such as their sex, age,or relative wealth, or by the attributes of thegroup to which the individuals belong? Arethere cultures that approximate the canonicalaccount of self-regarding behavior?\\nExisting research cannot answer such ques-\\ntions because virtually all subjects have beenuniversity students, and while there are culturaldifferences among student populations through-out the world, these differences are small com-pared to the range of all social and culturalenvironments. To address the above questions,we and our collaborators undertook a largecross-cultural study of behavior in ultimatum,public good, and dictator games. Twelve expe-rienced ﬁeld researchers, working in 12 coun-tries on ﬁve continents, recruited subjects from15 small-scale societies exhibiting a wide vari-ety of economic and cultural conditions. Oursample consists of three foraging societies, sixthat practice slash-and-burn horticulture, fournomadic herding groups, and three sedentary,small-scale agriculturalist societies. Our resultsare described in detail, with extensive ethno-graphic accounts of the cultures we studied andcitations to the relevant literature, in Henrich etal. (2001); an extended overview paper is avail-able online.\\n1\\nWe can summarize our results as follows.\\nFirst, the canonical model is not supported inany society studied. Second, there is consider-ably more behavioral variability across groupsthan had been found in previous cross-culturalresearch, and the canonical model fails in awider variety of ways than in previous experi-ments. Third, group-level differences in eco-nomic organization and the degree of market* Henrich: School of Business Administration, Univer-\\nsity of Michigan, Ann Arbor, MI 48109; Boyd and McEl-reath: Department of Anthropology, University ofCalifornia at Los Angeles, Los Angeles, CA 90095;Bowles: Department of Economics, University of Massa-chusetts, Amherst, MA 01003, and Santa Fe Institute; Cam-erer: Department of Economics, California Institute ofTechnology, Pasadena, CA 91125; Fehr: Institute for Em-pirical Research in Economics, University of Zu ¨rich, Blu¨m-\\nlisalpstrasse 10, CH-8006, Zurich, Switzerland; Gintis:University of Massachusetts, Amherst, MA 01003. Theresearch described in this paper was funded by theMacArthurFoundation’sResearchGroupontheNatureandOrigin of Norms and Preferences, directed by Robert Boydand Herbert Gintis. The ﬁeld experiments were carried outby Henrich, McElreath, Michael Alvard, Abigail Barr, JeanEnsminger, Francisco Gil-White, Michael Gurven, Kim Hill,FrankMarlowe,JohnPatton,NatalieSmith,andDavidTracer.\\n1URL: ^www.santafe.edu &\\n73', metadata={'source': '/content/SmallScaleSocieties_HenrichEtAl.pdf', 'page': 0}),\n",
              " Document(page_content='integration explain a substantial portion of the\\nbehavioral variation across societies: the higherthe degree of market integration and the higherthe payoffs to cooperation, the greater the levelof cooperation in experimental games. Fourth,individual-level economic and demographicvariables do not explain behavior either withinor across groups. Fifth, behavior in the experi-ments is generally consistent with economicpatterns of everyday life in these societies.\\nI. The Evidence\\nBecause the ultimatum game (UG) has been\\nconducted throughout the world with studentpopulations and has generated robust violationsofthecanonicalmodel,weconductedthisgamein all of our 17 societies. The “proposer” in thisgame is provisionally assigned an amountequivalenttoadayortwo’swagesinthesocietyand asked to propose an offer to a second per-son,the“respondent.”Therespondentmaytheneither accept the offer, in which case the twoplayers receive the proposed amounts, or rejectit,inwhichcasethetworeceivenothing.Ifbothplayers conform to the canonical model and ifthis is common knowledge, it is easy to see thatthe proposer will know that the respondent willaccept any positive offer and so will offer thesmallest possible amount, which will beaccepted.\\nIn most of our ﬁeld experiments subjects\\nplayed anonymously, not knowing the identityof the person or persons with whom they werepaired. The stakes of most games were denom-inated in money (though in some cases tobaccoor other goods were used). In all cases, wetested prospective participants for their compre-hension of the experiment and eliminated anywho appeared not to grasp the game.\\nThe systematic deviations from the canonical\\nmodel in our sample of simple societies can beinferred from Table 1, which lists all groupswhere UG’s were conducted. Contrary to theprediction of the standard model, even thegroups with the smallest offers have mean of-fers greater than 25 percent of stake size. Illus-trating our second result (the large variation inmean offers across societies), others, includingthe Torguud and the Mapuche, offered between30 percent and 40 percent, while still others,including the Achuar and the Sangu, offeredbetween 40 percent and 50 percent. Finally, the\\nAche´ and the Lamelara had mean offers greater\\nthan 50 percent.\\nThese group differences are strikingly large\\ncompared to previous cross-cultural work com-paringultimatum-gamebehavioramonguniver-sity students (Roth et al., 1991). While meanoffers in industrial societies are typically closeto 44 percent, the mean offers in our samplerange from 26 percent to 58 percent. Similarly,while modal offers are consistently 50 percentTABLE1—THEULTIMATUM GAME INSMALL-SCALE\\nSOCIETIES\\nGroup CountryMean\\nofferaModesbRejection\\nratecLow-\\noffer\\nrejection\\nrated\\nMachiguenga Peru 0.26 0.15/0.25 0.048 0.10\\n(72) (1/21) (1/10)\\nHadza Tanzania 0.40 0.50 0.19 0.80\\n(big camp) (28) (5/26) (4/5)\\nHadza Tanzania 0.27 0.20 0.28 0.31\\n(small\\ncamp)(38) (8/29) (5/16)\\nTsimane´ Bolivia 0.37 0.5/0.3/0.25 0.00 0.00\\n(65) (0/70) (0/5)\\nQuichua Ecuador 0.27 0.25 0.15 0.50\\n(47) (2/13) (1/2)\\nTorguud Mongolia 0.35 0.25 0.05 0.00\\n(30) (1/20) (0/1)\\nKhazax Mongolia 0.36 0.25Mapuche Chile 0.34 0.50/0.33 0.067 0.2\\n(46) (2/30) (2/10)\\nAu PNG 0.43 0.3 0.27 1.00\\n(33) (8/30) (1/1)\\nGnau PNG 0.38 0.4 0.4 0.50\\n(32) (10/25) (3/6)\\nSangu Tanzania 0.41 0.50 0.25 1.00\\nfarmers (35) (5/20) (1/1)\\nSangu Tanzania 0.42 0.50 0.05 1.00\\nherders (40) (1/20) (1/1)\\nUnresettled Zimbabwe 0.41 0.50 0.1 0.33\\nvillagers (56) (3/31) (2/5)\\nResettled Zimbabwe 0.45 0.50 0.07 0.57\\nvillagers (70) (12/86) (4/7)\\nAchuar Ecuador 0.42 0.50 0.00 0.00\\n(36) (0/16) (0/1)\\nOrma Kenya 0.44 0.50 0.04 0.00\\n(54) (2/56) (0/0)\\nAche´ Paraguay 0.51 0.50/0.40 0.00 0.00\\n(75) (0/51) (0/8)\\nLamelara\\neIndonesia 0.58 0.50 0.00 0.00\\n(63) (3/8) (4/20)\\nNote:PNG 5Papua New Guinea.aThiscolumnshowsthemeanoffer(asaproportion)intheultimatum\\ngame for each society.bThis column shows the modal offer(s), with the percentage of\\nsubjects who make modal offers (in parentheses).cTherejectionrate(asaproportion),withtheactualnumbersgivenin\\nparentheses.dThe rejection rate for offers of 20 percent or less, with the actual\\nnumbers given in parentheses.eIncludes experimenter-generated low offers.74 AEA PAPERS AND PROCEEDINGS MAY 2001', metadata={'source': '/content/SmallScaleSocieties_HenrichEtAl.pdf', 'page': 1})]"
            ]
          },
          "metadata": {},
          "execution_count": 4
        }
      ]
    },
    {
      "cell_type": "markdown",
      "source": [
        "## Splitting Documents\n"
      ],
      "metadata": {
        "id": "o7Zi_XvCOkkg"
      }
    },
    {
      "cell_type": "code",
      "source": [
        "%pip install langchain-text-splitters --quiet"
      ],
      "metadata": {
        "id": "L2wWidvgPXY8"
      },
      "execution_count": null,
      "outputs": []
    },
    {
      "cell_type": "code",
      "source": [
        "# Split\n",
        "from langchain_text_splitters import RecursiveCharacterTextSplitter\n",
        "\n",
        "# Split by Paragraph → (if chunk size still big) → Spit by new line → (if chunk size still big) → Split by words...\n",
        "text_splitter = RecursiveCharacterTextSplitter(\n",
        "    chunk_size=500, # characters\n",
        "    chunk_overlap=25, # some overlap to carry over context\n",
        "    length_function=len,\n",
        "    is_separator_regex=False,\n",
        "    separators=['\\n\\n','\\n', \" \"] # split paragraphs, then sentences, then words\n",
        ")\n",
        "\n",
        "splits = text_splitter.split_documents(docs)\n",
        "\n",
        "# test\n",
        "print(len(splits)) # number of chunks created\n",
        "print(type(splits[0])) # langchain object\n",
        "print(len(splits[1].page_content))\n",
        "print(len(splits[0].page_content.split(\" \"))) # approx tokens"
      ],
      "metadata": {
        "colab": {
          "base_uri": "https://localhost:8080/"
        },
        "id": "kxvpZN1Mp5MP",
        "outputId": "01f0fb20-8237-484a-eaae-3b5229b95296"
      },
      "execution_count": null,
      "outputs": [
        {
          "output_type": "stream",
          "name": "stdout",
          "text": [
            "67\n",
            "<class 'langchain_core.documents.base.Document'>\n",
            "493\n",
            "32\n"
          ]
        }
      ]
    },
    {
      "cell_type": "markdown",
      "source": [
        "We can visualize how the various text splitters work using [chunkViz](https://chunkviz.up.railway.app/)"
      ],
      "metadata": {
        "id": "KPEtoGVuOtUl"
      }
    },
    {
      "cell_type": "markdown",
      "source": [
        "## Creating and Indexing Text Embeddings"
      ],
      "metadata": {
        "id": "s5QqL5xyS5Y0"
      }
    },
    {
      "cell_type": "code",
      "source": [
        "%pip install sentence_transformers langchain_chroma --quiet"
      ],
      "metadata": {
        "id": "UN3mFZvYPDH_",
        "colab": {
          "base_uri": "https://localhost:8080/"
        },
        "outputId": "35834139-f515-4895-8560-8668ee48a19b"
      },
      "execution_count": null,
      "outputs": [
        {
          "output_type": "stream",
          "name": "stdout",
          "text": [
            "\u001b[2K     \u001b[90m━━━━━━━━━━━━━━━━━━━━━━━━━━━━━━━━━━━━━━━━\u001b[0m \u001b[32m227.1/227.1 kB\u001b[0m \u001b[31m3.9 MB/s\u001b[0m eta \u001b[36m0:00:00\u001b[0m\n",
            "\u001b[2K     \u001b[90m━━━━━━━━━━━━━━━━━━━━━━━━━━━━━━━━━━━━━━━━\u001b[0m \u001b[32m559.5/559.5 kB\u001b[0m \u001b[31m19.9 MB/s\u001b[0m eta \u001b[36m0:00:00\u001b[0m\n",
            "\u001b[2K     \u001b[90m━━━━━━━━━━━━━━━━━━━━━━━━━━━━━━━━━━━━━━━━\u001b[0m \u001b[32m92.0/92.0 kB\u001b[0m \u001b[31m3.4 MB/s\u001b[0m eta \u001b[36m0:00:00\u001b[0m\n",
            "\u001b[2K     \u001b[90m━━━━━━━━━━━━━━━━━━━━━━━━━━━━━━━━━━━━━━━━\u001b[0m \u001b[32m2.4/2.4 MB\u001b[0m \u001b[31m18.1 MB/s\u001b[0m eta \u001b[36m0:00:00\u001b[0m\n",
            "\u001b[2K     \u001b[90m━━━━━━━━━━━━━━━━━━━━━━━━━━━━━━━━━━━━━━━━\u001b[0m \u001b[32m62.4/62.4 kB\u001b[0m \u001b[31m3.6 MB/s\u001b[0m eta \u001b[36m0:00:00\u001b[0m\n",
            "\u001b[2K     \u001b[90m━━━━━━━━━━━━━━━━━━━━━━━━━━━━━━━━━━━━━━━━\u001b[0m \u001b[32m41.3/41.3 kB\u001b[0m \u001b[31m1.3 MB/s\u001b[0m eta \u001b[36m0:00:00\u001b[0m\n",
            "\u001b[2K     \u001b[90m━━━━━━━━━━━━━━━━━━━━━━━━━━━━━━━━━━━━━━━━\u001b[0m \u001b[32m6.8/6.8 MB\u001b[0m \u001b[31m36.2 MB/s\u001b[0m eta \u001b[36m0:00:00\u001b[0m\n",
            "\u001b[2K     \u001b[90m━━━━━━━━━━━━━━━━━━━━━━━━━━━━━━━━━━━━━━━━\u001b[0m \u001b[32m59.9/59.9 kB\u001b[0m \u001b[31m6.1 MB/s\u001b[0m eta \u001b[36m0:00:00\u001b[0m\n",
            "\u001b[2K     \u001b[90m━━━━━━━━━━━━━━━━━━━━━━━━━━━━━━━━━━━━━━━━\u001b[0m \u001b[32m107.0/107.0 kB\u001b[0m \u001b[31m8.3 MB/s\u001b[0m eta \u001b[36m0:00:00\u001b[0m\n",
            "\u001b[2K     \u001b[90m━━━━━━━━━━━━━━━━━━━━━━━━━━━━━━━━━━━━━━━━\u001b[0m \u001b[32m67.3/67.3 kB\u001b[0m \u001b[31m5.6 MB/s\u001b[0m eta \u001b[36m0:00:00\u001b[0m\n",
            "\u001b[?25h  Installing build dependencies ... \u001b[?25l\u001b[?25hdone\n",
            "  Getting requirements to build wheel ... \u001b[?25l\u001b[?25hdone\n",
            "  Preparing metadata (pyproject.toml) ... \u001b[?25l\u001b[?25hdone\n",
            "\u001b[2K     \u001b[90m━━━━━━━━━━━━━━━━━━━━━━━━━━━━━━━━━━━━━━━━\u001b[0m \u001b[32m283.7/283.7 kB\u001b[0m \u001b[31m12.6 MB/s\u001b[0m eta \u001b[36m0:00:00\u001b[0m\n",
            "\u001b[2K     \u001b[90m━━━━━━━━━━━━━━━━━━━━━━━━━━━━━━━━━━━━━━━━\u001b[0m \u001b[32m1.7/1.7 MB\u001b[0m \u001b[31m14.4 MB/s\u001b[0m eta \u001b[36m0:00:00\u001b[0m\n",
            "\u001b[2K     \u001b[90m━━━━━━━━━━━━━━━━━━━━━━━━━━━━━━━━━━━━━━━━\u001b[0m \u001b[32m67.6/67.6 kB\u001b[0m \u001b[31m2.7 MB/s\u001b[0m eta \u001b[36m0:00:00\u001b[0m\n",
            "\u001b[2K     \u001b[90m━━━━━━━━━━━━━━━━━━━━━━━━━━━━━━━━━━━━━━━━\u001b[0m \u001b[32m75.6/75.6 kB\u001b[0m \u001b[31m4.7 MB/s\u001b[0m eta \u001b[36m0:00:00\u001b[0m\n",
            "\u001b[2K     \u001b[90m━━━━━━━━━━━━━━━━━━━━━━━━━━━━━━━━━━━━━━━━\u001b[0m \u001b[32m71.9/71.9 kB\u001b[0m \u001b[31m4.6 MB/s\u001b[0m eta \u001b[36m0:00:00\u001b[0m\n",
            "\u001b[2K     \u001b[90m━━━━━━━━━━━━━━━━━━━━━━━━━━━━━━━━━━━━━━━━\u001b[0m \u001b[32m53.6/53.6 kB\u001b[0m \u001b[31m3.7 MB/s\u001b[0m eta \u001b[36m0:00:00\u001b[0m\n",
            "\u001b[2K     \u001b[90m━━━━━━━━━━━━━━━━━━━━━━━━━━━━━━━━━━━━━━━━\u001b[0m \u001b[32m21.3/21.3 MB\u001b[0m \u001b[31m58.8 MB/s\u001b[0m eta \u001b[36m0:00:00\u001b[0m\n",
            "\u001b[2K     \u001b[90m━━━━━━━━━━━━━━━━━━━━━━━━━━━━━━━━━━━━━━━━\u001b[0m \u001b[32m307.7/307.7 kB\u001b[0m \u001b[31m27.3 MB/s\u001b[0m eta \u001b[36m0:00:00\u001b[0m\n",
            "\u001b[2K     \u001b[90m━━━━━━━━━━━━━━━━━━━━━━━━━━━━━━━━━━━━━━━━\u001b[0m \u001b[32m77.9/77.9 kB\u001b[0m \u001b[31m7.9 MB/s\u001b[0m eta \u001b[36m0:00:00\u001b[0m\n",
            "\u001b[2K     \u001b[90m━━━━━━━━━━━━━━━━━━━━━━━━━━━━━━━━━━━━━━━━\u001b[0m \u001b[32m58.3/58.3 kB\u001b[0m \u001b[31m5.7 MB/s\u001b[0m eta \u001b[36m0:00:00\u001b[0m\n",
            "\u001b[2K     \u001b[90m━━━━━━━━━━━━━━━━━━━━━━━━━━━━━━━━━━━━━━━━\u001b[0m \u001b[32m46.0/46.0 kB\u001b[0m \u001b[31m4.8 MB/s\u001b[0m eta \u001b[36m0:00:00\u001b[0m\n",
            "\u001b[2K     \u001b[90m━━━━━━━━━━━━━━━━━━━━━━━━━━━━━━━━━━━━━━━━\u001b[0m \u001b[32m52.5/52.5 kB\u001b[0m \u001b[31m5.4 MB/s\u001b[0m eta \u001b[36m0:00:00\u001b[0m\n",
            "\u001b[2K     \u001b[90m━━━━━━━━━━━━━━━━━━━━━━━━━━━━━━━━━━━━━━━━\u001b[0m \u001b[32m130.5/130.5 kB\u001b[0m \u001b[31m13.0 MB/s\u001b[0m eta \u001b[36m0:00:00\u001b[0m\n",
            "\u001b[2K     \u001b[90m━━━━━━━━━━━━━━━━━━━━━━━━━━━━━━━━━━━━━━━━\u001b[0m \u001b[32m341.4/341.4 kB\u001b[0m \u001b[31m32.0 MB/s\u001b[0m eta \u001b[36m0:00:00\u001b[0m\n",
            "\u001b[2K     \u001b[90m━━━━━━━━━━━━━━━━━━━━━━━━━━━━━━━━━━━━━━━━\u001b[0m \u001b[32m3.4/3.4 MB\u001b[0m \u001b[31m86.0 MB/s\u001b[0m eta \u001b[36m0:00:00\u001b[0m\n",
            "\u001b[2K     \u001b[90m━━━━━━━━━━━━━━━━━━━━━━━━━━━━━━━━━━━━━━━━\u001b[0m \u001b[32m1.2/1.2 MB\u001b[0m \u001b[31m59.1 MB/s\u001b[0m eta \u001b[36m0:00:00\u001b[0m\n",
            "\u001b[2K     \u001b[90m━━━━━━━━━━━━━━━━━━━━━━━━━━━━━━━━━━━━━━━━\u001b[0m \u001b[32m130.2/130.2 kB\u001b[0m \u001b[31m14.0 MB/s\u001b[0m eta \u001b[36m0:00:00\u001b[0m\n",
            "\u001b[2K     \u001b[90m━━━━━━━━━━━━━━━━━━━━━━━━━━━━━━━━━━━━━━━━\u001b[0m \u001b[32m86.8/86.8 kB\u001b[0m \u001b[31m8.9 MB/s\u001b[0m eta \u001b[36m0:00:00\u001b[0m\n",
            "\u001b[?25h  Building wheel for pypika (pyproject.toml) ... \u001b[?25l\u001b[?25hdone\n"
          ]
        }
      ]
    },
    {
      "cell_type": "code",
      "source": [
        "# now, we can create vector representations (embeddings) of our chunks\n",
        "from langchain_community.embeddings import HuggingFaceEmbeddings\n",
        "from langchain_chroma import Chroma\n",
        "\n",
        "embeddings_model = HuggingFaceEmbeddings(model_name=\"all-MiniLM-L6-v2\")\n",
        "vectorstore = Chroma.from_documents(splits, embeddings_model)"
      ],
      "metadata": {
        "colab": {
          "base_uri": "https://localhost:8080/",
          "referenced_widgets": [
            "39070468c7084d0cb64745bafa17feeb",
            "59d5651f6b114411bf17eddb1a9aed96",
            "66a14631c6584298924d9df490abb4f4",
            "c362a3fe8d1b497e83ce6eb37452b36d",
            "a6c1f7e0c95547cbadfb33952edd1f0a",
            "3f86744924e945dea91b8b92d958196f",
            "5ebaebeb92394ebfa9ae941a88e7063e",
            "9052b8f7288743b0b5225a59ac3ba504",
            "c17d22608cc341b5b647f29194d32ec0",
            "27ab93f6de544d4dbb931055efaa3251",
            "8349c4b6a0f64c08b6983fa10c18d072",
            "1d0f83935fa04cbf902e8fc04b0b649b",
            "cd672dc446984088979b57fc879ded3b",
            "f9d7e7d089164e48b4d9e735e061127f",
            "a84cf6ff36644951833b1c7680ec3ac2",
            "e6ef27b16082457b9710be71ff21ee85",
            "6c9576dc0a334763abd5816de480df07",
            "e73f479ab0404c9d912548a39a048da9",
            "551c1de565984aa2953b7f42cfdee97a",
            "0ee40f591ade4f06b6011caf632e059b",
            "0e739145fcd14427ad0d9d21dd71ea42",
            "e7d41b528a964d4e8180111eed6efcee",
            "33e7715bebae4c328bc6b2eb75187528",
            "a911c31636b74bd9842363022386d51c",
            "94a25db5ddbb47b5bf2959ace7aa00b1",
            "3a0b1c121ab94442a7f68ba96e696b21",
            "36f20473119d43d2b6258b63ac739c3b",
            "8f9b55a7d1184e5aadbe69690a106045",
            "16e61e64d1fc46f2bb3343d268ed36cb",
            "b797939510f44d1fa22dceb83b2a67ce",
            "35bc9d99e25b4e20956d7191dadbe883",
            "b1f8043385f04610a8fc64a0dbd387b4",
            "824d132c688748868c32d022f272f672",
            "432599cb30bc45dfbc0da23f1778f8c3",
            "48c42f452e984e00915f18781a7beaff",
            "d1cb255b53814daf9be84dd8b77bd56c",
            "fc1fce2e3cee4bd1ace9b12212297b20",
            "e2b6fa8758214ac5a27131c6de670d8b",
            "04fbb1eb7b58410dbe9f2a5caf70021d",
            "2842f606cd314ceca9f7473bfd7f6af8",
            "4b89cc6d761c4d08b01c905ccdf27db4",
            "4b92479f8b3249ddad45223a975704e9",
            "58789c95d6df48ad9e4be960c290d2e8",
            "51973df7898945838aeb360ea370fa47",
            "649e0ce556c24dd9ba9c7cf6510e8f9e",
            "ca23384c1350424e92de002ac8f2e082",
            "eeaeec3722164812afc5ebe8c7b3cc94",
            "eeaf680d25914139a5e8d7740d810cbc",
            "d38ec211a5a540cf8c8e85220a249cb6",
            "b7ef73a0b2924a11a6216a4038742b3c",
            "bfca8132e7c044e8b649b25de06d6dd8",
            "88291458ba0d40c9bd7f1daa5ae3a316",
            "a369d0ff1674491c9a802b2501b97e11",
            "f38ffa3f47eb4bb5889b2625f20a7670",
            "eec5a78728cc4c56963c5f4e599d72a9",
            "5895920c2cbb4ac1942c008759302109",
            "8bc240adffdf463d85afd5673263cb7b",
            "aee2e705ce1d40039510f1437cfe83f3",
            "2d6f8bdb7d3347979cb9c821c4c70267",
            "8075909ac5eb4b36b232a4fa6199c190",
            "e25bf924d18d45cdbc2c7c08154acdc2",
            "c42e18d0d8d446f1ac0694e79205be90",
            "ed00286fd11b4a438e120e7f274f86da",
            "4c85020cf5a040ce863af934f6143205",
            "efc8b75ea97e4d859c588e5506f8eb6b",
            "813442bf91f3478f97cbcac69266e6ab",
            "83845cee674847e8aea0e8e27972d0be",
            "67d4f8dab59e49b3bc404438ee6d046b",
            "6a9c14a8c11e4a5296e39e184da2adf3",
            "5c491ccb3eeb43b9a446cb0a8287e052",
            "5d10822656a04043800ace68088a8566",
            "98868b2d2d044bbeb8ebc981dbf8a833",
            "ecea3b59554d4d99855d4c4a109c7a7f",
            "14ef82d74184439fa63d29f494d11d48",
            "ae162980a65240ad8e506170da14fa83",
            "e5681feb025d4a898b97a41e31d763bf",
            "528ac3aeb2e845ae9543a1091da96dd0",
            "9af6568b488240de853c79062bd8a569",
            "6f0339a3236346c5b1847aa0ad901978",
            "d4887733910946c1b07d14ba480fda94",
            "4c8c72aea9bb4d20bd986e0af501f89f",
            "ad8b632c3faa4d3daa1aa674fd30280b",
            "11796bad694c4664a1dfcc55b0a7b933",
            "bd6ae3fd0af342be8ece82d3e34a2d80",
            "a9d03bf127804193a29d0608ca15d8ed",
            "455b168e1e8c410b8b44669b66b6b8cc",
            "7953352f1849404bb202fdea109af284",
            "1945aa98dfd945b68cb82147e6ce8f15",
            "ad5275cd86764a1980a3825dbc7100c1",
            "78d40176c96042208163206762cbcaa3",
            "1e95ff2c1057415b9ccf5533f788ff4d",
            "10ed6d3e63af4adaa63e88fa1ab71441",
            "1e2fc4f38acf4afa8b5e76263390e1f3",
            "80d81ec64f2d4652bc53dd4a7615ba32",
            "272a98da66054076903c71d9d19300e1",
            "7f3200f7ccb74049af87fd8693ad0a5a",
            "1e705f1fc80845c3be460ca32c7b1961",
            "9693230e2a2a42c8af40ea552eb9770b",
            "dae2f720aa5546a7ae6e2bfa677f2238",
            "2eb35398d2bc4172bc8364c217cde8be",
            "51fe85263da641e5af710aa1553f5ec6",
            "d0a325c6bf894441a606120913879ef5",
            "dbe8d4736f244a859cd3222fc3492821",
            "ad560bc2eba049d5bd467c49d21467a2",
            "5ef4c26b227e4750b7e0760a221a9183",
            "1c6790af93e04bd1949ae82f683ef7dd",
            "51d1b586b90841ff8c990c593ec7081c",
            "6de417786a2d497b8ccf6ba0202dfe2d",
            "e2ac920f97614eda8007ff7709015816",
            "8f5759ccdeb04985b5d544bf7bd0f8cb",
            "4e4eba82cc3d4cf4b2ee74e8716d7c79",
            "93298b1daa9342b49c40f51d75f289b7",
            "b02ece5b6cdd4d77acce799064f1c4a1",
            "a8fefa4e9cbb431998e9f9418e309bcf",
            "511ae240c9744fe3bb1365696592dcf4",
            "2158a525cad1492a9c3861044de6dac6",
            "3c1363d8fa644bea9a3f0905250656d0",
            "bbde387f07444fe3a1aea5c47ef6c298",
            "bc87a09ea023489fbe8a37ec5cbe66ad",
            "a04a01f9436747f49f29f9406b3b105a",
            "e85d2a992368480b9f751f48c67ca498"
          ]
        },
        "id": "2VJxlJ55O4Sj",
        "outputId": "77348a39-3cc8-4ee6-ada3-b8509c6d2d0b"
      },
      "execution_count": null,
      "outputs": [
        {
          "output_type": "stream",
          "name": "stderr",
          "text": [
            "/usr/local/lib/python3.10/dist-packages/langchain_core/_api/deprecation.py:139: LangChainDeprecationWarning: The class `HuggingFaceEmbeddings` was deprecated in LangChain 0.2.2 and will be removed in 0.3.0. An updated version of the class exists in the langchain-huggingface package and should be used instead. To use it run `pip install -U langchain-huggingface` and import as `from langchain_huggingface import HuggingFaceEmbeddings`.\n",
            "  warn_deprecated(\n",
            "/usr/local/lib/python3.10/dist-packages/sentence_transformers/cross_encoder/CrossEncoder.py:11: TqdmExperimentalWarning: Using `tqdm.autonotebook.tqdm` in notebook mode. Use `tqdm.tqdm` instead to force console mode (e.g. in jupyter console)\n",
            "  from tqdm.autonotebook import tqdm, trange\n",
            "/usr/local/lib/python3.10/dist-packages/huggingface_hub/utils/_token.py:89: UserWarning: \n",
            "The secret `HF_TOKEN` does not exist in your Colab secrets.\n",
            "To authenticate with the Hugging Face Hub, create a token in your settings tab (https://huggingface.co/settings/tokens), set it as secret in your Google Colab and restart your session.\n",
            "You will be able to reuse this secret in all of your notebooks.\n",
            "Please note that authentication is recommended but still optional to access public models or datasets.\n",
            "  warnings.warn(\n"
          ]
        },
        {
          "output_type": "display_data",
          "data": {
            "text/plain": [
              "modules.json:   0%|          | 0.00/349 [00:00<?, ?B/s]"
            ],
            "application/vnd.jupyter.widget-view+json": {
              "version_major": 2,
              "version_minor": 0,
              "model_id": "39070468c7084d0cb64745bafa17feeb"
            }
          },
          "metadata": {}
        },
        {
          "output_type": "display_data",
          "data": {
            "text/plain": [
              "config_sentence_transformers.json:   0%|          | 0.00/116 [00:00<?, ?B/s]"
            ],
            "application/vnd.jupyter.widget-view+json": {
              "version_major": 2,
              "version_minor": 0,
              "model_id": "1d0f83935fa04cbf902e8fc04b0b649b"
            }
          },
          "metadata": {}
        },
        {
          "output_type": "display_data",
          "data": {
            "text/plain": [
              "README.md:   0%|          | 0.00/10.7k [00:00<?, ?B/s]"
            ],
            "application/vnd.jupyter.widget-view+json": {
              "version_major": 2,
              "version_minor": 0,
              "model_id": "33e7715bebae4c328bc6b2eb75187528"
            }
          },
          "metadata": {}
        },
        {
          "output_type": "display_data",
          "data": {
            "text/plain": [
              "sentence_bert_config.json:   0%|          | 0.00/53.0 [00:00<?, ?B/s]"
            ],
            "application/vnd.jupyter.widget-view+json": {
              "version_major": 2,
              "version_minor": 0,
              "model_id": "432599cb30bc45dfbc0da23f1778f8c3"
            }
          },
          "metadata": {}
        },
        {
          "output_type": "stream",
          "name": "stderr",
          "text": [
            "/usr/local/lib/python3.10/dist-packages/huggingface_hub/file_download.py:1132: FutureWarning: `resume_download` is deprecated and will be removed in version 1.0.0. Downloads always resume when possible. If you want to force a new download, use `force_download=True`.\n",
            "  warnings.warn(\n"
          ]
        },
        {
          "output_type": "display_data",
          "data": {
            "text/plain": [
              "config.json:   0%|          | 0.00/612 [00:00<?, ?B/s]"
            ],
            "application/vnd.jupyter.widget-view+json": {
              "version_major": 2,
              "version_minor": 0,
              "model_id": "649e0ce556c24dd9ba9c7cf6510e8f9e"
            }
          },
          "metadata": {}
        },
        {
          "output_type": "display_data",
          "data": {
            "text/plain": [
              "model.safetensors:   0%|          | 0.00/90.9M [00:00<?, ?B/s]"
            ],
            "application/vnd.jupyter.widget-view+json": {
              "version_major": 2,
              "version_minor": 0,
              "model_id": "5895920c2cbb4ac1942c008759302109"
            }
          },
          "metadata": {}
        },
        {
          "output_type": "display_data",
          "data": {
            "text/plain": [
              "tokenizer_config.json:   0%|          | 0.00/350 [00:00<?, ?B/s]"
            ],
            "application/vnd.jupyter.widget-view+json": {
              "version_major": 2,
              "version_minor": 0,
              "model_id": "83845cee674847e8aea0e8e27972d0be"
            }
          },
          "metadata": {}
        },
        {
          "output_type": "display_data",
          "data": {
            "text/plain": [
              "vocab.txt:   0%|          | 0.00/232k [00:00<?, ?B/s]"
            ],
            "application/vnd.jupyter.widget-view+json": {
              "version_major": 2,
              "version_minor": 0,
              "model_id": "9af6568b488240de853c79062bd8a569"
            }
          },
          "metadata": {}
        },
        {
          "output_type": "display_data",
          "data": {
            "text/plain": [
              "tokenizer.json:   0%|          | 0.00/466k [00:00<?, ?B/s]"
            ],
            "application/vnd.jupyter.widget-view+json": {
              "version_major": 2,
              "version_minor": 0,
              "model_id": "ad5275cd86764a1980a3825dbc7100c1"
            }
          },
          "metadata": {}
        },
        {
          "output_type": "display_data",
          "data": {
            "text/plain": [
              "special_tokens_map.json:   0%|          | 0.00/112 [00:00<?, ?B/s]"
            ],
            "application/vnd.jupyter.widget-view+json": {
              "version_major": 2,
              "version_minor": 0,
              "model_id": "2eb35398d2bc4172bc8364c217cde8be"
            }
          },
          "metadata": {}
        },
        {
          "output_type": "display_data",
          "data": {
            "text/plain": [
              "1_Pooling/config.json:   0%|          | 0.00/190 [00:00<?, ?B/s]"
            ],
            "application/vnd.jupyter.widget-view+json": {
              "version_major": 2,
              "version_minor": 0,
              "model_id": "4e4eba82cc3d4cf4b2ee74e8716d7c79"
            }
          },
          "metadata": {}
        }
      ]
    },
    {
      "cell_type": "code",
      "source": [
        "# test\n",
        "vectorstore.similarity_search(\"Who are the authors of the paper?\")"
      ],
      "metadata": {
        "colab": {
          "base_uri": "https://localhost:8080/"
        },
        "id": "uU88n0-iT8lo",
        "outputId": "23057b43-5a83-4596-b04b-23d05bcf3622"
      },
      "execution_count": null,
      "outputs": [
        {
          "output_type": "execute_result",
          "data": {
            "text/plain": [
              "[Document(page_content='overview paper is avail-able online.', metadata={'page': 0, 'source': '/content/SmallScaleSocieties_HenrichEtAl.pdf'}),\n",
              " Document(page_content='numbers given in parentheses.eIncludes experimenter-generated low offers.74 AEA PAPERS AND PROCEEDINGS MAY 2001', metadata={'page': 1, 'source': '/content/SmallScaleSocieties_HenrichEtAl.pdf'}),\n",
              " Document(page_content='ferring to the widespread institution of village-level voluntary contributions for public-goodsprojects such as schools or roads. Not surpris-ingly, they contributed generously (58 percentof the stake), somewhat higher than most U.S.subjects contribute in similar experiments.\\nIII. Discussion\\nOur data indicate that the degree of cooper-\\nation, sharing, and punishment exhibited by76 AEA PAPERS AND PROCEEDINGS MAY 2001', metadata={'page': 3, 'source': '/content/SmallScaleSocieties_HenrichEtAl.pdf'}),\n",
              " Document(page_content='In Search of Homo Economicus: Behavioral Experiments\\nin 15 Small-Scale Societies\\nByJOSEPHHENRICH,ROBERTBOYD,SAMUELBOWLES,COLINCAMERER,ERNSTFEHR,\\nHERBERTGINTIS,ANDRICHARDMCELREATH*\\nRecent investigations have uncovered large,\\nconsistentdeviationsfromthepredictionsofthetextbook representation of Homo economicus\\n(Alvin E. Roth et al., 1991; Ernst Fehr andSimon Ga ¨chter, 2000; Colin Camerer, 2001).', metadata={'page': 0, 'source': '/content/SmallScaleSocieties_HenrichEtAl.pdf'})]"
            ]
          },
          "metadata": {},
          "execution_count": 9
        }
      ]
    },
    {
      "cell_type": "markdown",
      "source": [
        "### Visualizing embeddings and Model Comparison"
      ],
      "metadata": {
        "id": "AfFqWoDXR1Ah"
      }
    },
    {
      "cell_type": "code",
      "source": [
        "import matplotlib.pyplot as plt\n",
        "from sklearn.decomposition import PCA\n",
        "\n",
        "phrases = [\n",
        "    \"I loved my week at COMP2024.\",\n",
        "    \"I really like traveling by train.\",\n",
        "    \"Cloudy weather is boring and I don't like it.\",\n",
        "    \"That cat lies on the mat.\",\n",
        "    \"King\",\n",
        "    \"Queen\"\n",
        "]\n",
        "\n",
        "#\n",
        "embeddings_vectors = [embeddings_model.embed_query(phrase) for phrase in phrases]\n",
        "\n",
        "# Use PCA to reduce the dimensionality for visualization purposes\n",
        "pca = PCA(n_components=2)\n",
        "reduced_vectors = pca.fit_transform(embeddings_vectors)\n",
        "\n",
        "# Plot the vectors\n",
        "plt.figure(figsize=(10, 7))\n",
        "for i, phrase in enumerate(phrases):\n",
        "    plt.scatter(reduced_vectors[i, 0], reduced_vectors[i, 1], label=phrase)\n",
        "\n",
        "plt.title(\"PCA of Embedding Vectors for Phrases\")\n",
        "plt.xlabel(\"Principal Component 1\")\n",
        "plt.ylabel(\"Principal Component 2\")\n",
        "plt.legend()\n",
        "plt.grid(True)\n",
        "plt.show()"
      ],
      "metadata": {
        "colab": {
          "base_uri": "https://localhost:8080/"
        },
        "id": "DFItpbyRRGHo",
        "outputId": "c5ac2a33-c897-4382-db9b-a1a226892d07"
      },
      "execution_count": null,
      "outputs": [
        {
          "output_type": "display_data",
          "data": {
            "text/plain": [
              "<Figure size 1000x700 with 1 Axes>"
            ],
            "image/png": "[encoded data removed]"
          },
          "metadata": {}
        }
      ]
    },
    {
      "cell_type": "code",
      "source": [
        "# end 3D\n",
        "pca = PCA(n_components=3)\n",
        "reduced_vectors = pca.fit_transform(embeddings_vectors)\n",
        "\n",
        "# Plot the vectors in 3D\n",
        "fig = plt.figure(figsize=(10, 7))\n",
        "ax = fig.add_subplot(111, projection='3d')\n",
        "\n",
        "for i, phrase in enumerate(phrases):\n",
        "    ax.scatter(reduced_vectors[i, 0], reduced_vectors[i, 1], reduced_vectors[i, 2], label=phrase)\n",
        "\n",
        "ax.set_title(\"PCA of Embedding Vectors for Phrases\")\n",
        "ax.set_xlabel(\"Principal Component 1\")\n",
        "ax.set_ylabel(\"Principal Component 2\")\n",
        "ax.set_zlabel(\"Principal Component 3\")\n",
        "ax.legend()\n",
        "plt.show()"
      ],
      "metadata": {
        "colab": {
          "base_uri": "https://localhost:8080/"
        },
        "id": "D5HVPLNfU7i9",
        "outputId": "265b8b3a-90f2-4fcd-d51d-5e8ff2d7dc4b"
      },
      "execution_count": null,
      "outputs": [
        {
          "output_type": "display_data",
          "data": {
            "text/plain": [
              "<Figure size 1000x700 with 1 Axes>"
            ],
            "image/png": "[encoded data removed]"
          },
          "metadata": {}
        }
      ]
    },
    {
      "cell_type": "code",
      "source": [
        "%pip install langchain-openai --quiet"
      ],
      "metadata": {
        "id": "liRk99dXVcpb",
        "colab": {
          "base_uri": "https://localhost:8080/"
        },
        "outputId": "009ee9c3-0ef5-410f-f37b-9ba0ad4deff1"
      },
      "execution_count": null,
      "outputs": [
        {
          "output_type": "stream",
          "name": "stdout",
          "text": [
            "\u001b[2K     \u001b[90m━━━━━━━━━━━━━━━━━━━━━━━━━━━━━━━━━━━━━━━━\u001b[0m \u001b[32m40.6/40.6 kB\u001b[0m \u001b[31m637.6 kB/s\u001b[0m eta \u001b[36m0:00:00\u001b[0m\n",
            "\u001b[2K     \u001b[90m━━━━━━━━━━━━━━━━━━━━━━━━━━━━━━━━━━━━━━━━\u001b[0m \u001b[32m327.5/327.5 kB\u001b[0m \u001b[31m5.2 MB/s\u001b[0m eta \u001b[36m0:00:00\u001b[0m\n",
            "\u001b[2K     \u001b[90m━━━━━━━━━━━━━━━━━━━━━━━━━━━━━━━━━━━━━━━━\u001b[0m \u001b[32m1.1/1.1 MB\u001b[0m \u001b[31m7.6 MB/s\u001b[0m eta \u001b[36m0:00:00\u001b[0m\n",
            "\u001b[?25h"
          ]
        }
      ]
    },
    {
      "cell_type": "code",
      "source": [
        "from langchain_openai import OpenAIEmbeddings\n",
        "import os\n",
        "\n",
        "os.environ['OPENAI_API_KEY'] = \"\" # your OpenAI API key\n",
        "\n",
        "# Initialize the embeddings model\n",
        "embeddings = OpenAIEmbeddings()\n",
        "\n",
        "# Embed the phrases\n",
        "embeddings_vectors = [embeddings.embed_query(phrase) for phrase in phrases]\n",
        "\n",
        "# Use PCA to reduce the dimensionality for visualization purposes\n",
        "pca = PCA(n_components=2)\n",
        "reduced_vectors = pca.fit_transform(embeddings_vectors)\n",
        "\n",
        "# Plot the vectors\n",
        "plt.figure(figsize=(10, 7))\n",
        "for i, phrase in enumerate(phrases):\n",
        "    plt.scatter(reduced_vectors[i, 0], reduced_vectors[i, 1], label=phrase)\n",
        "\n",
        "plt.title(\"PCA of Embedding Vectors for Phrases\")\n",
        "plt.xlabel(\"Principal Component 1\")\n",
        "plt.ylabel(\"Principal Component 2\")\n",
        "plt.legend()\n",
        "plt.grid(True)\n",
        "plt.show()"
      ],
      "metadata": {
        "colab": {
          "base_uri": "https://localhost:8080/"
        },
        "id": "v88PPZ76VK9p",
        "outputId": "568a6ae9-24ff-4945-ee6d-b0e694810243"
      },
      "execution_count": null,
      "outputs": [
        {
          "output_type": "display_data",
          "data": {
            "text/plain": [
              "<Figure size 1000x700 with 1 Axes>"
            ],
            "image/png": "[encoded data removed]"
          },
          "metadata": {}
        }
      ]
    },
    {
      "cell_type": "markdown",
      "source": [
        "## Retrieval"
      ],
      "metadata": {
        "id": "jqVLlRHwWIb4"
      }
    },
    {
      "cell_type": "code",
      "source": [
        "# VectorStore Retrieval\n",
        "vdb_retriever = vectorstore.as_retriever(search_type=\"similarity\", # mmr\n",
        "                                         search_kwargs={\"k\": 5}) # retrieve k chunks\n",
        "\n",
        "# test\n",
        "vdb_retriever.invoke(\"Who are the authors of this paper?\")"
      ],
      "metadata": {
        "colab": {
          "base_uri": "https://localhost:8080/"
        },
        "id": "UX2xhb58qH3k",
        "outputId": "3cf843a1-d024-4992-eae7-61c810fbadf0"
      },
      "execution_count": null,
      "outputs": [
        {
          "output_type": "execute_result",
          "data": {
            "text/plain": [
              "[Document(page_content='numbers given in parentheses.eIncludes experimenter-generated low offers.74 AEA PAPERS AND PROCEEDINGS MAY 2001', metadata={'page': 1, 'source': '/content/SmallScaleSocieties_HenrichEtAl.pdf'}),\n",
              " Document(page_content='ferring to the widespread institution of village-level voluntary contributions for public-goodsprojects such as schools or roads. Not surpris-ingly, they contributed generously (58 percentof the stake), somewhat higher than most U.S.subjects contribute in similar experiments.\\nIII. Discussion\\nOur data indicate that the degree of cooper-\\nation, sharing, and punishment exhibited by76 AEA PAPERS AND PROCEEDINGS MAY 2001', metadata={'page': 3, 'source': '/content/SmallScaleSocieties_HenrichEtAl.pdf'}),\n",
              " Document(page_content='In Search of Homo Economicus: Behavioral Experiments\\nin 15 Small-Scale Societies\\nByJOSEPHHENRICH,ROBERTBOYD,SAMUELBOWLES,COLINCAMERER,ERNSTFEHR,\\nHERBERTGINTIS,ANDRICHARDMCELREATH*\\nRecent investigations have uncovered large,\\nconsistentdeviationsfromthepredictionsofthetextbook representation of Homo economicus\\n(Alvin E. Roth et al., 1991; Ernst Fehr andSimon Ga ¨chter, 2000; Colin Camerer, 2001).', metadata={'page': 0, 'source': '/content/SmallScaleSocieties_HenrichEtAl.pdf'}),\n",
              " Document(page_content='IV. Conclusion\\nWhile our results do not imply that econo-', metadata={'page': 4, 'source': '/content/SmallScaleSocieties_HenrichEtAl.pdf'}),\n",
              " Document(page_content='do not say that they made an error, butratherafﬁrmhavinggoalsbesidesmaximizingamonetary payoff.', metadata={'page': 4, 'source': '/content/SmallScaleSocieties_HenrichEtAl.pdf'})]"
            ]
          },
          "metadata": {},
          "execution_count": 14
        }
      ]
    },
    {
      "cell_type": "code",
      "source": [
        "%pip install --upgrade --quiet rank_bm25"
      ],
      "metadata": {
        "id": "29c6jI2rG3iF"
      },
      "execution_count": null,
      "outputs": []
    },
    {
      "cell_type": "code",
      "source": [
        "# Ensemble Retrieval\n",
        "from langchain.retrievers import EnsembleRetriever\n",
        "from langchain_community.retrievers import BM25Retriever\n",
        "\n",
        "bm25_retriever = BM25Retriever.from_documents(splits,\n",
        "                                              k=5)\n",
        "\n",
        "ensemble = EnsembleRetriever(retrievers=[bm25_retriever, vdb_retriever],\n",
        "                             weights=[0.3, 0.7])\n",
        "# test\n",
        "ensemble.invoke(\"Who are the authors of this paper?\")"
      ],
      "metadata": {
        "colab": {
          "base_uri": "https://localhost:8080/"
        },
        "id": "nVb2phwsGJJU",
        "outputId": "80734b8d-b525-4199-d582-e43b17139aaf"
      },
      "execution_count": null,
      "outputs": [
        {
          "output_type": "execute_result",
          "data": {
            "text/plain": [
              "[Document(page_content='numbers given in parentheses.eIncludes experimenter-generated low offers.74 AEA PAPERS AND PROCEEDINGS MAY 2001', metadata={'page': 1, 'source': '/content/SmallScaleSocieties_HenrichEtAl.pdf'}),\n",
              " Document(page_content='ferring to the widespread institution of village-level voluntary contributions for public-goodsprojects such as schools or roads. Not surpris-ingly, they contributed generously (58 percentof the stake), somewhat higher than most U.S.subjects contribute in similar experiments.\\nIII. Discussion\\nOur data indicate that the degree of cooper-\\nation, sharing, and punishment exhibited by76 AEA PAPERS AND PROCEEDINGS MAY 2001', metadata={'page': 3, 'source': '/content/SmallScaleSocieties_HenrichEtAl.pdf'}),\n",
              " Document(page_content='In Search of Homo Economicus: Behavioral Experiments\\nin 15 Small-Scale Societies\\nByJOSEPHHENRICH,ROBERTBOYD,SAMUELBOWLES,COLINCAMERER,ERNSTFEHR,\\nHERBERTGINTIS,ANDRICHARDMCELREATH*\\nRecent investigations have uncovered large,\\nconsistentdeviationsfromthepredictionsofthetextbook representation of Homo economicus\\n(Alvin E. Roth et al., 1991; Ernst Fehr andSimon Ga ¨chter, 2000; Colin Camerer, 2001).', metadata={'page': 0, 'source': '/content/SmallScaleSocieties_HenrichEtAl.pdf'}),\n",
              " Document(page_content='IV. Conclusion\\nWhile our results do not imply that econo-', metadata={'page': 4, 'source': '/content/SmallScaleSocieties_HenrichEtAl.pdf'}),\n",
              " Document(page_content='do not say that they made an error, butratherafﬁrmhavinggoalsbesidesmaximizingamonetary payoff.', metadata={'page': 4, 'source': '/content/SmallScaleSocieties_HenrichEtAl.pdf'}),\n",
              " Document(page_content='UnliketheHadza,theAche ´ didnotrejectlow\\noffers, and despite this the vast majority of theAche´ (94percent)madeoffersabove40percent\\nof the stake size. This coincides neatly withethnographic descriptions indicating widespreadmeat-sharing and cooperation in communityprojects despite the absence of a fear of punish-ment in Ache ´ society. Ache ´ hunters, returning', metadata={'source': '/content/SmallScaleSocieties_HenrichEtAl.pdf', 'page': 3}),\n",
              " Document(page_content='economic choices are notexogenous as the canonical model would haveit, but rather are shaped by the economic andsocial interactions of everyday life. This resultimplies that judgments in welfare economicsthat assume exogenous preferences are ques-tionable, as are predictions of the effects ofchangingeconomicpoliciesandinstitutionsthatfail to take account of behavioral change. Fi-nally, the connection between experimental be-havior and the structure of everyday', metadata={'source': '/content/SmallScaleSocieties_HenrichEtAl.pdf', 'page': 4}),\n",
              " Document(page_content='mists should abandon the rational-actor frame-work, they do suggest two major revisions.First, the canonical model of the self-interestedmaterial payoff-maximizing actor is systemati-callyviolated.Inallsocietiesstudied,UGoffersare strictly positive and often substantially inexcess of the expected income-maximizing of-fer, as are contributions in the public-goodsgame, while rejections of positive offers insomesocietiesoccurataconsiderablerate.Sec-ond, preferences over economic choices are', metadata={'source': '/content/SmallScaleSocieties_HenrichEtAl.pdf', 'page': 4}),\n",
              " Document(page_content='A plausible interpretation of our subjects’\\nbehaviors is that, when faced with a novel sit-uation (the experiment), they looked for ana-logues in their daily experience, asking “Whatfamiliar situation is this game like?” and thenacted in a way appropriate for the analogoussituation. For instance, the hyper-fair UG offers(greater than 50 percent) and the frequent rejec-tions of these offers among the Au and Gnaureﬂect the culture of gift-giving found in these', metadata={'source': '/content/SmallScaleSocieties_HenrichEtAl.pdf', 'page': 3}),\n",
              " Document(page_content='conversations with partic-ipants convinced us that this was not the case.Finally, it could be that participants thoughttheywereinarepeatedinteraction,eventhoughthe games we used were clearly one-shot. Wedo not ﬁnd this interpretation compelling, how-ever, since there is extensive evidence fromexperiments in advanced economies that sub-jects understand the game very well, and thosewho reject a positive offer in the ultimatumgame, when interviewed by the experimenter,typically do not say that', metadata={'source': '/content/SmallScaleSocieties_HenrichEtAl.pdf', 'page': 4})]"
            ]
          },
          "metadata": {},
          "execution_count": 16
        }
      ]
    },
    {
      "cell_type": "markdown",
      "source": [
        "## LLM Generation\n",
        "\n",
        "We can use open-source models from [Groq](https://console.groq.com/docs/models)'s cloud to benefit from faster inference. But there are many ways to run these models using python. LangChain makes it very easy to develop flexible LLM based applications because they support a vast array of integrations."
      ],
      "metadata": {
        "id": "-J7DXFzh5aq6"
      }
    },
    {
      "cell_type": "code",
      "source": [
        "%pip install langchain_groq --quiet"
      ],
      "metadata": {
        "id": "QhMJl7PWIcuo",
        "colab": {
          "base_uri": "https://localhost:8080/"
        },
        "outputId": "7e9fbc9a-24ca-412d-b49b-60aba71cf0ae"
      },
      "execution_count": null,
      "outputs": [
        {
          "output_type": "stream",
          "name": "stdout",
          "text": [
            "\u001b[?25l     \u001b[90m━━━━━━━━━━━━━━━━━━━━━━━━━━━━━━━━━━━━━━━━\u001b[0m \u001b[32m0.0/103.5 kB\u001b[0m \u001b[31m?\u001b[0m eta \u001b[36m-:--:--\u001b[0m\r\u001b[2K     \u001b[91m━━━━━━━━━━━━━━━━━━━━━━━━━━━━━━━━━━━━━━━\u001b[0m\u001b[91m╸\u001b[0m \u001b[32m102.4/103.5 kB\u001b[0m \u001b[31m3.0 MB/s\u001b[0m eta \u001b[36m0:00:01\u001b[0m\r\u001b[2K     \u001b[90m━━━━━━━━━━━━━━━━━━━━━━━━━━━━━━━━━━━━━━━━\u001b[0m \u001b[32m103.5/103.5 kB\u001b[0m \u001b[31m1.4 MB/s\u001b[0m eta \u001b[36m0:00:00\u001b[0m\n",
            "\u001b[?25h"
          ]
        }
      ]
    },
    {
      "cell_type": "code",
      "source": [
        "# Get LLM and generate response\n",
        "from langchain_groq import ChatGroq\n",
        "import os\n",
        "\n",
        "os.environ['GROQ_API_KEY'] = \"\" # your GROQ API key\n",
        "\n",
        "llama3 = ChatGroq(model='llama3-8b-8192', # mixtral-8x7b-32768\n",
        "                  temperature=0,\n",
        "                  max_tokens=500)\n",
        "\n",
        "# test no context\n",
        "llama3.invoke(\"Who are the authors of the 'In Search of Homo Economicus: Behavioral Experiments in 15 Small-Scale Societies' paper?\").content\n"
      ],
      "metadata": {
        "colab": {
          "base_uri": "https://localhost:8080/"
        },
        "id": "IGECcglZqx58",
        "outputId": "789a18a7-aa9b-4c8a-fca3-e6e0be43dd89"
      },
      "execution_count": null,
      "outputs": [
        {
          "output_type": "execute_result",
          "data": {
            "text/plain": [
              "'The authors of the paper \"In Search of Homo Economicus: Behavioral Experiments in 15 Small-Scale Societies\" are:\\n\\n1. Joseph Henrich\\n2. Steven J. Heine\\n3. Ara Norenzayan\\n\\nThis paper was published in the journal \"Science\" in 2010.'"
            ],
            "application/vnd.google.colaboratory.intrinsic+json": {
              "type": "string"
            }
          },
          "metadata": {},
          "execution_count": 18
        }
      ]
    },
    {
      "cell_type": "code",
      "source": [
        "# test with context\n",
        "relevant_docs = ensemble.invoke(\"Who are the authors of this paper?\")\n",
        "context = \"\".join([doc.page_content for doc in relevant_docs])\n",
        "\n",
        "prompt = f\"\"\"Who are the authors of the\n",
        "        'In Search of Homo Economicus: Behavioral Experiments in 15 Small-Scale Societies' paper?\n",
        "\n",
        "        {context}\n",
        "        \"\"\"\n",
        "\n",
        "llama3.invoke(prompt).content"
      ],
      "metadata": {
        "colab": {
          "base_uri": "https://localhost:8080/"
        },
        "id": "J2Ukc3GoWMc7",
        "outputId": "b40cc3ac-5d79-4c4d-cc34-11ca2fc8d015"
      },
      "execution_count": null,
      "outputs": [
        {
          "output_type": "execute_result",
          "data": {
            "text/plain": [
              "'The authors of the paper \"In Search of Homo Economicus: Behavioral Experiments in 15 Small-Scale Societies\" are:\\n\\n1. Joseph Henrich\\n2. Robert Boyd\\n3. Samuel Bowles\\n4. Colin Camerer\\n5. Ernst Fehr\\n6. Herbert Gintis\\n7. Richard McElreath'"
            ],
            "application/vnd.google.colaboratory.intrinsic+json": {
              "type": "string"
            }
          },
          "metadata": {},
          "execution_count": 19
        }
      ]
    },
    {
      "cell_type": "markdown",
      "source": [
        "Now we need a way of putting everything together. Specially because the retrieval must be made at runtime given the user query. This means that the prompt must be dynamics (i.e., constructed conditional on the information retrieved).\n",
        "\n",
        "### Chains\n",
        "\n",
        "Chains in LangChain are squential programs that combine objects that either run in Parallel (all take the same input and do something) or Sequential (the output of each object becomes an input to the following one). It makes it very easy to orchestrate LLM-based applications, and LangChain offers production grade functionalities to run the chains asynchronously as well as logging or evaluating."
      ],
      "metadata": {
        "id": "V6IZQTQvqoSk"
      }
    },
    {
      "cell_type": "code",
      "source": [
        "# RAG chain\n",
        "from langchain_core.output_parsers import StrOutputParser\n",
        "from langchain_core.prompts import PromptTemplate\n",
        "from langchain_core.runnables import RunnableParallel, RunnablePassthrough\n",
        "\n",
        "# utility\n",
        "def format_docs(retrieved_docs):\n",
        "    return \"\\n\\n\".join(doc.page_content for doc in retrieved_docs)\n",
        "\n",
        "# Prompt\n",
        "prompt_template = \"\"\"\n",
        "        Answer the user question, shown below, using the information provided as context.\n",
        "        If you don't know the answer state 'I don't know', avoid making up answers.\n",
        "\n",
        "        <context>\n",
        "        {context}\n",
        "        </context>\n",
        "\n",
        "        Question: {question}\n",
        "\n",
        "        Answer: \"\"\"\n",
        "\n",
        "prompt = PromptTemplate.from_template(prompt_template)\n",
        "\n",
        "rag_chain = RunnableParallel(context = ensemble | format_docs, question = RunnablePassthrough() ) | prompt | llama3\n",
        "\n",
        "rag_chain.invoke(\"Who are the authors of this paper?\")"
      ],
      "metadata": {
        "colab": {
          "base_uri": "https://localhost:8080/"
        },
        "id": "xcPKopXAqIGd",
        "outputId": "2da409cf-c0e1-40a2-a4c9-b52159342270"
      },
      "execution_count": null,
      "outputs": [
        {
          "output_type": "execute_result",
          "data": {
            "text/plain": [
              "AIMessage(content='The authors of this paper are:\\n\\n* Joseph Henrich\\n* Robert Boyd\\n* Samuel Bowles\\n* Colin Camerer\\n* Ernst Fehr\\n* Herbert Gintis\\n* Richard McElreath', response_metadata={'token_usage': {'completion_tokens': 44, 'prompt_tokens': 841, 'total_tokens': 885, 'completion_time': 0.034123959, 'prompt_time': 0.127957421, 'queue_time': None, 'total_time': 0.16208138}, 'model_name': 'llama3-8b-8192', 'system_fingerprint': 'fp_af05557ca2', 'finish_reason': 'stop', 'logprobs': None}, id='run-9f18a21f-75c4-4291-a242-52841575a2f4-0')"
            ]
          },
          "metadata": {},
          "execution_count": 20
        }
      ]
    },
    {
      "cell_type": "code",
      "source": [
        "rag_chain.invoke(\"Who are the authors of this paper?\").content"
      ],
      "metadata": {
        "colab": {
          "base_uri": "https://localhost:8080/"
        },
        "id": "IEx-3R8tAFcg",
        "outputId": "8922fd54-ef21-49d5-a4c7-2ceb44c98ada"
      },
      "execution_count": null,
      "outputs": [
        {
          "output_type": "execute_result",
          "data": {
            "text/plain": [
              "'The authors of this paper are:\\n\\n* Joseph Henrich\\n* Robert Boyd\\n* Samuel Bowles\\n* Colin Camerer\\n* Ernst Fehr\\n* Herbert Gintis\\n* Richard McElreath'"
            ],
            "application/vnd.google.colaboratory.intrinsic+json": {
              "type": "string"
            }
          },
          "metadata": {},
          "execution_count": 21
        }
      ]
    },
    {
      "cell_type": "code",
      "source": [
        "# LogProbs\n",
        "from langchain_openai import ChatOpenAI\n",
        "\n",
        "gpt4o = ChatOpenAI(model='gpt-4o',\n",
        "                   temperature=0,\n",
        "                   max_tokens=500).bind(logprobs=True)\n",
        "\n",
        "rag_chain_gpt4o = RunnableParallel(context = ensemble | format_docs, question = RunnablePassthrough() ) | prompt | gpt4o\n",
        "\n",
        "rag_chain_gpt4o.invoke(\"Who are the authors of this paper?\").content"
      ],
      "metadata": {
        "colab": {
          "base_uri": "https://localhost:8080/"
        },
        "id": "2Cjgc9ISqIK4",
        "outputId": "3311df10-f99b-4797-f65b-fca07d5bcc4f"
      },
      "execution_count": null,
      "outputs": [
        {
          "output_type": "execute_result",
          "data": {
            "text/plain": [
              "'The authors of the paper are Joseph Henrich, Robert Boyd, Samuel Bowles, Colin Camerer, Ernst Fehr, Herbert Gintis, and Richard McElreath.'"
            ],
            "application/vnd.google.colaboratory.intrinsic+json": {
              "type": "string"
            }
          },
          "metadata": {},
          "execution_count": 22
        }
      ]
    },
    {
      "cell_type": "code",
      "source": [
        "rag_chain_gpt4o.invoke(\"Who are the authors of this paper?\").response_metadata[\"logprobs\"][\"content\"]"
      ],
      "metadata": {
        "colab": {
          "base_uri": "https://localhost:8080/"
        },
        "id": "qDdmuCoQAbSR",
        "outputId": "b8f56f63-1601-4ade-dc91-ef297dfadcc9"
      },
      "execution_count": null,
      "outputs": [
        {
          "output_type": "execute_result",
          "data": {
            "text/plain": [
              "[{'token': 'The',\n",
              "  'bytes': [84, 104, 101],\n",
              "  'logprob': -0.11103121,\n",
              "  'top_logprobs': []},\n",
              " {'token': ' authors',\n",
              "  'bytes': [32, 97, 117, 116, 104, 111, 114, 115],\n",
              "  'logprob': -2.1008714e-06,\n",
              "  'top_logprobs': []},\n",
              " {'token': ' of', 'bytes': [32, 111, 102], 'logprob': 0.0, 'top_logprobs': []},\n",
              " {'token': ' the',\n",
              "  'bytes': [32, 116, 104, 101],\n",
              "  'logprob': -0.34844705,\n",
              "  'top_logprobs': []},\n",
              " {'token': ' paper',\n",
              "  'bytes': [32, 112, 97, 112, 101, 114],\n",
              "  'logprob': 0.0,\n",
              "  'top_logprobs': []},\n",
              " {'token': ' are',\n",
              "  'bytes': [32, 97, 114, 101],\n",
              "  'logprob': -0.0010005363,\n",
              "  'top_logprobs': []},\n",
              " {'token': ' Joseph',\n",
              "  'bytes': [32, 74, 111, 115, 101, 112, 104],\n",
              "  'logprob': -0.0011069943,\n",
              "  'top_logprobs': []},\n",
              " {'token': ' Hen',\n",
              "  'bytes': [32, 72, 101, 110],\n",
              "  'logprob': -2.220075e-06,\n",
              "  'top_logprobs': []},\n",
              " {'token': 'rich',\n",
              "  'bytes': [114, 105, 99, 104],\n",
              "  'logprob': -5.5122365e-07,\n",
              "  'top_logprobs': []},\n",
              " {'token': ',', 'bytes': [44], 'logprob': -1.9361265e-07, 'top_logprobs': []},\n",
              " {'token': ' Robert',\n",
              "  'bytes': [32, 82, 111, 98, 101, 114, 116],\n",
              "  'logprob': -3.1281633e-07,\n",
              "  'top_logprobs': []},\n",
              " {'token': ' Boyd',\n",
              "  'bytes': [32, 66, 111, 121, 100],\n",
              "  'logprob': -1.9361265e-07,\n",
              "  'top_logprobs': []},\n",
              " {'token': ',', 'bytes': [44], 'logprob': 0.0, 'top_logprobs': []},\n",
              " {'token': ' Samuel',\n",
              "  'bytes': [32, 83, 97, 109, 117, 101, 108],\n",
              "  'logprob': 0.0,\n",
              "  'top_logprobs': []},\n",
              " {'token': ' Bow',\n",
              "  'bytes': [32, 66, 111, 119],\n",
              "  'logprob': 0.0,\n",
              "  'top_logprobs': []},\n",
              " {'token': 'les',\n",
              "  'bytes': [108, 101, 115],\n",
              "  'logprob': 0.0,\n",
              "  'top_logprobs': []},\n",
              " {'token': ',', 'bytes': [44], 'logprob': -1.9361265e-07, 'top_logprobs': []},\n",
              " {'token': ' Colin',\n",
              "  'bytes': [32, 67, 111, 108, 105, 110],\n",
              "  'logprob': -4.3202e-07,\n",
              "  'top_logprobs': []},\n",
              " {'token': ' Camer',\n",
              "  'bytes': [32, 67, 97, 109, 101, 114],\n",
              "  'logprob': -6.704273e-07,\n",
              "  'top_logprobs': []},\n",
              " {'token': 'er', 'bytes': [101, 114], 'logprob': 0.0, 'top_logprobs': []},\n",
              " {'token': ',', 'bytes': [44], 'logprob': -3.1281633e-07, 'top_logprobs': []},\n",
              " {'token': ' Ernst',\n",
              "  'bytes': [32, 69, 114, 110, 115, 116],\n",
              "  'logprob': -1.9361265e-07,\n",
              "  'top_logprobs': []},\n",
              " {'token': ' Fe', 'bytes': [32, 70, 101], 'logprob': 0.0, 'top_logprobs': []},\n",
              " {'token': 'hr', 'bytes': [104, 114], 'logprob': 0.0, 'top_logprobs': []},\n",
              " {'token': ',', 'bytes': [44], 'logprob': -2.9352968e-06, 'top_logprobs': []},\n",
              " {'token': ' Herbert',\n",
              "  'bytes': [32, 72, 101, 114, 98, 101, 114, 116],\n",
              "  'logprob': -1.147242e-06,\n",
              "  'top_logprobs': []},\n",
              " {'token': ' G', 'bytes': [32, 71], 'logprob': 0.0, 'top_logprobs': []},\n",
              " {'token': 'int',\n",
              "  'bytes': [105, 110, 116],\n",
              "  'logprob': -4.3202e-07,\n",
              "  'top_logprobs': []},\n",
              " {'token': 'is', 'bytes': [105, 115], 'logprob': 0.0, 'top_logprobs': []},\n",
              " {'token': ',', 'bytes': [44], 'logprob': -1.8624639e-06, 'top_logprobs': []},\n",
              " {'token': ' and',\n",
              "  'bytes': [32, 97, 110, 100],\n",
              "  'logprob': -3.1281633e-07,\n",
              "  'top_logprobs': []},\n",
              " {'token': ' Richard',\n",
              "  'bytes': [32, 82, 105, 99, 104, 97, 114, 100],\n",
              "  'logprob': 0.0,\n",
              "  'top_logprobs': []},\n",
              " {'token': ' Mc',\n",
              "  'bytes': [32, 77, 99],\n",
              "  'logprob': -1.9385403e-05,\n",
              "  'top_logprobs': []},\n",
              " {'token': 'El',\n",
              "  'bytes': [69, 108],\n",
              "  'logprob': -2.9352968e-06,\n",
              "  'top_logprobs': []},\n",
              " {'token': 'reath',\n",
              "  'bytes': [114, 101, 97, 116, 104],\n",
              "  'logprob': -1.6524515e-05,\n",
              "  'top_logprobs': []},\n",
              " {'token': '.', 'bytes': [46], 'logprob': -0.00026753443, 'top_logprobs': []}]"
            ]
          },
          "metadata": {},
          "execution_count": 23
        }
      ]
    },
    {
      "cell_type": "markdown",
      "source": [
        "- **Higher Negative Log Probabilities**: A more negative log probability indicates a lower probability of the token being the next one in the sequence.\n",
        "\n",
        "- **Closer to Zero Log Probabilities**: Values closer to zero indicate a higher probability of the token being the next one."
      ],
      "metadata": {
        "id": "3BFpAqfzTT-e"
      }
    },
    {
      "cell_type": "markdown",
      "source": [
        "## Exercises\n",
        "\n",
        "1. Rerun the RAG chain with your own document\n",
        "\n",
        "2. Compare logprobs of GPT's answer with and without RAG.\n",
        "\n",
        "3. Write a function to parametrize the temperature of the LLM. Run it for temperatures {0, 0.3, 0.75, 1, 1.3, 1.7} keeping the prompt constant. What qualitative differences do you notice?"
      ],
      "metadata": {
        "id": "paGZj3kDCx0n"
      }
    },
    {
      "cell_type": "code",
      "source": [
        "import matplotlib.pyplot as plt\n",
        "\n",
        "def extract_tokens_and_logprobs(data):\n",
        "    tokens = [entry['token'] for entry in data]\n",
        "    logprobs = [entry['logprob'] for entry in data]\n",
        "    return tokens, logprobs\n",
        "\n",
        "def plot_logprobs(tokens, logprobs):\n",
        "    plt.figure(figsize=(14, 7))\n",
        "    plt.bar(tokens, logprobs, color='blue')\n",
        "    plt.xlabel('Tokens')\n",
        "    plt.ylabel('Log Probabilities')\n",
        "    plt.title('Log Probabilities of Tokens')\n",
        "    plt.xticks(rotation=90)\n",
        "    plt.tight_layout()\n",
        "    plt.show()\n",
        "\n",
        "response = rag_chain_gpt4o.invoke(\"Who are the authors of this paper?\").response_metadata[\"logprobs\"][\"content\"]\n",
        "\n",
        "tokens, logprobs = extract_tokens_and_logprobs(response)\n",
        "plot_logprobs(tokens, logprobs)"
      ],
      "metadata": {
        "colab": {
          "base_uri": "https://localhost:8080/",
          "height": 627
        },
        "id": "fyDaF4uoCbPT",
        "outputId": "073b7f9b-419a-49d5-8e15-e1f17dd06ca7"
      },
      "execution_count": null,
      "outputs": [
        {
          "output_type": "display_data",
          "data": {
            "text/plain": [
              "<Figure size 1400x700 with 1 Axes>"
            ],
            "image/png": "[encoded data removed]"
          },
          "metadata": {}
        }
      ]
    },
    {
      "cell_type": "code",
      "source": [],
      "metadata": {
        "id": "hbiya2rjTDtu"
      },
      "execution_count": null,
      "outputs": []
    },
    {
      "cell_type": "markdown",
      "source": [
        "## Literature & Resources\n",
        "\n",
        "- [RAG paper](https://arxiv.org/abs/2005.11401)\n",
        "\n",
        "- [SelfAsk Prompt](https://arxiv.org/abs/2210.03350)\n",
        "\n",
        "- [Chain of Thought Prompt](https://arxiv.org/abs/2201.11903)\n",
        "\n",
        "- [RAG + UI Python tutorial](https://agbonorino21.wixsite.com/econllm-lab/projects-6)\n",
        "\n",
        "- [Epistemic vs Aleatoric Uncertainty - DeepMind](https://paperswithcode.com/paper/to-believe-or-not-to-believe-your-llm)\n",
        "\n",
        "- [Lost in the middle - Anthropic](https://arxiv.org/abs/2307.03172)\n",
        "\n",
        "- [Semantic Uncertainty - Oxford](https://arxiv.org/abs/2302.09664)\n",
        "\n",
        "- [RAG vs Fine-tuning in Industry - Microsoft](https://arxiv.org/pdf/2401.08406)\n",
        "\n",
        "- [RAG vs Fine-tuning for Less Popular Knowledge](https://arxiv.org/html/2403.01432v1)\n",
        "\n",
        "- [In-context Learning](https://arxiv.org/pdf/2301.00234)\n",
        "\n",
        "- [Homo silicus](https://arxiv.org/abs/2301.07543)\n",
        "\n",
        "- [LLMs in Survey Methodology](https://www.scitepress.org/Link.aspx?doi=10.5220/0011985400003470)\n",
        "\n",
        "- [Inspecting Emergent Behavior Through Iterated Prisoner's Dilemma](https://arxiv.org/pdf/2305.07970)"
      ],
      "metadata": {
        "id": "ovoScqwMadKT"
      }
    },
    {
      "cell_type": "code",
      "source": [],
      "metadata": {
        "id": "3_Z-ucU7iqPe"
      },
      "execution_count": null,
      "outputs": []
    }
  ]
}