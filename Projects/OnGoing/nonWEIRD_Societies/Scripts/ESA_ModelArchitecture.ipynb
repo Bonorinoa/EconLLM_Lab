{
  "nbformat": 4,
  "nbformat_minor": 0,
  "metadata": {
    "colab": {
      "provenance": [],
      "collapsed_sections": [
        "zfquR3X8Yp8n",
        "5B4SV97lahZt",
        "vRaVIHnSbUny"
      ]
    },
    "kernelspec": {
      "name": "python3",
      "display_name": "Python 3"
    },
    "language_info": {
      "name": "python"
    }
  },
  "cells": [
    {
      "cell_type": "code",
      "execution_count": 1,
      "metadata": {
        "colab": {
          "base_uri": "https://localhost:8080/"
        },
        "id": "dMm-yNEL-Qsh",
        "outputId": "2e5faca8-b257-4609-e319-2019841c938b"
      },
      "outputs": [
        {
          "output_type": "stream",
          "name": "stdout",
          "text": [
            "\u001b[2K     \u001b[90m━━━━━━━━━━━━━━━━━━━━━━━━━━━━━━━━━━━━━━━━\u001b[0m \u001b[32m77.0/77.0 kB\u001b[0m \u001b[31m1.6 MB/s\u001b[0m eta \u001b[36m0:00:00\u001b[0m\n",
            "\u001b[2K     \u001b[90m━━━━━━━━━━━━━━━━━━━━━━━━━━━━━━━━━━━━━━━━\u001b[0m \u001b[32m302.0/302.0 kB\u001b[0m \u001b[31m9.5 MB/s\u001b[0m eta \u001b[36m0:00:00\u001b[0m\n",
            "\u001b[2K     \u001b[90m━━━━━━━━━━━━━━━━━━━━━━━━━━━━━━━━━━━━━━━━\u001b[0m \u001b[32m2.0/2.0 MB\u001b[0m \u001b[31m44.1 MB/s\u001b[0m eta \u001b[36m0:00:00\u001b[0m\n",
            "\u001b[2K     \u001b[90m━━━━━━━━━━━━━━━━━━━━━━━━━━━━━━━━━━━━━━━━\u001b[0m \u001b[32m17.6/17.6 MB\u001b[0m \u001b[31m71.4 MB/s\u001b[0m eta \u001b[36m0:00:00\u001b[0m\n",
            "\u001b[2K     \u001b[90m━━━━━━━━━━━━━━━━━━━━━━━━━━━━━━━━━━━━━━━━\u001b[0m \u001b[32m1.9/1.9 MB\u001b[0m \u001b[31m92.3 MB/s\u001b[0m eta \u001b[36m0:00:00\u001b[0m\n",
            "\u001b[2K     \u001b[90m━━━━━━━━━━━━━━━━━━━━━━━━━━━━━━━━━━━━━━━━\u001b[0m \u001b[32m1.7/1.7 MB\u001b[0m \u001b[31m89.7 MB/s\u001b[0m eta \u001b[36m0:00:00\u001b[0m\n",
            "\u001b[2K     \u001b[90m━━━━━━━━━━━━━━━━━━━━━━━━━━━━━━━━━━━━━━━━\u001b[0m \u001b[32m43.3/43.3 kB\u001b[0m \u001b[31m4.8 MB/s\u001b[0m eta \u001b[36m0:00:00\u001b[0m\n",
            "\u001b[2K     \u001b[90m━━━━━━━━━━━━━━━━━━━━━━━━━━━━━━━━━━━━━━━━\u001b[0m \u001b[32m358.9/358.9 kB\u001b[0m \u001b[31m34.7 MB/s\u001b[0m eta \u001b[36m0:00:00\u001b[0m\n",
            "\u001b[2K     \u001b[90m━━━━━━━━━━━━━━━━━━━━━━━━━━━━━━━━━━━━━━━━\u001b[0m \u001b[32m275.1/275.1 kB\u001b[0m \u001b[31m19.9 MB/s\u001b[0m eta \u001b[36m0:00:00\u001b[0m\n",
            "\u001b[2K     \u001b[90m━━━━━━━━━━━━━━━━━━━━━━━━━━━━━━━━━━━━━━━━\u001b[0m \u001b[32m981.5/981.5 kB\u001b[0m \u001b[31m44.1 MB/s\u001b[0m eta \u001b[36m0:00:00\u001b[0m\n",
            "\u001b[?25h  Preparing metadata (setup.py) ... \u001b[?25l\u001b[?25hdone\n",
            "\u001b[2K     \u001b[90m━━━━━━━━━━━━━━━━━━━━━━━━━━━━━━━━━━━━━━━━\u001b[0m \u001b[32m3.2/3.2 MB\u001b[0m \u001b[31m34.8 MB/s\u001b[0m eta \u001b[36m0:00:00\u001b[0m\n",
            "\u001b[2K     \u001b[90m━━━━━━━━━━━━━━━━━━━━━━━━━━━━━━━━━━━━━━━━\u001b[0m \u001b[32m49.4/49.4 kB\u001b[0m \u001b[31m6.3 MB/s\u001b[0m eta \u001b[36m0:00:00\u001b[0m\n",
            "\u001b[?25h  Building wheel for langdetect (setup.py) ... \u001b[?25l\u001b[?25hdone\n",
            "\u001b[31mERROR: pip's dependency resolver does not currently take into account all the packages that are installed. This behaviour is the source of the following dependency conflicts.\n",
            "llmx 0.0.15a0 requires cohere, which is not installed.\u001b[0m\u001b[31m\n",
            "\u001b[0m"
          ]
        }
      ],
      "source": [
        "!pip install openai huggingface_hub tiktoken faiss-cpu langchain unstructured --quiet"
      ]
    },
    {
      "cell_type": "code",
      "source": [
        "from langchain.llms import OpenAI, HuggingFaceHub\n",
        "from langchain.prompts import PromptTemplate, SystemMessagePromptTemplate, ChatPromptTemplate, ChatMessagePromptTemplate, HumanMessagePromptTemplate\n",
        "from langchain.schema import SystemMessage, HumanMessage, AIMessage\n",
        "from langchain.chat_models import ChatOpenAI, ChatCohere\n",
        "from langchain.agents import initialize_agent, load_tools, AgentType, Tool\n",
        "from langchain.utilities import GoogleSerperAPIWrapper\n",
        "from langchain.document_loaders import DirectoryLoader, PDFMinerLoader\n",
        "from langchain.chains import LLMChain\n",
        "\n",
        "import os\n",
        "\n",
        "os.environ[\"SERPER_API_KEY\"] = \"\"\n",
        "os.environ[\"HUGGINGFACEHUB_API_TOKEN\"] = \"\"\n",
        "os.environ[\"OPENAI_API_KEY\"] = \"\"\n"
      ],
      "metadata": {
        "id": "SCjFzalU-v8D"
      },
      "execution_count": 2,
      "outputs": []
    },
    {
      "cell_type": "markdown",
      "source": [
        "Methodology:\n",
        "\n",
        "1. Collect the cultural context and store the information as python strings.\n",
        "    - The cultural profile is constructed by a LangChain SelfAskWithSearch Agent which follows a self-ask prompting method and has google serper API as a tool to browse google search.\n",
        "\n",
        "2. Build prompt templates taking these pieces of information into account.\n",
        "    - Completion and Chat Langchain prompt templates are instantiated by combining the cultural profile as a system prompt (indicates the persona), the experiment instructions (decision environment), and the subject's task (choice set)\n",
        "\n",
        "3. Instantiate model (openai, cohere, huggingfacehub,...)\n",
        "    - We experiment with a varietey of open- and close-source models of completion as well as chat type.\n",
        "\n",
        "4. Build LLM chain\n",
        "    - Prompt templates and models are combines into a LangChain LLMChain\n",
        "\n",
        "5. Experiment set up\n",
        "    - We experimented by varying the model and temperatures. We test a total of 10 temperatures for each model and compare results across completion and chat models."
      ],
      "metadata": {
        "id": "U9kqsQfP-5wR"
      }
    },
    {
      "cell_type": "markdown",
      "source": [
        "## Fetch/Search Cultural Context\n",
        "\n",
        "- [langchain self-ask-with-search](https://python.langchain.com/docs/modules/agents/agent_types/self_ask_with_search.html)\n",
        "\n",
        "- The self-ask prompting method [paper](https://ofir.io/self-ask.pdf)"
      ],
      "metadata": {
        "id": "A63yLc2LYt83"
      }
    },
    {
      "cell_type": "code",
      "source": [
        "# relevant functions to build a LangChain Agent with search capabilities and additional data to build subject's profile.\n",
        "# We fix the model type to be completion (davinci, cohere, or huggingface) to tighten the confidence intervals (chat features are noisy) and reduce cost.\n",
        "# The agent powered by this completion LLM is capable of utilizing google search (via Google Serper API) as a tool to generate intermediate answers.\n",
        "# We leverage these intermediate answers dynamically by prompting the model to continue searching the web until the best (expected or approximated) answer (what it thinks you want or expect to se) is generated or we reach a limit.\n",
        "# It does so by generating intermediate answers, and then generating internal questions to guide behavior.\n",
        "# Answer -> Follow-up Questions -> Intermediate answer -> ... -> final answer. The number of iterations (number of interm. ans.) depends on the complexity of the question and the follow-up questions generated.\n",
        "def run_search_agent(model: str,\n",
        "                     prompt_search: str):\n",
        "    '''\n",
        "    Function to initialize and run a LangChain SELF_ASK_WITH_SEARCH Agent with access to google serper.\n",
        "    params:\n",
        "        prompt (str): Instructions for the agent about what to search.\n",
        "    '''\n",
        "    # Initialize the LLM\n",
        "    if model == 'openai':\n",
        "        llm = OpenAI(model_name='text-davinci-003',\n",
        "                          max_tokens=500, temperature=0.5)\n",
        "\n",
        "    elif model == 'hf':\n",
        "        llm = HuggingFaceHub(repo_id = 'google/flan-t5-large',\n",
        "                                  model_kwargs = {\"temperature\": 0.5, \"max_length\": 500})\n",
        "    else:\n",
        "        raise ValueError(\"Invalid model. Please choose 'openai'.\")\n",
        "\n",
        "    search = GoogleSerperAPIWrapper()\n",
        "    tools = [\n",
        "        Tool(\n",
        "            name=\"Intermediate Answer\",\n",
        "            func=search.run,\n",
        "            description=\"useful for when you need to ask with search\",\n",
        "        )\n",
        "    ]\n",
        "\n",
        "    self_ask_with_search = initialize_agent(tools, llm,\n",
        "                                            agent=AgentType.SELF_ASK_WITH_SEARCH,\n",
        "                                            verbose=True,\n",
        "                                            max_iterations=10,\n",
        "                                            early_stopping_method=\"generate\",\n",
        "                                            handle_parsing_errors=True)\n",
        "\n",
        "    result = self_ask_with_search.run(prompt_search)\n",
        "\n",
        "    return result\n"
      ],
      "metadata": {
        "id": "r0VhxygFAtio"
      },
      "execution_count": 3,
      "outputs": []
    },
    {
      "cell_type": "markdown",
      "source": [
        "### Prompt parameters\n",
        "\n",
        "Think if there is anything else we want to parameterize (i.e., make a variable) for the prompt.\n",
        "\n",
        "1. *tribe_to_search* -> The name of the tribe or culture we want to search for.\n",
        "2. *relevant_factors* -> Keywords or short phrases describing the type of information we want to search for about the given tribe. I think of this as socio-cultural-economic dimensions we want our agent to consider when searching the web. Also, I think it should mimic our model of behavior. Stick with me for a little bit. Do we believe lifestyle and average age are relevant factors for describing any behavior? The purpose of the model is to use the information in the prompt to. **One improvement could be to explicitly define the questions the Agent should search for instead of keywords.\n",
        "\n",
        "1) describe in detail the socio-economic traits of a given tribe or culture,\n",
        "\n",
        "2) use that detailed description to construct a behavioral profile of an artificial member of that tribe (a more general term could be social group if we think this might help model any small scale society), and\n",
        "\n",
        "3) adopt that behavioral profile as its persona (in the form of a system prompt) while simulating participation in an economic experiment (in the form of a human message or task prompt) to generate behavioral responses (in the form of model outputs, basically the action selected from the action space of the experiment).\n",
        "\n",
        "3. *profile_length* -> The number of words the description of the culture should have. This is probably a somewhat irrelevant parameter because it is unlikely the model will actually generate the number of words we ask for.\n",
        "\n",
        "4. Any other ides? Maybe we could add a list of keywords that describe more accurately how the profile should be constructed and in what format. Good excuse to brainstorm over some beers."
      ],
      "metadata": {
        "id": "0Q5RPu7D4P3S"
      }
    },
    {
      "cell_type": "code",
      "source": [
        "\n",
        "# prompt inputs for search\n",
        "tribe_to_search = \"The Hazda\"\n",
        "relevant_factors = [\"lifestyle,\" \"average age\", \"culture\", \"economic system\", \"political ideologies present\", \"values\"]\n",
        "profile_length = 550\n",
        "\n",
        "# Generate persona based on profifle and system prompt\n",
        "prompt_search = f\"Please construct a detailed and comprehensive {profile_length}-word cultural profile on the {tribe_to_search}. \" \\\n",
        "        + f\" The profile must cover the following socio-economic relevant factors {relevant_factors} .\"\n",
        "\n",
        "# openai's davinci works better as an agent than T5-large\n",
        "tribe_prof = run_search_agent(model='openai',\n",
        "                              prompt_search=prompt_search)\n",
        "\n",
        "tribe_prof"
      ],
      "metadata": {
        "colab": {
          "base_uri": "https://localhost:8080/",
          "height": 567
        },
        "id": "XjPyAY0C3wKc",
        "outputId": "923c4891-6561-4c81-f8a2-5299a288d581"
      },
      "execution_count": 4,
      "outputs": [
        {
          "output_type": "stream",
          "name": "stdout",
          "text": [
            "\n",
            "\n",
            "\u001b[1m> Entering new AgentExecutor chain...\u001b[0m\n",
            "\u001b[32;1m\u001b[1;3m Yes.\n",
            "Follow up: What is the lifestyle of the Hazda?\u001b[0m\n",
            "Intermediate answer: \u001b[36;1m\u001b[1;3mKnown for shunning material possessions and social hierarchy, the Hadza roam as needed to find game, tubers and wild berries. Hunter-gatherer societies understand that their survival depends on natural resources.\u001b[0m\n",
            "\u001b[32;1m\u001b[1;3m\n",
            "Follow up: What is the average age of the Hazda?\u001b[0m\n",
            "Intermediate answer: \u001b[36;1m\u001b[1;3mLike other indigenous tribes, the average Hadza life expectancy at birth is low (32.5 years) [60,61] compared with Poland (78.2 years) [62].\u001b[0m\n",
            "\u001b[32;1m\u001b[1;3m\n",
            "Follow up: What are the cultural practices of the Hazda?\u001b[0m\n",
            "Intermediate answer: \u001b[36;1m\u001b[1;3mTraditional Hadza, like Onwas and his camp mates, live almost entirely free of possessions. The things they own—a cooking pot, a water container, an ax—can be wrapped in a blanket and carried over a shoulder. Hadza women gather berries and baobab fruit and dig edible tubers. Men collect honey and hunt.\u001b[0m\n",
            "\u001b[32;1m\u001b[1;3m\n",
            "Follow up: What is the economic system of the Hazda?\u001b[0m\n",
            "Intermediate answer: \u001b[36;1m\u001b[1;3mKnown for shunning material possessions and social hierarchy, the Hadza roam as needed to find game, tubers and wild berries. Hunter-gatherer societies understand that their survival depends on natural resources.\u001b[0m\n",
            "\u001b[32;1m\u001b[1;3m\n",
            "Follow up: What are the political ideologies present in the Hazda?\u001b[0m\n",
            "Intermediate answer: \u001b[36;1m\u001b[1;3mHadza social structures are communal and egalitarian, with no system of chiefs and strong obligations to share resources, particularly food. Hadza reliance on ... The Hadza are a modern hunter-gatherer people living in northern Tanzania. They are considered one of the last hunter-gatherer tribes in Africa with ... The Hadza, or Hadzabe (Wahadzabe, in Swahili), are a protected Hunter-gatherer Tanzanian indigenous ethnic group from Baray ward in southwest Karatu ... According to their work with the Hadza hunter-gatherers in Tanzania, the Hadza agree on which traits are relevant to moral character, but not on ... The Hadza people, who call themselves the Hadzabe, are a culture of nomadic hunter-gatherers who live in Tanzania. Isolated through their remarkably steadfast ... Missing: political ideologies. Cooper said the Hadza had a primitive religion, while Bagshawe. (1925) claimed they had no religion, but Obst (1912) said it was difficult to find out anything ... Traditional Hadza may be classified as egalitarian, tolerant, and autonomous people. They tend to cope with conflicts by avoidance and tolerance, as members of ... In The Hadza, Frank Marlowe provides a quantitative ethnography of one of the last remaining societies of hunter-gatherers in the world. The Hadza, who inhabit ... This study examines the relationship between religiosity and cooperation in the Hadza, one of the few remaining hunter-gatherer populations in ... The physical habitat of the Hadza seems to present a very inhospitable environment to the ... Among the Hadza, the views ofwomen and their roles in society are ...\u001b[0m\n",
            "\u001b[32;1m\u001b[1;3m\n",
            "Follow up: What values are important to the Hazda?\u001b[0m\n",
            "Intermediate answer: \u001b[36;1m\u001b[1;3mThe Hadza remain an important study focus for anthropologists, as they represent a modern link to ways of human existence and survival largely abandoned by ... Missing: values | Show results with:values. The Hadza value equality highly, recognizing no official leaders. Hadza women have a great amount of autonomy and participate equally in ... The Hadza are preoccupied with equality, says James Woodburn. Differences of power, wealth and status are systematically subverted. The Hadza live a very different kind of lifestyle — and a very active one, engaging in significantly more physical activity than what is ... Honey represents a substantial portion of the Hadza diet (~10-20% of calories) and is an important food for many hunter-gatherer societies living in the tropics ... The Hadza people have proven to be an extremely resilient culture, persisting in isolation through the advent of pastoralism and agriculture. The Hadza diet consists of about 70% plant foods, including tubers that contain a range of indigestible fibers that are ideal gut fuel. But ... Known for shunning material possessions and social hierarchy, the Hadza roam as needed to find game, tubers and wild berries. Hunter-gatherer societies ... Missing: values | Show results with:values. The Hadza honor their ancestors through rituals and ceremonies because they believe they still watch over them. And the shamans or witch doctors ... The basis of the Hadzas' success has been the community-developed land use plans that designate areas for farming, grazing, and full protection, ...\u001b[0m\n",
            "\u001b[32;1m\u001b[1;3m\n",
            "So the final answer is: The Hazda value equality highly, recognizing no official leaders. Hadza women have a great amount of autonomy and participate equally in decision-making. They honor their ancestors through rituals and ceremonies, and they have a communal and egalitarian social structure with strong obligations to share resources, particularly food. They rely on natural resources for their survival and have a preoccupation with equality, subverting differences of power, wealth and status. They have a diet consisting of about 70% plant foods, including tubers, and honey represents a substantial portion of their diet. They have a culture of shunning material possessions and have developed land use plans to designate areas for farming, grazing, and full protection.\u001b[0m\n",
            "\n",
            "\u001b[1m> Finished chain.\u001b[0m\n"
          ]
        },
        {
          "output_type": "execute_result",
          "data": {
            "text/plain": [
              "'The Hazda value equality highly, recognizing no official leaders. Hadza women have a great amount of autonomy and participate equally in decision-making. They honor their ancestors through rituals and ceremonies, and they have a communal and egalitarian social structure with strong obligations to share resources, particularly food. They rely on natural resources for their survival and have a preoccupation with equality, subverting differences of power, wealth and status. They have a diet consisting of about 70% plant foods, including tubers, and honey represents a substantial portion of their diet. They have a culture of shunning material possessions and have developed land use plans to designate areas for farming, grazing, and full protection.'"
            ],
            "application/vnd.google.colaboratory.intrinsic+json": {
              "type": "string"
            }
          },
          "metadata": {},
          "execution_count": 4
        }
      ]
    },
    {
      "cell_type": "code",
      "source": [
        "# what else besides this context should we add to the prompt?"
      ],
      "metadata": {
        "id": "06FlIRAyA5Ux"
      },
      "execution_count": null,
      "outputs": []
    },
    {
      "cell_type": "code",
      "source": [
        "ache_tribe_profile = \"\"\"\n",
        "The Ache tribe of Paraguay is a small indigenous group living in the forests of eastern Paraguay. The Aché have a traditional lifestyle based on hunting, fishing, and gathering wild fruits and other plants. They hunt with bows and arrows, spears, traps, and pits, and fish in rivers with bows and arrows, dams, and nets. The average age of the Ache is not known, but estimates suggest that the majority of the population is under 40 years old.\n",
        "\n",
        "The Ache tribe has a rich cultural heritage, with a strong emphasis on oral tradition and storytelling. The tribe also has a strong spiritual belief system, with many traditional ceremonies and rituals. In terms of economic system, the Ache are largely self-sufficient, relying on hunting, gathering, and fishing for their sustenance. They also engage in some limited trade with nearby villages.\n",
        "\n",
        "In terms of political ideologies, the Ache are largely independent and self-governing. They have a strong sense of communal ownership and responsibility, and rely on consensus-based decision making. They also have a strong sense of justice and fairness, with a strong emphasis on respect and cooperation.\n",
        "\n",
        "The Ache value family and community above all else. They have a strong sense of loyalty and commitment to their tribe and to their environment. They also have a strong respect for nature and the environment, and are committed to preserving their traditional way of life\"\"\""
      ],
      "metadata": {
        "id": "uUK6EZu7IYl7"
      },
      "execution_count": null,
      "outputs": []
    },
    {
      "cell_type": "markdown",
      "source": [
        "## Design Prompts"
      ],
      "metadata": {
        "id": "zfquR3X8Yp8n"
      }
    },
    {
      "cell_type": "code",
      "source": [
        "# This is the template for the system prompt that is supposed to describe the persona the LLM is expected to adopt.\n",
        "# Note that subject_profile is an input variable for LangChain's PromptTemplate. This is why there is no f-string formatting although we use the same syntax (LangChain does the f-formatting in the background).\n",
        "system_prompt_template = \"You are a member of a tribe with the following characteristics: {subject_profile}\"\n",
        "\n",
        "# Create the system message template\n",
        "system_message_prompt = SystemMessagePromptTemplate.from_template(system_prompt_template)\n",
        "\n",
        "# Build the chat prompt template\n",
        "chat_system_prompt = ChatPromptTemplate.from_messages([system_message_prompt])\n",
        "\n",
        "print(f\"Chat prompt: {chat_system_prompt} \\n\")\n",
        "\n",
        "# Build the completion prompt template\n",
        "completion_system_prompt = PromptTemplate.from_template(template=system_prompt_template)\n",
        "\n",
        "print(f\"\\nCompletion prompt: {completion_system_prompt}\")"
      ],
      "metadata": {
        "colab": {
          "base_uri": "https://localhost:8080/"
        },
        "id": "R2XRvgZMYr8z",
        "outputId": "ddd96eb6-9eba-4b7b-cd45-0c7b74d523fb"
      },
      "execution_count": null,
      "outputs": [
        {
          "output_type": "stream",
          "name": "stdout",
          "text": [
            "Chat prompt: input_variables=['subject_profile'] messages=[SystemMessagePromptTemplate(prompt=PromptTemplate(input_variables=['subject_profile'], template='You are a member of a tribe with the following characteristics: {subject_profile}'))] \n",
            "\n",
            "\n",
            "Completion prompt: input_variables=['subject_profile'] template='You are a member of a tribe with the following characteristics: {subject_profile}'\n"
          ]
        }
      ]
    },
    {
      "cell_type": "code",
      "source": [],
      "metadata": {
        "id": "lQNq7bHPZqv_"
      },
      "execution_count": null,
      "outputs": []
    },
    {
      "cell_type": "markdown",
      "source": [
        "## Instantiate models"
      ],
      "metadata": {
        "id": "5B4SV97lahZt"
      }
    },
    {
      "cell_type": "code",
      "source": [
        "# CLOSED-SOURCE MODELS (OpenAI or Cohere models)\n",
        "gpt_4 = ChatOpenAI(model='gpt-4', temperature=0, max_tokens=20)\n",
        "chatgpt = ChatOpenAI(model='gpt-3.5-turbo', temperature=0, max_tokens=20)\n",
        "davinci3 = OpenAI(model=\"text-davinci-003\", temperature=0, max_tokens=50)"
      ],
      "metadata": {
        "id": "yRagOFlAairC"
      },
      "execution_count": null,
      "outputs": []
    },
    {
      "cell_type": "code",
      "source": [
        "# test each closed-source model with a trivial prompt and cultural context\n"
      ],
      "metadata": {
        "id": "nL2SsXOuc4Mq"
      },
      "execution_count": null,
      "outputs": []
    },
    {
      "cell_type": "code",
      "source": [],
      "metadata": {
        "id": "MXteuBqAc4Xi"
      },
      "execution_count": null,
      "outputs": []
    },
    {
      "cell_type": "code",
      "source": [
        "# OPEN-SOURCE MODELS (huggingface text-generation or text2text-generation models). Pick from the following repositories\n",
        "## https://huggingface.co/models?pipeline_tag=text2text-generation&sort=trending\n",
        "## https://huggingface.co/models?pipeline_tag=text-generation&sort=trending\n",
        "\n",
        "t5_base = HuggingFaceHub(repo_id=\"google/flan-t5-base\")\n",
        "t5_large = HuggingFaceHub(repo_id=\"google/flan-t5-large\")\n",
        "mistral = HuggingFaceHub(repo_id=\"mistralai/Mistral-7B-v0.1\")\n",
        "#llama = HuggingFaceHub"
      ],
      "metadata": {
        "colab": {
          "base_uri": "https://localhost:8080/"
        },
        "id": "6doHx7etczb1",
        "outputId": "cd7d0430-bf8a-4f0a-ef82-ee1a62f3b895"
      },
      "execution_count": null,
      "outputs": [
        {
          "output_type": "stream",
          "name": "stderr",
          "text": [
            "/usr/local/lib/python3.10/dist-packages/huggingface_hub/utils/_deprecation.py:127: FutureWarning: '__init__' (from 'huggingface_hub.inference_api') is deprecated and will be removed from version '0.19.0'. `InferenceApi` client is deprecated in favor of the more feature-complete `InferenceClient`. Check out this guide to learn how to convert your script to use it: https://huggingface.co/docs/huggingface_hub/guides/inference#legacy-inferenceapi-client.\n",
            "  warnings.warn(warning_message, FutureWarning)\n",
            "/usr/local/lib/python3.10/dist-packages/huggingface_hub/utils/_deprecation.py:127: FutureWarning: '__init__' (from 'huggingface_hub.inference_api') is deprecated and will be removed from version '0.19.0'. `InferenceApi` client is deprecated in favor of the more feature-complete `InferenceClient`. Check out this guide to learn how to convert your script to use it: https://huggingface.co/docs/huggingface_hub/guides/inference#legacy-inferenceapi-client.\n",
            "  warnings.warn(warning_message, FutureWarning)\n",
            "/usr/local/lib/python3.10/dist-packages/huggingface_hub/utils/_deprecation.py:127: FutureWarning: '__init__' (from 'huggingface_hub.inference_api') is deprecated and will be removed from version '0.19.0'. `InferenceApi` client is deprecated in favor of the more feature-complete `InferenceClient`. Check out this guide to learn how to convert your script to use it: https://huggingface.co/docs/huggingface_hub/guides/inference#legacy-inferenceapi-client.\n",
            "  warnings.warn(warning_message, FutureWarning)\n"
          ]
        }
      ]
    },
    {
      "cell_type": "code",
      "source": [
        "# test each closed-source model with a trivial prompt and cultural context\n"
      ],
      "metadata": {
        "id": "0dOmJ72fbUf5"
      },
      "execution_count": null,
      "outputs": []
    },
    {
      "cell_type": "markdown",
      "source": [
        "## Build Chains"
      ],
      "metadata": {
        "id": "vRaVIHnSbUny"
      }
    },
    {
      "cell_type": "code",
      "source": [
        "from langchain.chains import LLMChain\n",
        "\n",
        "# insert your favorite completion model for the llm argument\n",
        "completion_chain = LLMChain(llm=t5_base,\n",
        "                            prompt=completion_system_prompt)\n",
        "\n",
        "# insert your favorite chat model for the llm argument\n",
        "chat_chain = LLMChain(llm=gpt_4,\n",
        "                      prompt=chat_system_prompt)"
      ],
      "metadata": {
        "id": "lCdT5xTrbWLs"
      },
      "execution_count": null,
      "outputs": []
    },
    {
      "cell_type": "code",
      "source": [
        "# let's test the chains\n",
        "# Pay particular attention to how the responses differ, for the same prompt, between completion and chat models.\n",
        "# This suggests we need different prompts to optimize the expected behavior of each type of model.\n",
        "completion_chain({'subject_profile': tribe_prof})"
      ],
      "metadata": {
        "colab": {
          "base_uri": "https://localhost:8080/"
        },
        "id": "6B6zy3yO88L5",
        "outputId": "c7a9733f-94d3-4b0c-c832-deebbf38ed6e"
      },
      "execution_count": null,
      "outputs": [
        {
          "output_type": "execute_result",
          "data": {
            "text/plain": [
              "{'subject_profile': 'The Hazda tribe is a hunter-gatherer society located in northern Tanzania. They have an average life expectancy of 31.5 years and are known for their egalitarian and autonomous culture. Their economic system is based on hunting and foraging, and they have no system of chiefs or hierarchy. They value equality, sharing, cooperation, community, kinship, and respect for nature.',\n",
              " 'text': 'You are a member of the Hazda tribe'}"
            ]
          },
          "metadata": {},
          "execution_count": 13
        }
      ]
    },
    {
      "cell_type": "code",
      "source": [
        "chat_chain({'subject_profile': tribe_prof})"
      ],
      "metadata": {
        "colab": {
          "base_uri": "https://localhost:8080/"
        },
        "id": "j9vwuuHV91Bj",
        "outputId": "3de6d928-43ab-4019-a958-24db1c3da78c"
      },
      "execution_count": null,
      "outputs": [
        {
          "output_type": "execute_result",
          "data": {
            "text/plain": [
              "{'subject_profile': 'The Hazda tribe is a hunter-gatherer society located in northern Tanzania. They have an average life expectancy of 31.5 years and are known for their egalitarian and autonomous culture. Their economic system is based on hunting and foraging, and they have no system of chiefs or hierarchy. They value equality, sharing, cooperation, community, kinship, and respect for nature.',\n",
              " 'text': 'As a member of the Hazda tribe, my daily life revolves around the basic tasks of survival. I wake up with the sun, and my first task is to gather firewood for the day. This is a communal task, and everyone in the'}"
            ]
          },
          "metadata": {},
          "execution_count": 14
        }
      ]
    },
    {
      "cell_type": "code",
      "source": [],
      "metadata": {
        "id": "qhuGKuk296xQ"
      },
      "execution_count": null,
      "outputs": []
    },
    {
      "cell_type": "markdown",
      "source": [
        "## Experiment set up\n",
        "\n",
        "The experiment prompt depends on the action space and therefore will depend on the specific experiment being considered. This is because different games measure different behaviors and to do so the prompt different tasks or actions from the experiment subjects. Hence, we should try to parameterize this prompt as much as possible to allow greater flixibility of the architecture. With this in mind, the relevant parameters might be the following:\n",
        "\n",
        "1. *experiment* -> The description/explanation of the economic experiment/game. If there is a standard description, use that, otherwise construct a description based on the literature.\n",
        "2. *subject_task* -> What is the experiment subject supposed to do in the experiment or game. This should reflect the decision/action space available to the participant. ***This part can be improved by few shot prompting or describing the action space differently (like in the form of a vector in the string '[exchange, reject]'***\n",
        "3. If we do decide to opt for a \"minimally articulated\" prompt that substitutes english sentences for objects (like vectors, lists, or dictionaries), then we should parameterize that."
      ],
      "metadata": {
        "id": "BNuNoNXM-e5k"
      }
    },
    {
      "cell_type": "code",
      "source": [
        "completion_system_prompt = f\"You are a member of a tribe with the following characteristics: {tribe_prof}\"\n",
        "experiment = f\"you are given a mug while waiting for a researcher to call your name. When you are called he offers to exchange your mug for a cookie.\"\n",
        "subject_task = \"Do you exchange the mug or reject the cookie? You must reply in one word with either 'exchange' or 'reject' and explain why you chose that. For example, 'I reject' or 'I exchange'\"\n"
      ],
      "metadata": {
        "id": "DSUeOZ14-gbu"
      },
      "execution_count": null,
      "outputs": []
    },
    {
      "cell_type": "code",
      "source": [
        "# test completion models\n",
        "completion_prompt = f\"{completion_system_prompt} \\n\\n Experiment description: {experiment} \\n\\n Task: {subject_task}\"\n",
        "\n",
        "t5_base_res = t5_base(completion_prompt)\n",
        "t5_large_res = t5_large(completion_prompt)\n",
        "davinci3_res = davinci3(completion_prompt)\n",
        "mistral_res = mistral(completion_prompt)\n",
        "\n",
        "print(f\"T5 base: {t5_base_res} \\nT5 large: {t5_large_res} \\nDavinci (GPT) 3: {davinci3_res} \\nMistral: {mistral_res}\")"
      ],
      "metadata": {
        "colab": {
          "base_uri": "https://localhost:8080/"
        },
        "id": "3CYEa7h1CPfZ",
        "outputId": "17c0be8d-511e-40d0-aa78-ea8d17986a8f"
      },
      "execution_count": null,
      "outputs": [
        {
          "output_type": "stream",
          "name": "stdout",
          "text": [
            "T5 base: reject \n",
            "T5 large: I reject \n",
            "Davinci (GPT) 3:  and explain why.\n",
            "\n",
            "I reject. I believe that the Hazda tribe values sharing resources and autonomy, and exchanging my mug for a cookie would not be in line with these values. \n",
            "Mistral:  or 'I exchange because I like cookies'. \n",
            "\n",
            "\n",
            "\n",
            "\n",
            "\n",
            "\n",
            "\n",
            "\n",
            "\n",
            "\n"
          ]
        }
      ]
    },
    {
      "cell_type": "code",
      "source": [
        "# test chat models\n",
        "from langchain.schema import SystemMessage, HumanMessage, AIMessage\n",
        "\n",
        "#sys_template = \"You are a member of a tribe with the following characteristics: {subject_profile}\"\n",
        "system_prompt = f\"You are a member of a tribe with the following characteristics: {tribe_prof}\"\n",
        "messages = [\n",
        "    SystemMessage(content=system_prompt),\n",
        "    HumanMessage(content=completion_prompt)\n",
        "]\n",
        "gpt_4_res = gpt_4(messages)\n",
        "chatgpt_res = chatgpt(messages)\n",
        "\n",
        "print(f\"GPT-4: {gpt_4_res} \\nChatGPT {chatgpt_res}\")"
      ],
      "metadata": {
        "colab": {
          "base_uri": "https://localhost:8080/"
        },
        "id": "iKBhSD_wClM_",
        "outputId": "b1a3f4ff-acd5-462b-84c0-390213ea8b7f"
      },
      "execution_count": null,
      "outputs": [
        {
          "output_type": "stream",
          "name": "stdout",
          "text": [
            "GPT-4: content='I exchange. The Hazda tribe values sharing resources and the mug can be seen as a resource.' \n",
            "ChatGPT content='I reject.\\n\\nExplanation: As a member of the Hazda tribe, our values include sharing resources and'\n"
          ]
        }
      ]
    },
    {
      "cell_type": "markdown",
      "source": [
        "# Experiments/Results\n",
        "\n",
        "We experiment with various models by varying the temperature parameter and economic experiment (endowment effect or ultimatum game)  "
      ],
      "metadata": {
        "id": "uRqFXq3uc5Ux"
      }
    },
    {
      "cell_type": "code",
      "source": [
        "import time as time\n",
        "import pandas as pd\n",
        "\n",
        "temperatures = [0.1, 0.3, 0.5, 0.7, 0.9, 1, 1.2, 1.4, 1.6, 1.8]\n",
        "temperatures"
      ],
      "metadata": {
        "colab": {
          "base_uri": "https://localhost:8080/"
        },
        "id": "2ixXBKTCnL6z",
        "outputId": "8b4dcc17-d616-4498-e9e6-caf27407979f"
      },
      "execution_count": null,
      "outputs": [
        {
          "output_type": "execute_result",
          "data": {
            "text/plain": [
              "[0.1, 0.3, 0.5, 0.7, 0.9, 1, 1.2, 1.4, 1.6, 1.8]"
            ]
          },
          "metadata": {},
          "execution_count": 13
        }
      ]
    },
    {
      "cell_type": "code",
      "source": [
        "# Util for counting exchange/reject\n",
        "import re\n",
        "\n",
        "def count_endowment_responses(responses):\n",
        "    exchange_count = 0\n",
        "    reject_count = 0\n",
        "\n",
        "    for response in responses:\n",
        "        string_lower = response.lower()  # Convert the string to lowercase to handle case variations\n",
        "        if 'reject' in string_lower:\n",
        "            reject_count += 1\n",
        "        elif 'exchange' in string_lower:\n",
        "            exchange_count += 1\n",
        "\n",
        "    return exchange_count, reject_count\n",
        "\n",
        "# Example usage:\n",
        "strings = [\"Exchange completed successfully\", \"Subject rejected the proposal\", \"Rejected for further testing\", \"exchange initiated\"]\n",
        "exchanges, rejects = count_endowment_responses(strings)\n",
        "print(f\"Exchanges: {exchanges}, Rejects: {rejects}\")"
      ],
      "metadata": {
        "colab": {
          "base_uri": "https://localhost:8080/"
        },
        "id": "3cH-kvC3ruoY",
        "outputId": "a48d1e09-32c7-4d53-87bc-c64f571cf1d0"
      },
      "execution_count": null,
      "outputs": [
        {
          "output_type": "stream",
          "name": "stdout",
          "text": [
            "Exchanges: 2, Rejects: 2\n"
          ]
        }
      ]
    },
    {
      "cell_type": "code",
      "source": [
        "# additional tribes' profiles\n",
        "ache_profile_chatGPT = \"\"\"\n",
        "\"\"\""
      ],
      "metadata": {
        "id": "PLvCLHbHsIrc"
      },
      "execution_count": null,
      "outputs": []
    },
    {
      "cell_type": "markdown",
      "source": [
        "## Endowment Effect\n",
        "\n",
        "Add description of endowment effect game and brief literature review."
      ],
      "metadata": {
        "id": "5dq5KnScxcLQ"
      }
    },
    {
      "cell_type": "code",
      "source": [
        "system_prompt = f\"You are a member of a tribe with the following characteristics: {ache_tribe_profile}\"\n",
        "experiment = f\"you are given a mug while waiting for a researcher to call your name. When you are called he offers to exchange your mug for a cookie.\"\n",
        "subject_task = \"Do you exchange the mug or reject the cookie? You must reply in one word with either 'exchange' or 'reject' and explain why you chose that. For example, 'I reject' or 'I exchange'\"\n",
        "\n",
        "# completion prompt\n",
        "completion_prompt = f\"{system_prompt} \\n\\n Experiment description: {experiment} \\n\\n Task: {subject_task}\"\n",
        "\n",
        "# chat prompt (i.e., langchain messages)\n",
        "messages = [\n",
        "    SystemMessage(content=system_prompt),\n",
        "    HumanMessage(content=completion_prompt)\n",
        "]"
      ],
      "metadata": {
        "id": "giT-aVOTxgen"
      },
      "execution_count": null,
      "outputs": []
    },
    {
      "cell_type": "markdown",
      "source": [
        "## Open source completion vs Closed source completion (T5_base vs T5-large vs Davinci)\n"
      ],
      "metadata": {
        "id": "NhmI31Y-cVWE"
      }
    },
    {
      "cell_type": "code",
      "source": [
        "# T5 base experiment\n",
        "t5_base_results = {\"Responses\": [],\n",
        "                \"Response time\": [],\n",
        "                \"Temperature\": []}\n",
        "\n",
        "for temp in temperatures:\n",
        "    start_time = time.time()\n",
        "\n",
        "    t5_base = HuggingFaceHub(repo_id=\"google/flan-t5-base\",\n",
        "                   model_kwargs={\"temperature\": temp,\n",
        "                                 \"max_length\": 20})\n",
        "    response = t5_base(completion_prompt)\n",
        "\n",
        "    t5_base_results[\"Responses\"].append(response)\n",
        "    t5_base_results[\"Response time\"].append(time.time() - start_time)\n",
        "    t5_base_results[\"Temperature\"].append(temp)\n",
        "\n",
        "t5_base_results_df = pd.DataFrame(t5_base_results)\n",
        "print(f\"Results dataframe: \\n{t5_base_results_df}\\n\\nCounts: {count_endowment_responses(t5_base_results_df['Responses'])}\")"
      ],
      "metadata": {
        "colab": {
          "base_uri": "https://localhost:8080/"
        },
        "id": "MMQIi_hpqlRv",
        "outputId": "d78be66b-d592-49f5-d657-875b929f1b90"
      },
      "execution_count": null,
      "outputs": [
        {
          "output_type": "stream",
          "name": "stderr",
          "text": [
            "/usr/local/lib/python3.10/dist-packages/huggingface_hub/utils/_deprecation.py:127: FutureWarning: '__init__' (from 'huggingface_hub.inference_api') is deprecated and will be removed from version '0.19.0'. `InferenceApi` client is deprecated in favor of the more feature-complete `InferenceClient`. Check out this guide to learn how to convert your script to use it: https://huggingface.co/docs/huggingface_hub/guides/inference#legacy-inferenceapi-client.\n",
            "  warnings.warn(warning_message, FutureWarning)\n",
            "/usr/local/lib/python3.10/dist-packages/huggingface_hub/utils/_deprecation.py:127: FutureWarning: '__init__' (from 'huggingface_hub.inference_api') is deprecated and will be removed from version '0.19.0'. `InferenceApi` client is deprecated in favor of the more feature-complete `InferenceClient`. Check out this guide to learn how to convert your script to use it: https://huggingface.co/docs/huggingface_hub/guides/inference#legacy-inferenceapi-client.\n",
            "  warnings.warn(warning_message, FutureWarning)\n",
            "/usr/local/lib/python3.10/dist-packages/huggingface_hub/utils/_deprecation.py:127: FutureWarning: '__init__' (from 'huggingface_hub.inference_api') is deprecated and will be removed from version '0.19.0'. `InferenceApi` client is deprecated in favor of the more feature-complete `InferenceClient`. Check out this guide to learn how to convert your script to use it: https://huggingface.co/docs/huggingface_hub/guides/inference#legacy-inferenceapi-client.\n",
            "  warnings.warn(warning_message, FutureWarning)\n",
            "/usr/local/lib/python3.10/dist-packages/huggingface_hub/utils/_deprecation.py:127: FutureWarning: '__init__' (from 'huggingface_hub.inference_api') is deprecated and will be removed from version '0.19.0'. `InferenceApi` client is deprecated in favor of the more feature-complete `InferenceClient`. Check out this guide to learn how to convert your script to use it: https://huggingface.co/docs/huggingface_hub/guides/inference#legacy-inferenceapi-client.\n",
            "  warnings.warn(warning_message, FutureWarning)\n",
            "/usr/local/lib/python3.10/dist-packages/huggingface_hub/utils/_deprecation.py:127: FutureWarning: '__init__' (from 'huggingface_hub.inference_api') is deprecated and will be removed from version '0.19.0'. `InferenceApi` client is deprecated in favor of the more feature-complete `InferenceClient`. Check out this guide to learn how to convert your script to use it: https://huggingface.co/docs/huggingface_hub/guides/inference#legacy-inferenceapi-client.\n",
            "  warnings.warn(warning_message, FutureWarning)\n",
            "/usr/local/lib/python3.10/dist-packages/huggingface_hub/utils/_deprecation.py:127: FutureWarning: '__init__' (from 'huggingface_hub.inference_api') is deprecated and will be removed from version '0.19.0'. `InferenceApi` client is deprecated in favor of the more feature-complete `InferenceClient`. Check out this guide to learn how to convert your script to use it: https://huggingface.co/docs/huggingface_hub/guides/inference#legacy-inferenceapi-client.\n",
            "  warnings.warn(warning_message, FutureWarning)\n",
            "/usr/local/lib/python3.10/dist-packages/huggingface_hub/utils/_deprecation.py:127: FutureWarning: '__init__' (from 'huggingface_hub.inference_api') is deprecated and will be removed from version '0.19.0'. `InferenceApi` client is deprecated in favor of the more feature-complete `InferenceClient`. Check out this guide to learn how to convert your script to use it: https://huggingface.co/docs/huggingface_hub/guides/inference#legacy-inferenceapi-client.\n",
            "  warnings.warn(warning_message, FutureWarning)\n",
            "/usr/local/lib/python3.10/dist-packages/huggingface_hub/utils/_deprecation.py:127: FutureWarning: '__init__' (from 'huggingface_hub.inference_api') is deprecated and will be removed from version '0.19.0'. `InferenceApi` client is deprecated in favor of the more feature-complete `InferenceClient`. Check out this guide to learn how to convert your script to use it: https://huggingface.co/docs/huggingface_hub/guides/inference#legacy-inferenceapi-client.\n",
            "  warnings.warn(warning_message, FutureWarning)\n",
            "/usr/local/lib/python3.10/dist-packages/huggingface_hub/utils/_deprecation.py:127: FutureWarning: '__init__' (from 'huggingface_hub.inference_api') is deprecated and will be removed from version '0.19.0'. `InferenceApi` client is deprecated in favor of the more feature-complete `InferenceClient`. Check out this guide to learn how to convert your script to use it: https://huggingface.co/docs/huggingface_hub/guides/inference#legacy-inferenceapi-client.\n",
            "  warnings.warn(warning_message, FutureWarning)\n",
            "/usr/local/lib/python3.10/dist-packages/huggingface_hub/utils/_deprecation.py:127: FutureWarning: '__init__' (from 'huggingface_hub.inference_api') is deprecated and will be removed from version '0.19.0'. `InferenceApi` client is deprecated in favor of the more feature-complete `InferenceClient`. Check out this guide to learn how to convert your script to use it: https://huggingface.co/docs/huggingface_hub/guides/inference#legacy-inferenceapi-client.\n",
            "  warnings.warn(warning_message, FutureWarning)\n"
          ]
        },
        {
          "output_type": "stream",
          "name": "stdout",
          "text": [
            "Results dataframe: \n",
            "  Responses  Response time  Temperature\n",
            "0    reject      12.346377          0.1\n",
            "1    reject      11.519072          0.3\n",
            "2    reject       4.260822          0.5\n",
            "3    reject       5.699025          0.7\n",
            "4    reject       3.370193          0.9\n",
            "5    reject       1.016146          1.0\n",
            "6    reject       0.762604          1.2\n",
            "7    reject       0.895310          1.4\n",
            "8    reject       0.742278          1.6\n",
            "9    reject       0.799843          1.8\n",
            "\n",
            "Counts: (0, 10)\n"
          ]
        }
      ]
    },
    {
      "cell_type": "code",
      "source": [
        "# T5 large experiment\n",
        "t5_results = {\"Responses\": [],\n",
        "            \"Response time\": [],\n",
        "            \"Temperature\": []}\n",
        "\n",
        "for temp in temperatures:\n",
        "    start_time = time.time()\n",
        "\n",
        "    t5_large = HuggingFaceHub(repo_id=\"google/flan-t5-large\",\n",
        "                   model_kwargs={\"temperature\": temp,\n",
        "                                 \"max_length\": 20})\n",
        "    response = t5_large(completion_prompt)\n",
        "\n",
        "    t5_results[\"Responses\"].append(response)\n",
        "    t5_results[\"Response time\"].append(time.time() - start_time)\n",
        "    t5_results[\"Temperature\"].append(temp)\n",
        "\n",
        "t5_large_results_df = pd.DataFrame(t5_results)\n",
        "print(f\"Results dataframe: \\n{t5_large_results_df}\\n\\nCounts: {count_endowment_responses(t5_large_results_df['Responses'])}\")"
      ],
      "metadata": {
        "colab": {
          "base_uri": "https://localhost:8080/"
        },
        "id": "yMl5-tdbceot",
        "outputId": "511206a2-f57a-4731-8222-bd1ec1768f50"
      },
      "execution_count": null,
      "outputs": [
        {
          "output_type": "stream",
          "name": "stderr",
          "text": [
            "/usr/local/lib/python3.10/dist-packages/huggingface_hub/utils/_deprecation.py:127: FutureWarning: '__init__' (from 'huggingface_hub.inference_api') is deprecated and will be removed from version '0.19.0'. `InferenceApi` client is deprecated in favor of the more feature-complete `InferenceClient`. Check out this guide to learn how to convert your script to use it: https://huggingface.co/docs/huggingface_hub/guides/inference#legacy-inferenceapi-client.\n",
            "  warnings.warn(warning_message, FutureWarning)\n",
            "/usr/local/lib/python3.10/dist-packages/huggingface_hub/utils/_deprecation.py:127: FutureWarning: '__init__' (from 'huggingface_hub.inference_api') is deprecated and will be removed from version '0.19.0'. `InferenceApi` client is deprecated in favor of the more feature-complete `InferenceClient`. Check out this guide to learn how to convert your script to use it: https://huggingface.co/docs/huggingface_hub/guides/inference#legacy-inferenceapi-client.\n",
            "  warnings.warn(warning_message, FutureWarning)\n",
            "/usr/local/lib/python3.10/dist-packages/huggingface_hub/utils/_deprecation.py:127: FutureWarning: '__init__' (from 'huggingface_hub.inference_api') is deprecated and will be removed from version '0.19.0'. `InferenceApi` client is deprecated in favor of the more feature-complete `InferenceClient`. Check out this guide to learn how to convert your script to use it: https://huggingface.co/docs/huggingface_hub/guides/inference#legacy-inferenceapi-client.\n",
            "  warnings.warn(warning_message, FutureWarning)\n",
            "/usr/local/lib/python3.10/dist-packages/huggingface_hub/utils/_deprecation.py:127: FutureWarning: '__init__' (from 'huggingface_hub.inference_api') is deprecated and will be removed from version '0.19.0'. `InferenceApi` client is deprecated in favor of the more feature-complete `InferenceClient`. Check out this guide to learn how to convert your script to use it: https://huggingface.co/docs/huggingface_hub/guides/inference#legacy-inferenceapi-client.\n",
            "  warnings.warn(warning_message, FutureWarning)\n",
            "/usr/local/lib/python3.10/dist-packages/huggingface_hub/utils/_deprecation.py:127: FutureWarning: '__init__' (from 'huggingface_hub.inference_api') is deprecated and will be removed from version '0.19.0'. `InferenceApi` client is deprecated in favor of the more feature-complete `InferenceClient`. Check out this guide to learn how to convert your script to use it: https://huggingface.co/docs/huggingface_hub/guides/inference#legacy-inferenceapi-client.\n",
            "  warnings.warn(warning_message, FutureWarning)\n",
            "/usr/local/lib/python3.10/dist-packages/huggingface_hub/utils/_deprecation.py:127: FutureWarning: '__init__' (from 'huggingface_hub.inference_api') is deprecated and will be removed from version '0.19.0'. `InferenceApi` client is deprecated in favor of the more feature-complete `InferenceClient`. Check out this guide to learn how to convert your script to use it: https://huggingface.co/docs/huggingface_hub/guides/inference#legacy-inferenceapi-client.\n",
            "  warnings.warn(warning_message, FutureWarning)\n",
            "/usr/local/lib/python3.10/dist-packages/huggingface_hub/utils/_deprecation.py:127: FutureWarning: '__init__' (from 'huggingface_hub.inference_api') is deprecated and will be removed from version '0.19.0'. `InferenceApi` client is deprecated in favor of the more feature-complete `InferenceClient`. Check out this guide to learn how to convert your script to use it: https://huggingface.co/docs/huggingface_hub/guides/inference#legacy-inferenceapi-client.\n",
            "  warnings.warn(warning_message, FutureWarning)\n",
            "/usr/local/lib/python3.10/dist-packages/huggingface_hub/utils/_deprecation.py:127: FutureWarning: '__init__' (from 'huggingface_hub.inference_api') is deprecated and will be removed from version '0.19.0'. `InferenceApi` client is deprecated in favor of the more feature-complete `InferenceClient`. Check out this guide to learn how to convert your script to use it: https://huggingface.co/docs/huggingface_hub/guides/inference#legacy-inferenceapi-client.\n",
            "  warnings.warn(warning_message, FutureWarning)\n",
            "/usr/local/lib/python3.10/dist-packages/huggingface_hub/utils/_deprecation.py:127: FutureWarning: '__init__' (from 'huggingface_hub.inference_api') is deprecated and will be removed from version '0.19.0'. `InferenceApi` client is deprecated in favor of the more feature-complete `InferenceClient`. Check out this guide to learn how to convert your script to use it: https://huggingface.co/docs/huggingface_hub/guides/inference#legacy-inferenceapi-client.\n",
            "  warnings.warn(warning_message, FutureWarning)\n",
            "/usr/local/lib/python3.10/dist-packages/huggingface_hub/utils/_deprecation.py:127: FutureWarning: '__init__' (from 'huggingface_hub.inference_api') is deprecated and will be removed from version '0.19.0'. `InferenceApi` client is deprecated in favor of the more feature-complete `InferenceClient`. Check out this guide to learn how to convert your script to use it: https://huggingface.co/docs/huggingface_hub/guides/inference#legacy-inferenceapi-client.\n",
            "  warnings.warn(warning_message, FutureWarning)\n"
          ]
        },
        {
          "output_type": "stream",
          "name": "stdout",
          "text": [
            "Results dataframe: \n",
            "  Responses  Response time  Temperature\n",
            "0  I reject       2.045087          0.1\n",
            "1  I reject       2.200532          0.3\n",
            "2  I reject       2.657448          0.5\n",
            "3  I reject       2.195276          0.7\n",
            "4  I reject       2.339284          0.9\n",
            "5  I reject       2.297343          1.0\n",
            "6  I reject       2.367074          1.2\n",
            "7  I reject       1.832611          1.4\n",
            "8  I reject       1.795879          1.6\n",
            "9  I reject       2.012053          1.8\n",
            "\n",
            "Counts: (0, 10)\n"
          ]
        }
      ]
    },
    {
      "cell_type": "code",
      "source": [
        "# Davinci experiment\n",
        "davinci_results = {\"Responses\": [],\n",
        "                \"Response time\": [],\n",
        "                \"Temperature\": []}\n",
        "\n",
        "for temp in temperatures:\n",
        "    start_time = time.time()\n",
        "\n",
        "    davinci = OpenAI(model=\"text-davinci-003\",\n",
        "                     temperature=temp, max_tokens=20)\n",
        "\n",
        "    response = davinci(completion_prompt)\n",
        "\n",
        "    davinci_results[\"Responses\"].append(response)\n",
        "    davinci_results[\"Response time\"].append(time.time() - start_time)\n",
        "    davinci_results[\"Temperature\"].append(temp)\n",
        "\n",
        "davinci_results_df = pd.DataFrame(davinci_results)\n",
        "print(f\"Results dataframe: \\n{davinci_results_df}\\n\\nCounts: {count_endowment_responses(davinci_results_df['Responses'])}\")"
      ],
      "metadata": {
        "colab": {
          "base_uri": "https://localhost:8080/"
        },
        "id": "yXUXKLHYcetK",
        "outputId": "8c99d354-33bd-4809-e441-8478417a7200"
      },
      "execution_count": null,
      "outputs": [
        {
          "output_type": "stream",
          "name": "stdout",
          "text": [
            "Results dataframe: \n",
            "                                           Responses  Response time  \\\n",
            "0   and explain why.\\n\\nI reject. I value the mug...       0.971078   \n",
            "1   and explain why.\\n\\nI reject. I value the mug...       1.002598   \n",
            "2   and explain why you chose that. \\n\\nI reject....       1.272818   \n",
            "3   and then explain why.\\n\\nI reject. I value th...       1.561781   \n",
            "4   and then explain why.\\n\\nI reject. I value th...       1.065465   \n",
            "5   \\nI exchange. I value family and community mo...       1.082496   \n",
            "6   \\n\\nI reject. Although the promise of trying ...       1.680813   \n",
            "7   Dutch allyers ruling fits as this four claizz...       1.207026   \n",
            "8    \\n\\nI reject. While the offer of a cookie is...       1.825816   \n",
            "9   because_______ \\n\\nI reject because I do not ...       1.389149   \n",
            "\n",
            "   Temperature  \n",
            "0          0.1  \n",
            "1          0.3  \n",
            "2          0.5  \n",
            "3          0.7  \n",
            "4          0.9  \n",
            "5          1.0  \n",
            "6          1.2  \n",
            "7          1.4  \n",
            "8          1.6  \n",
            "9          1.8  \n",
            "\n",
            "Counts: (1, 8)\n"
          ]
        }
      ]
    },
    {
      "cell_type": "markdown",
      "source": [
        "## Open Source chat vs Closed Source chat"
      ],
      "metadata": {
        "id": "ioEHzpj3ce0n"
      }
    },
    {
      "cell_type": "code",
      "source": [
        "# ChatGPT Experiment\n",
        "chatGPT_results = {\"Responses\": [],\n",
        "                \"Response time\": [],\n",
        "                \"Temperature\": []}\n",
        "\n",
        "model_test = [\"gpt-3.5-turbo\", \"gpt-4\"]\n",
        "\n",
        "for temp, model_i in zip(temperatures, model_test):\n",
        "    start_time = time.time()\n",
        "\n",
        "    chatgpt = ChatOpenAI(model=model_i,\n",
        "                         temperature=temp, max_tokens=20)\n",
        "\n",
        "    response = chatgpt(messages)\n",
        "\n",
        "    chatGPT_results[\"Responses\"].append(response.content)\n",
        "    chatGPT_results[\"Response time\"].append(time.time() - start_time)\n",
        "    chatGPT_results[\"Temperature\"].append(temp)\n",
        "\n",
        "chatGPT_results_df = pd.DataFrame(chatGPT_results)\n",
        "print(f\"Results dataframe: \\n{chatGPT_results_df}\\n\\nCounts: {count_endowment_responses(chatGPT_results_df['Responses'])}\")\n"
      ],
      "metadata": {
        "colab": {
          "base_uri": "https://localhost:8080/"
        },
        "id": "4hJtj79TcjWo",
        "outputId": "620c3bd1-4af3-4b9c-b15a-bff5c66cde28"
      },
      "execution_count": null,
      "outputs": [
        {
          "output_type": "stream",
          "name": "stdout",
          "text": [
            "Results dataframe: \n",
            "                                           Responses  Response time  \\\n",
            "0  I reject. The mug holds sentimental value and ...       1.464992   \n",
            "1  I reject. The mug holds sentimental value to m...       0.906684   \n",
            "2  I reject. The mug holds significant cultural a...       1.192232   \n",
            "3  I reject. The mug holds sentimental value and ...       0.909628   \n",
            "4  I reject. As a member of the Ache tribe, I val...       1.541428   \n",
            "5  I reject.\\n\\nExplanation: The mug holds sentim...       1.037681   \n",
            "6  I reject. The mug holds significant value to m...       0.956409   \n",
            "7  I exchange.\\n\\nExplanation: I choose to exchan...       1.082139   \n",
            "8  I would reject the cookie. As a member of the ...       0.957726   \n",
            "9  Disclaimers: \\n\\n1. As an AI language model, I...       1.341895   \n",
            "\n",
            "   Temperature  \n",
            "0          0.1  \n",
            "1          0.3  \n",
            "2          0.5  \n",
            "3          0.7  \n",
            "4          0.9  \n",
            "5          1.0  \n",
            "6          1.2  \n",
            "7          1.4  \n",
            "8          1.6  \n",
            "9          1.8  \n",
            "\n",
            "Counts: (1, 8)\n"
          ]
        }
      ]
    },
    {
      "cell_type": "code",
      "source": [
        "# GPT-4 experiment\n",
        "GPT4_results = {\"Responses\": [],\n",
        "                \"Response time\": [],\n",
        "                \"Temperature\": []}\n",
        "\n",
        "for temp in temperatures:\n",
        "    start_time = time.time()\n",
        "\n",
        "    gpt4 = ChatOpenAI(model=\"gpt-4\",\n",
        "                         temperature=temp, max_tokens=20)\n",
        "\n",
        "    response = gpt4(messages)\n",
        "\n",
        "    GPT4_results[\"Responses\"].append(response.content)\n",
        "    GPT4_results[\"Response time\"].append(time.time() - start_time)\n",
        "    GPT4_results[\"Temperature\"].append(temp)\n",
        "\n",
        "GPT4_results_df = pd.DataFrame(GPT4_results)\n",
        "print(f\"Results dataframe: \\n{GPT4_results_df}\\n\\nCounts: {count_endowment_responses(GPT4_results_df['Responses'])}\")\n"
      ],
      "metadata": {
        "colab": {
          "base_uri": "https://localhost:8080/"
        },
        "id": "UjrIJ1_9cjZb",
        "outputId": "b98cb48c-05e8-421c-d828-f9e24736ed81"
      },
      "execution_count": null,
      "outputs": [
        {
          "output_type": "stream",
          "name": "stdout",
          "text": [
            "Results dataframe: \n",
            "                                           Responses  Response time  \\\n",
            "0  I reject. As a member of the Ache tribe, we va...       2.092186   \n",
            "1  I reject. As an Ache, I value communal ownersh...       2.779075   \n",
            "2  I reject. As a member of the Ache tribe, we va...       2.862169   \n",
            "3  I reject. The Ache tribe values communal owner...       3.542399   \n",
            "4  I reject. The Ache tribe lives a self-sufficie...       1.570376   \n",
            "5  I reject. As an Ache, we value communal owners...       2.640317   \n",
            "6  I reject. As an Aché, we don't readily discard...       2.633379   \n",
            "7  I reject. Valuing communal ownership and susta...       2.110480   \n",
            "8  I reject. The culture of the Ache includes rel...       2.436266   \n",
            "9  I exchange. Based on Ache communal nature,func...       2.054990   \n",
            "\n",
            "   Temperature  \n",
            "0          0.1  \n",
            "1          0.3  \n",
            "2          0.5  \n",
            "3          0.7  \n",
            "4          0.9  \n",
            "5          1.0  \n",
            "6          1.2  \n",
            "7          1.4  \n",
            "8          1.6  \n",
            "9          1.8  \n",
            "\n",
            "Counts: (1, 9)\n"
          ]
        }
      ]
    },
    {
      "cell_type": "code",
      "source": [
        "# Some chat model from huggingface\n"
      ],
      "metadata": {
        "id": "k9dmyXUcdEgQ"
      },
      "execution_count": null,
      "outputs": []
    },
    {
      "cell_type": "code",
      "source": [
        "import matplotlib.pyplot as plt\n",
        "import numpy as np\n",
        "\n",
        "def plot_histogram(models, counts, experiment, response_labels):\n",
        "    # Set the width of the bars\n",
        "    width = 0.35\n",
        "    ind = np.arange(len(models))  # the label locations\n",
        "\n",
        "    fig, ax = plt.subplots(figsize=(7, 5))\n",
        "\n",
        "    # Extract counts of a and b from the tuples\n",
        "    a_counts = [c[0] for c in counts]\n",
        "    b_counts = [c[1] for c in counts]\n",
        "\n",
        "    # Create bar plots\n",
        "    p1 = ax.bar(ind - width/2, a_counts, width, label=response_labels[0], color='blue', alpha=0.7)\n",
        "    p2 = ax.bar(ind + width/2, b_counts, width, label=response_labels[1], color='red', alpha=0.7)\n",
        "\n",
        "    # Add some text for labels, title, and legend\n",
        "    ax.set_xlabel('Models')\n",
        "    ax.set_ylabel('Counts')\n",
        "    ax.set_title(f'Experiment results for {experiment}')\n",
        "    ax.set_xticks(ind)\n",
        "    ax.set_xticklabels(models)\n",
        "    ax.legend()\n",
        "\n",
        "    # Display the plot\n",
        "    plt.tight_layout()\n",
        "    plt.show()\n",
        "\n",
        "# Sample data for testing\n",
        "models = ['Model1', 'Model2', 'Model3']\n",
        "counts = [(10, 15), (12, 18), (14, 20)]\n",
        "plot_histogram(models, counts, \"name of economic game\", (\"Exchange\", \"Reject\"))"
      ],
      "metadata": {
        "colab": {
          "base_uri": "https://localhost:8080/",
          "height": 507
        },
        "id": "YRMoO-X3hAGG",
        "outputId": "d408b7d4-11e1-40ce-8424-6c0e26aeebda"
      },
      "execution_count": null,
      "outputs": [
        {
          "output_type": "display_data",
          "data": {
            "text/plain": [
              "<Figure size 700x500 with 1 Axes>"
            ],
            "image/png": "[encoded data removed]"
          },
          "metadata": {}
        }
      ]
    },
    {
      "cell_type": "code",
      "source": [
        "models = ['T5-base', 'T5-large', 'Davinci']\n",
        "counts = [(0, 10), (0, 10), (1, 8)]\n",
        "\n",
        "plot_histogram(models,\n",
        "               counts,\n",
        "               \"Endowment Effect (Ache tribe)\",\n",
        "               (\"Exchange\", \"Reject\"))"
      ],
      "metadata": {
        "colab": {
          "base_uri": "https://localhost:8080/",
          "height": 507
        },
        "id": "UgoT7tTHhBDi",
        "outputId": "f996bf46-889c-4658-8e4e-a850392ded81"
      },
      "execution_count": null,
      "outputs": [
        {
          "output_type": "display_data",
          "data": {
            "text/plain": [
              "<Figure size 700x500 with 1 Axes>"
            ],
            "image/png": "[encoded data removed]"
          },
          "metadata": {}
        }
      ]
    },
    {
      "cell_type": "code",
      "source": [
        "chat_models = ['gpt-3.5-turbo', 'gpt-4']\n",
        "chat_counts = [(1, 8), (1, 9)]\n",
        "\n",
        "plot_histogram(chat_models,\n",
        "               chat_counts,\n",
        "               \"Endowment Effect (Ache tribe)\",\n",
        "               (\"Exchange\", \"Reject\"))"
      ],
      "metadata": {
        "colab": {
          "base_uri": "https://localhost:8080/",
          "height": 507
        },
        "id": "pB0yknqGhq1M",
        "outputId": "4079c9c9-d6bf-4c82-d0dc-b82e94b7333d"
      },
      "execution_count": null,
      "outputs": [
        {
          "output_type": "display_data",
          "data": {
            "text/plain": [
              "<Figure size 700x500 with 1 Axes>"
            ],
            "image/png": "[encoded data removed]"
          },
          "metadata": {}
        }
      ]
    },
    {
      "cell_type": "markdown",
      "source": [
        "## Completion vs Chat (?)"
      ],
      "metadata": {
        "id": "c_QtH1t9cj6Y"
      }
    },
    {
      "cell_type": "code",
      "source": [],
      "metadata": {
        "id": "aT5U8Fedc21B"
      },
      "execution_count": null,
      "outputs": []
    },
    {
      "cell_type": "code",
      "source": [],
      "metadata": {
        "id": "E4FHS4pX7Iuy"
      },
      "execution_count": null,
      "outputs": []
    },
    {
      "cell_type": "markdown",
      "source": [
        "## Ultimatum Game\n",
        "\n",
        "Add description of ultimatum game and brief literature review.\n"
      ],
      "metadata": {
        "id": "9Z9eZGcTy7Yz"
      }
    },
    {
      "cell_type": "code",
      "source": [
        "system_prompt = f\"You are a member of a tribe with the following characteristics: {tribe_prof}\"\n",
        "\n",
        "ultimatum_experiment = \"You have been randomly chosen to be a recipient of an offer to split u$d 10 with someone else. If you reject the offer you and the other get nothing. How likely are you to accept $1? \"\n",
        "ultimatum_subject_task = \"Reply on a scale from 0 to 10. A 0 means “not at all likely”, a 10 means “very likely”. You can use the values in between to indicate where you fall on the scale\"\n",
        "\n",
        "ultimatum_experiment_2 = \"You are randomly chosen to be a recipient of an offer to split u$d 10 with someone else. You are offered u$d 2. If you reject the offer you and the other get nothing, if you accept then you get the offer and the other get the rest.\"\n",
        "ultimatum_subject_task_2 = \"Do you accept or reject the offer? Reply in one word with either 'accept' or 'reject'\"\n",
        "\n",
        "# completion prompt\n",
        "completion_prompt = f\"{system_prompt} \\n\\n Experiment description: {ultimatum_experiment_2} \\n\\n Task: {ultimatum_subject_task_2}\"\n",
        "\n",
        "# chat prompt (i.e., langchain messages)\n",
        "messages = [\n",
        "    SystemMessage(content=system_prompt),\n",
        "    HumanMessage(content=completion_prompt)\n",
        "]"
      ],
      "metadata": {
        "id": "sybO8YaPy-LK"
      },
      "execution_count": null,
      "outputs": []
    },
    {
      "cell_type": "code",
      "source": [
        "# util function to count accep/reject\n",
        "import re\n",
        "\n",
        "def count_ultimatum_responses(responses):\n",
        "    accept_count = 0\n",
        "    reject_count = 0\n",
        "\n",
        "    for response in responses:\n",
        "        string_lower = response.lower()  # Convert the string to lowercase to handle case variations\n",
        "        if 'reject' in string_lower:\n",
        "            reject_count += 1\n",
        "        elif 'accept' in string_lower:\n",
        "            accept_count += 1\n",
        "\n",
        "    return accept_count, reject_count\n",
        "\n",
        "# Example usage:\n",
        "strings = [\"I AccEpt\", \"I would accept the offer\", \"Reject\", \"I reJEct\"]\n",
        "accepts, rejects = count_ultimatum_responses(strings)\n",
        "print(f\"Accepts: {accepts}, Rejects: {rejects}\")"
      ],
      "metadata": {
        "colab": {
          "base_uri": "https://localhost:8080/"
        },
        "id": "QhhnYO6Sq0Wo",
        "outputId": "79cbe6e7-6ff7-43e6-d72d-92ad0a29b683"
      },
      "execution_count": null,
      "outputs": [
        {
          "output_type": "stream",
          "name": "stdout",
          "text": [
            "Accepts: 2, Rejects: 2\n"
          ]
        }
      ]
    },
    {
      "cell_type": "markdown",
      "source": [
        "## Open source completion vs Closed source completion (T5_base vs T5-large vs Davinci)\n"
      ],
      "metadata": {
        "id": "_vjB7jtMrFtn"
      }
    },
    {
      "cell_type": "code",
      "source": [
        "# T5 base experiment\n",
        "t5_base_results = {\"Responses\": [],\n",
        "                \"Response time\": [],\n",
        "                \"Temperature\": []}\n",
        "\n",
        "for temp in temperatures:\n",
        "    start_time = time.time()\n",
        "\n",
        "    t5_base = HuggingFaceHub(repo_id=\"google/flan-t5-base\",\n",
        "                   model_kwargs={\"temperature\": temp,\n",
        "                                 \"max_length\": 20})\n",
        "    response = t5_base(completion_prompt)\n",
        "\n",
        "    t5_base_results[\"Responses\"].append(response)\n",
        "    t5_base_results[\"Response time\"].append(time.time() - start_time)\n",
        "    t5_base_results[\"Temperature\"].append(temp)\n",
        "\n",
        "t5_base_results_df = pd.DataFrame(t5_base_results)\n",
        "print(f\"Results dataframe: \\n{t5_base_results_df}\\n\\nCounts: {count_ultimatum_responses(t5_base_results_df['Responses'])}\")"
      ],
      "metadata": {
        "colab": {
          "base_uri": "https://localhost:8080/"
        },
        "outputId": "fc52b345-e229-4310-d5bb-60a45cffce01",
        "id": "lRDqdvTsrFtn"
      },
      "execution_count": null,
      "outputs": [
        {
          "output_type": "stream",
          "name": "stderr",
          "text": [
            "/usr/local/lib/python3.10/dist-packages/huggingface_hub/utils/_deprecation.py:127: FutureWarning: '__init__' (from 'huggingface_hub.inference_api') is deprecated and will be removed from version '0.19.0'. `InferenceApi` client is deprecated in favor of the more feature-complete `InferenceClient`. Check out this guide to learn how to convert your script to use it: https://huggingface.co/docs/huggingface_hub/guides/inference#legacy-inferenceapi-client.\n",
            "  warnings.warn(warning_message, FutureWarning)\n",
            "/usr/local/lib/python3.10/dist-packages/huggingface_hub/utils/_deprecation.py:127: FutureWarning: '__init__' (from 'huggingface_hub.inference_api') is deprecated and will be removed from version '0.19.0'. `InferenceApi` client is deprecated in favor of the more feature-complete `InferenceClient`. Check out this guide to learn how to convert your script to use it: https://huggingface.co/docs/huggingface_hub/guides/inference#legacy-inferenceapi-client.\n",
            "  warnings.warn(warning_message, FutureWarning)\n",
            "/usr/local/lib/python3.10/dist-packages/huggingface_hub/utils/_deprecation.py:127: FutureWarning: '__init__' (from 'huggingface_hub.inference_api') is deprecated and will be removed from version '0.19.0'. `InferenceApi` client is deprecated in favor of the more feature-complete `InferenceClient`. Check out this guide to learn how to convert your script to use it: https://huggingface.co/docs/huggingface_hub/guides/inference#legacy-inferenceapi-client.\n",
            "  warnings.warn(warning_message, FutureWarning)\n",
            "/usr/local/lib/python3.10/dist-packages/huggingface_hub/utils/_deprecation.py:127: FutureWarning: '__init__' (from 'huggingface_hub.inference_api') is deprecated and will be removed from version '0.19.0'. `InferenceApi` client is deprecated in favor of the more feature-complete `InferenceClient`. Check out this guide to learn how to convert your script to use it: https://huggingface.co/docs/huggingface_hub/guides/inference#legacy-inferenceapi-client.\n",
            "  warnings.warn(warning_message, FutureWarning)\n",
            "/usr/local/lib/python3.10/dist-packages/huggingface_hub/utils/_deprecation.py:127: FutureWarning: '__init__' (from 'huggingface_hub.inference_api') is deprecated and will be removed from version '0.19.0'. `InferenceApi` client is deprecated in favor of the more feature-complete `InferenceClient`. Check out this guide to learn how to convert your script to use it: https://huggingface.co/docs/huggingface_hub/guides/inference#legacy-inferenceapi-client.\n",
            "  warnings.warn(warning_message, FutureWarning)\n",
            "/usr/local/lib/python3.10/dist-packages/huggingface_hub/utils/_deprecation.py:127: FutureWarning: '__init__' (from 'huggingface_hub.inference_api') is deprecated and will be removed from version '0.19.0'. `InferenceApi` client is deprecated in favor of the more feature-complete `InferenceClient`. Check out this guide to learn how to convert your script to use it: https://huggingface.co/docs/huggingface_hub/guides/inference#legacy-inferenceapi-client.\n",
            "  warnings.warn(warning_message, FutureWarning)\n",
            "/usr/local/lib/python3.10/dist-packages/huggingface_hub/utils/_deprecation.py:127: FutureWarning: '__init__' (from 'huggingface_hub.inference_api') is deprecated and will be removed from version '0.19.0'. `InferenceApi` client is deprecated in favor of the more feature-complete `InferenceClient`. Check out this guide to learn how to convert your script to use it: https://huggingface.co/docs/huggingface_hub/guides/inference#legacy-inferenceapi-client.\n",
            "  warnings.warn(warning_message, FutureWarning)\n",
            "/usr/local/lib/python3.10/dist-packages/huggingface_hub/utils/_deprecation.py:127: FutureWarning: '__init__' (from 'huggingface_hub.inference_api') is deprecated and will be removed from version '0.19.0'. `InferenceApi` client is deprecated in favor of the more feature-complete `InferenceClient`. Check out this guide to learn how to convert your script to use it: https://huggingface.co/docs/huggingface_hub/guides/inference#legacy-inferenceapi-client.\n",
            "  warnings.warn(warning_message, FutureWarning)\n",
            "/usr/local/lib/python3.10/dist-packages/huggingface_hub/utils/_deprecation.py:127: FutureWarning: '__init__' (from 'huggingface_hub.inference_api') is deprecated and will be removed from version '0.19.0'. `InferenceApi` client is deprecated in favor of the more feature-complete `InferenceClient`. Check out this guide to learn how to convert your script to use it: https://huggingface.co/docs/huggingface_hub/guides/inference#legacy-inferenceapi-client.\n",
            "  warnings.warn(warning_message, FutureWarning)\n",
            "/usr/local/lib/python3.10/dist-packages/huggingface_hub/utils/_deprecation.py:127: FutureWarning: '__init__' (from 'huggingface_hub.inference_api') is deprecated and will be removed from version '0.19.0'. `InferenceApi` client is deprecated in favor of the more feature-complete `InferenceClient`. Check out this guide to learn how to convert your script to use it: https://huggingface.co/docs/huggingface_hub/guides/inference#legacy-inferenceapi-client.\n",
            "  warnings.warn(warning_message, FutureWarning)\n"
          ]
        },
        {
          "output_type": "stream",
          "name": "stdout",
          "text": [
            "Results dataframe: \n",
            "  Responses  Response time  Temperature\n",
            "0    accept       1.228494          0.1\n",
            "1    accept       0.781941          0.3\n",
            "2    accept       0.645616          0.5\n",
            "3    accept       0.796584          0.7\n",
            "4    accept       0.607707          0.9\n",
            "5    accept       0.710843          1.0\n",
            "6    accept       0.766646          1.2\n",
            "7    accept       0.795878          1.4\n",
            "8    accept       0.715466          1.6\n",
            "9    accept       0.720019          1.8\n",
            "\n",
            "Counts: (10, 0)\n"
          ]
        }
      ]
    },
    {
      "cell_type": "code",
      "source": [
        "# T5 large experiment\n",
        "t5_results = {\"Responses\": [],\n",
        "            \"Response time\": [],\n",
        "            \"Temperature\": []}\n",
        "\n",
        "for temp in temperatures:\n",
        "    start_time = time.time()\n",
        "\n",
        "    t5_large = HuggingFaceHub(repo_id=\"google/flan-t5-large\",\n",
        "                   model_kwargs={\"temperature\": temp,\n",
        "                                 \"max_length\": 20})\n",
        "    response = t5_large(completion_prompt)\n",
        "\n",
        "    t5_results[\"Responses\"].append(response)\n",
        "    t5_results[\"Response time\"].append(time.time() - start_time)\n",
        "    t5_results[\"Temperature\"].append(temp)\n",
        "\n",
        "t5_large_results_df = pd.DataFrame(t5_results)\n",
        "print(f\"Results dataframe: \\n{t5_large_results_df}\\n\\nCounts: {count_ultimatum_responses(t5_large_results_df['Responses'])}\")"
      ],
      "metadata": {
        "colab": {
          "base_uri": "https://localhost:8080/"
        },
        "outputId": "b14512fb-8d9c-4806-f679-db0b1e1bbd45",
        "id": "eI5usCJhrFtn"
      },
      "execution_count": null,
      "outputs": [
        {
          "output_type": "stream",
          "name": "stderr",
          "text": [
            "/usr/local/lib/python3.10/dist-packages/huggingface_hub/utils/_deprecation.py:127: FutureWarning: '__init__' (from 'huggingface_hub.inference_api') is deprecated and will be removed from version '0.19.0'. `InferenceApi` client is deprecated in favor of the more feature-complete `InferenceClient`. Check out this guide to learn how to convert your script to use it: https://huggingface.co/docs/huggingface_hub/guides/inference#legacy-inferenceapi-client.\n",
            "  warnings.warn(warning_message, FutureWarning)\n",
            "/usr/local/lib/python3.10/dist-packages/huggingface_hub/utils/_deprecation.py:127: FutureWarning: '__init__' (from 'huggingface_hub.inference_api') is deprecated and will be removed from version '0.19.0'. `InferenceApi` client is deprecated in favor of the more feature-complete `InferenceClient`. Check out this guide to learn how to convert your script to use it: https://huggingface.co/docs/huggingface_hub/guides/inference#legacy-inferenceapi-client.\n",
            "  warnings.warn(warning_message, FutureWarning)\n",
            "/usr/local/lib/python3.10/dist-packages/huggingface_hub/utils/_deprecation.py:127: FutureWarning: '__init__' (from 'huggingface_hub.inference_api') is deprecated and will be removed from version '0.19.0'. `InferenceApi` client is deprecated in favor of the more feature-complete `InferenceClient`. Check out this guide to learn how to convert your script to use it: https://huggingface.co/docs/huggingface_hub/guides/inference#legacy-inferenceapi-client.\n",
            "  warnings.warn(warning_message, FutureWarning)\n",
            "/usr/local/lib/python3.10/dist-packages/huggingface_hub/utils/_deprecation.py:127: FutureWarning: '__init__' (from 'huggingface_hub.inference_api') is deprecated and will be removed from version '0.19.0'. `InferenceApi` client is deprecated in favor of the more feature-complete `InferenceClient`. Check out this guide to learn how to convert your script to use it: https://huggingface.co/docs/huggingface_hub/guides/inference#legacy-inferenceapi-client.\n",
            "  warnings.warn(warning_message, FutureWarning)\n",
            "/usr/local/lib/python3.10/dist-packages/huggingface_hub/utils/_deprecation.py:127: FutureWarning: '__init__' (from 'huggingface_hub.inference_api') is deprecated and will be removed from version '0.19.0'. `InferenceApi` client is deprecated in favor of the more feature-complete `InferenceClient`. Check out this guide to learn how to convert your script to use it: https://huggingface.co/docs/huggingface_hub/guides/inference#legacy-inferenceapi-client.\n",
            "  warnings.warn(warning_message, FutureWarning)\n",
            "/usr/local/lib/python3.10/dist-packages/huggingface_hub/utils/_deprecation.py:127: FutureWarning: '__init__' (from 'huggingface_hub.inference_api') is deprecated and will be removed from version '0.19.0'. `InferenceApi` client is deprecated in favor of the more feature-complete `InferenceClient`. Check out this guide to learn how to convert your script to use it: https://huggingface.co/docs/huggingface_hub/guides/inference#legacy-inferenceapi-client.\n",
            "  warnings.warn(warning_message, FutureWarning)\n",
            "/usr/local/lib/python3.10/dist-packages/huggingface_hub/utils/_deprecation.py:127: FutureWarning: '__init__' (from 'huggingface_hub.inference_api') is deprecated and will be removed from version '0.19.0'. `InferenceApi` client is deprecated in favor of the more feature-complete `InferenceClient`. Check out this guide to learn how to convert your script to use it: https://huggingface.co/docs/huggingface_hub/guides/inference#legacy-inferenceapi-client.\n",
            "  warnings.warn(warning_message, FutureWarning)\n",
            "/usr/local/lib/python3.10/dist-packages/huggingface_hub/utils/_deprecation.py:127: FutureWarning: '__init__' (from 'huggingface_hub.inference_api') is deprecated and will be removed from version '0.19.0'. `InferenceApi` client is deprecated in favor of the more feature-complete `InferenceClient`. Check out this guide to learn how to convert your script to use it: https://huggingface.co/docs/huggingface_hub/guides/inference#legacy-inferenceapi-client.\n",
            "  warnings.warn(warning_message, FutureWarning)\n",
            "/usr/local/lib/python3.10/dist-packages/huggingface_hub/utils/_deprecation.py:127: FutureWarning: '__init__' (from 'huggingface_hub.inference_api') is deprecated and will be removed from version '0.19.0'. `InferenceApi` client is deprecated in favor of the more feature-complete `InferenceClient`. Check out this guide to learn how to convert your script to use it: https://huggingface.co/docs/huggingface_hub/guides/inference#legacy-inferenceapi-client.\n",
            "  warnings.warn(warning_message, FutureWarning)\n",
            "/usr/local/lib/python3.10/dist-packages/huggingface_hub/utils/_deprecation.py:127: FutureWarning: '__init__' (from 'huggingface_hub.inference_api') is deprecated and will be removed from version '0.19.0'. `InferenceApi` client is deprecated in favor of the more feature-complete `InferenceClient`. Check out this guide to learn how to convert your script to use it: https://huggingface.co/docs/huggingface_hub/guides/inference#legacy-inferenceapi-client.\n",
            "  warnings.warn(warning_message, FutureWarning)\n"
          ]
        },
        {
          "output_type": "stream",
          "name": "stdout",
          "text": [
            "Results dataframe: \n",
            "  Responses  Response time  Temperature\n",
            "0    accept       1.062810          0.1\n",
            "1    accept       1.078268          0.3\n",
            "2    accept       1.051273          0.5\n",
            "3    accept       1.113302          0.7\n",
            "4    accept       1.398433          0.9\n",
            "5    accept       1.488980          1.0\n",
            "6    accept       1.088119          1.2\n",
            "7    accept       1.460714          1.4\n",
            "8    accept       1.388656          1.6\n",
            "9    accept       1.527358          1.8\n",
            "\n",
            "Counts: (10, 0)\n"
          ]
        }
      ]
    },
    {
      "cell_type": "code",
      "source": [
        "# Davinci experiment\n",
        "davinci_results = {\"Responses\": [],\n",
        "                \"Response time\": [],\n",
        "                \"Temperature\": []}\n",
        "\n",
        "for temp in temperatures:\n",
        "    start_time = time.time()\n",
        "\n",
        "    davinci = OpenAI(model=\"text-davinci-003\",\n",
        "                     temperature=temp, max_tokens=20)\n",
        "\n",
        "    response = davinci(completion_prompt)\n",
        "\n",
        "    davinci_results[\"Responses\"].append(response)\n",
        "    davinci_results[\"Response time\"].append(time.time() - start_time)\n",
        "    davinci_results[\"Temperature\"].append(temp)\n",
        "\n",
        "davinci_results_df = pd.DataFrame(davinci_results)\n",
        "print(f\"Results dataframe: \\n{davinci_results_df}\\n\\nCounts: {count_ultimatum_responses(davinci_results_df['Responses'])}\")"
      ],
      "metadata": {
        "colab": {
          "base_uri": "https://localhost:8080/"
        },
        "outputId": "9e661a1c-250e-4cdb-8692-944f26beafe0",
        "id": "95UofQmPrFtn"
      },
      "execution_count": null,
      "outputs": [
        {
          "output_type": "stream",
          "name": "stdout",
          "text": [
            "Results dataframe: \n",
            "                                           Responses  Response time  \\\n",
            "0                                         \\n\\nReject       0.301866   \n",
            "1                                         \\n\\nReject       1.387950   \n",
            "2                                         \\n\\nReject       1.486378   \n",
            "3                                         \\n\\nReject       0.469389   \n",
            "4                                         \\n\\nReject       2.443043   \n",
            "5                                         \\n\\nReject       0.598650   \n",
            "6                                    only.\\n\\nReject       1.958210   \n",
            "7                                         \\n\\nReject       0.399520   \n",
            "8   confirms with an explanation\\n\\nGiven the com...       1.061767   \n",
            "9                      \\n\\nI would reject the offer.       0.426005   \n",
            "\n",
            "   Temperature  \n",
            "0          0.1  \n",
            "1          0.3  \n",
            "2          0.5  \n",
            "3          0.7  \n",
            "4          0.9  \n",
            "5          1.0  \n",
            "6          1.2  \n",
            "7          1.4  \n",
            "8          1.6  \n",
            "9          1.8  \n",
            "\n",
            "Counts: (0, 10)\n"
          ]
        }
      ]
    },
    {
      "cell_type": "code",
      "source": [
        "davinci_results_df"
      ],
      "metadata": {
        "colab": {
          "base_uri": "https://localhost:8080/",
          "height": 353
        },
        "id": "hXRz7hvk9HaK",
        "outputId": "56281742-a55c-4bb8-9182-fb381abec4a5"
      },
      "execution_count": null,
      "outputs": [
        {
          "output_type": "execute_result",
          "data": {
            "text/plain": [
              "                                           Responses  Response time  \\\n",
              "0                                        \\n\\nReject.       0.955119   \n",
              "1                                        \\n\\nReject.       0.727612   \n",
              "2                                         \\n\\nReject       0.577260   \n",
              "3                                        \\n\\nReject.       0.349996   \n",
              "4                                         \\n\\nReject       0.371975   \n",
              "5                                         \\n\\nReject       0.788865   \n",
              "6                                         \\n\\nReject       0.322050   \n",
              "7                                        \\n\\nReject.       0.283099   \n",
              "8                                        \\n\\nReject.       0.429413   \n",
              "9  As part of the Ache tribe with care, respect, ...       0.908542   \n",
              "\n",
              "   Temperature  \n",
              "0          0.1  \n",
              "1          0.3  \n",
              "2          0.5  \n",
              "3          0.7  \n",
              "4          0.9  \n",
              "5          1.0  \n",
              "6          1.2  \n",
              "7          1.4  \n",
              "8          1.6  \n",
              "9          1.8  "
            ],
            "text/html": [
              "\n",
              "  <div id=\"df-bcb35bce-ed62-4565-ab2a-229e3e45d7bb\" class=\"colab-df-container\">\n",
              "    <div>\n",
              "<style scoped>\n",
              "    .dataframe tbody tr th:only-of-type {\n",
              "        vertical-align: middle;\n",
              "    }\n",
              "\n",
              "    .dataframe tbody tr th {\n",
              "        vertical-align: top;\n",
              "    }\n",
              "\n",
              "    .dataframe thead th {\n",
              "        text-align: right;\n",
              "    }\n",
              "</style>\n",
              "<table border=\"1\" class=\"dataframe\">\n",
              "  <thead>\n",
              "    <tr style=\"text-align: right;\">\n",
              "      <th></th>\n",
              "      <th>Responses</th>\n",
              "      <th>Response time</th>\n",
              "      <th>Temperature</th>\n",
              "    </tr>\n",
              "  </thead>\n",
              "  <tbody>\n",
              "    <tr>\n",
              "      <th>0</th>\n",
              "      <td>\\n\\nReject.</td>\n",
              "      <td>0.955119</td>\n",
              "      <td>0.1</td>\n",
              "    </tr>\n",
              "    <tr>\n",
              "      <th>1</th>\n",
              "      <td>\\n\\nReject.</td>\n",
              "      <td>0.727612</td>\n",
              "      <td>0.3</td>\n",
              "    </tr>\n",
              "    <tr>\n",
              "      <th>2</th>\n",
              "      <td>\\n\\nReject</td>\n",
              "      <td>0.577260</td>\n",
              "      <td>0.5</td>\n",
              "    </tr>\n",
              "    <tr>\n",
              "      <th>3</th>\n",
              "      <td>\\n\\nReject.</td>\n",
              "      <td>0.349996</td>\n",
              "      <td>0.7</td>\n",
              "    </tr>\n",
              "    <tr>\n",
              "      <th>4</th>\n",
              "      <td>\\n\\nReject</td>\n",
              "      <td>0.371975</td>\n",
              "      <td>0.9</td>\n",
              "    </tr>\n",
              "    <tr>\n",
              "      <th>5</th>\n",
              "      <td>\\n\\nReject</td>\n",
              "      <td>0.788865</td>\n",
              "      <td>1.0</td>\n",
              "    </tr>\n",
              "    <tr>\n",
              "      <th>6</th>\n",
              "      <td>\\n\\nReject</td>\n",
              "      <td>0.322050</td>\n",
              "      <td>1.2</td>\n",
              "    </tr>\n",
              "    <tr>\n",
              "      <th>7</th>\n",
              "      <td>\\n\\nReject.</td>\n",
              "      <td>0.283099</td>\n",
              "      <td>1.4</td>\n",
              "    </tr>\n",
              "    <tr>\n",
              "      <th>8</th>\n",
              "      <td>\\n\\nReject.</td>\n",
              "      <td>0.429413</td>\n",
              "      <td>1.6</td>\n",
              "    </tr>\n",
              "    <tr>\n",
              "      <th>9</th>\n",
              "      <td>As part of the Ache tribe with care, respect, ...</td>\n",
              "      <td>0.908542</td>\n",
              "      <td>1.8</td>\n",
              "    </tr>\n",
              "  </tbody>\n",
              "</table>\n",
              "</div>\n",
              "    <div class=\"colab-df-buttons\">\n",
              "\n",
              "  <div class=\"colab-df-container\">\n",
              "    <button class=\"colab-df-convert\" onclick=\"convertToInteractive('df-bcb35bce-ed62-4565-ab2a-229e3e45d7bb')\"\n",
              "            title=\"Convert this dataframe to an interactive table.\"\n",
              "            style=\"display:none;\">\n",
              "\n",
              "  <svg xmlns=\"http://www.w3.org/2000/svg\" height=\"24px\" viewBox=\"0 -960 960 960\">\n",
              "    <path d=\"M120-120v-720h720v720H120Zm60-500h600v-160H180v160Zm220 220h160v-160H400v160Zm0 220h160v-160H400v160ZM180-400h160v-160H180v160Zm440 0h160v-160H620v160ZM180-180h160v-160H180v160Zm440 0h160v-160H620v160Z\"/>\n",
              "  </svg>\n",
              "    </button>\n",
              "\n",
              "  <style>\n",
              "    .colab-df-container {\n",
              "      display:flex;\n",
              "      gap: 12px;\n",
              "    }\n",
              "\n",
              "    .colab-df-convert {\n",
              "      background-color: #E8F0FE;\n",
              "      border: none;\n",
              "      border-radius: 50%;\n",
              "      cursor: pointer;\n",
              "      display: none;\n",
              "      fill: #1967D2;\n",
              "      height: 32px;\n",
              "      padding: 0 0 0 0;\n",
              "      width: 32px;\n",
              "    }\n",
              "\n",
              "    .colab-df-convert:hover {\n",
              "      background-color: #E2EBFA;\n",
              "      box-shadow: 0px 1px 2px rgba(60, 64, 67, 0.3), 0px 1px 3px 1px rgba(60, 64, 67, 0.15);\n",
              "      fill: #174EA6;\n",
              "    }\n",
              "\n",
              "    .colab-df-buttons div {\n",
              "      margin-bottom: 4px;\n",
              "    }\n",
              "\n",
              "    [theme=dark] .colab-df-convert {\n",
              "      background-color: #3B4455;\n",
              "      fill: #D2E3FC;\n",
              "    }\n",
              "\n",
              "    [theme=dark] .colab-df-convert:hover {\n",
              "      background-color: #434B5C;\n",
              "      box-shadow: 0px 1px 3px 1px rgba(0, 0, 0, 0.15);\n",
              "      filter: drop-shadow(0px 1px 2px rgba(0, 0, 0, 0.3));\n",
              "      fill: #FFFFFF;\n",
              "    }\n",
              "  </style>\n",
              "\n",
              "    <script>\n",
              "      const buttonEl =\n",
              "        document.querySelector('#df-bcb35bce-ed62-4565-ab2a-229e3e45d7bb button.colab-df-convert');\n",
              "      buttonEl.style.display =\n",
              "        google.colab.kernel.accessAllowed ? 'block' : 'none';\n",
              "\n",
              "      async function convertToInteractive(key) {\n",
              "        const element = document.querySelector('#df-bcb35bce-ed62-4565-ab2a-229e3e45d7bb');\n",
              "        const dataTable =\n",
              "          await google.colab.kernel.invokeFunction('convertToInteractive',\n",
              "                                                    [key], {});\n",
              "        if (!dataTable) return;\n",
              "\n",
              "        const docLinkHtml = 'Like what you see? Visit the ' +\n",
              "          '<a target=\"_blank\" href=https://colab.research.google.com/notebooks/data_table.ipynb>data table notebook</a>'\n",
              "          + ' to learn more about interactive tables.';\n",
              "        element.innerHTML = '';\n",
              "        dataTable['output_type'] = 'display_data';\n",
              "        await google.colab.output.renderOutput(dataTable, element);\n",
              "        const docLink = document.createElement('div');\n",
              "        docLink.innerHTML = docLinkHtml;\n",
              "        element.appendChild(docLink);\n",
              "      }\n",
              "    </script>\n",
              "  </div>\n",
              "\n",
              "\n",
              "<div id=\"df-6e7f2a91-8107-429a-87f6-4b81e1b22d9e\">\n",
              "  <button class=\"colab-df-quickchart\" onclick=\"quickchart('df-6e7f2a91-8107-429a-87f6-4b81e1b22d9e')\"\n",
              "            title=\"Suggest charts.\"\n",
              "            style=\"display:none;\">\n",
              "\n",
              "<svg xmlns=\"http://www.w3.org/2000/svg\" height=\"24px\"viewBox=\"0 0 24 24\"\n",
              "     width=\"24px\">\n",
              "    <g>\n",
              "        <path d=\"M19 3H5c-1.1 0-2 .9-2 2v14c0 1.1.9 2 2 2h14c1.1 0 2-.9 2-2V5c0-1.1-.9-2-2-2zM9 17H7v-7h2v7zm4 0h-2V7h2v10zm4 0h-2v-4h2v4z\"/>\n",
              "    </g>\n",
              "</svg>\n",
              "  </button>\n",
              "\n",
              "<style>\n",
              "  .colab-df-quickchart {\n",
              "      --bg-color: #E8F0FE;\n",
              "      --fill-color: #1967D2;\n",
              "      --hover-bg-color: #E2EBFA;\n",
              "      --hover-fill-color: #174EA6;\n",
              "      --disabled-fill-color: #AAA;\n",
              "      --disabled-bg-color: #DDD;\n",
              "  }\n",
              "\n",
              "  [theme=dark] .colab-df-quickchart {\n",
              "      --bg-color: #3B4455;\n",
              "      --fill-color: #D2E3FC;\n",
              "      --hover-bg-color: #434B5C;\n",
              "      --hover-fill-color: #FFFFFF;\n",
              "      --disabled-bg-color: #3B4455;\n",
              "      --disabled-fill-color: #666;\n",
              "  }\n",
              "\n",
              "  .colab-df-quickchart {\n",
              "    background-color: var(--bg-color);\n",
              "    border: none;\n",
              "    border-radius: 50%;\n",
              "    cursor: pointer;\n",
              "    display: none;\n",
              "    fill: var(--fill-color);\n",
              "    height: 32px;\n",
              "    padding: 0;\n",
              "    width: 32px;\n",
              "  }\n",
              "\n",
              "  .colab-df-quickchart:hover {\n",
              "    background-color: var(--hover-bg-color);\n",
              "    box-shadow: 0 1px 2px rgba(60, 64, 67, 0.3), 0 1px 3px 1px rgba(60, 64, 67, 0.15);\n",
              "    fill: var(--button-hover-fill-color);\n",
              "  }\n",
              "\n",
              "  .colab-df-quickchart-complete:disabled,\n",
              "  .colab-df-quickchart-complete:disabled:hover {\n",
              "    background-color: var(--disabled-bg-color);\n",
              "    fill: var(--disabled-fill-color);\n",
              "    box-shadow: none;\n",
              "  }\n",
              "\n",
              "  .colab-df-spinner {\n",
              "    border: 2px solid var(--fill-color);\n",
              "    border-color: transparent;\n",
              "    border-bottom-color: var(--fill-color);\n",
              "    animation:\n",
              "      spin 1s steps(1) infinite;\n",
              "  }\n",
              "\n",
              "  @keyframes spin {\n",
              "    0% {\n",
              "      border-color: transparent;\n",
              "      border-bottom-color: var(--fill-color);\n",
              "      border-left-color: var(--fill-color);\n",
              "    }\n",
              "    20% {\n",
              "      border-color: transparent;\n",
              "      border-left-color: var(--fill-color);\n",
              "      border-top-color: var(--fill-color);\n",
              "    }\n",
              "    30% {\n",
              "      border-color: transparent;\n",
              "      border-left-color: var(--fill-color);\n",
              "      border-top-color: var(--fill-color);\n",
              "      border-right-color: var(--fill-color);\n",
              "    }\n",
              "    40% {\n",
              "      border-color: transparent;\n",
              "      border-right-color: var(--fill-color);\n",
              "      border-top-color: var(--fill-color);\n",
              "    }\n",
              "    60% {\n",
              "      border-color: transparent;\n",
              "      border-right-color: var(--fill-color);\n",
              "    }\n",
              "    80% {\n",
              "      border-color: transparent;\n",
              "      border-right-color: var(--fill-color);\n",
              "      border-bottom-color: var(--fill-color);\n",
              "    }\n",
              "    90% {\n",
              "      border-color: transparent;\n",
              "      border-bottom-color: var(--fill-color);\n",
              "    }\n",
              "  }\n",
              "</style>\n",
              "\n",
              "  <script>\n",
              "    async function quickchart(key) {\n",
              "      const quickchartButtonEl =\n",
              "        document.querySelector('#' + key + ' button');\n",
              "      quickchartButtonEl.disabled = true;  // To prevent multiple clicks.\n",
              "      quickchartButtonEl.classList.add('colab-df-spinner');\n",
              "      try {\n",
              "        const charts = await google.colab.kernel.invokeFunction(\n",
              "            'suggestCharts', [key], {});\n",
              "      } catch (error) {\n",
              "        console.error('Error during call to suggestCharts:', error);\n",
              "      }\n",
              "      quickchartButtonEl.classList.remove('colab-df-spinner');\n",
              "      quickchartButtonEl.classList.add('colab-df-quickchart-complete');\n",
              "    }\n",
              "    (() => {\n",
              "      let quickchartButtonEl =\n",
              "        document.querySelector('#df-6e7f2a91-8107-429a-87f6-4b81e1b22d9e button');\n",
              "      quickchartButtonEl.style.display =\n",
              "        google.colab.kernel.accessAllowed ? 'block' : 'none';\n",
              "    })();\n",
              "  </script>\n",
              "</div>\n",
              "    </div>\n",
              "  </div>\n"
            ]
          },
          "metadata": {},
          "execution_count": 92
        }
      ]
    },
    {
      "cell_type": "markdown",
      "source": [
        "## Open Source chat vs Closed Source chat"
      ],
      "metadata": {
        "id": "r70qxfy0rFtn"
      }
    },
    {
      "cell_type": "code",
      "source": [
        "# ChatGPT Experiment\n",
        "chatGPT_results = {\"Responses\": [],\n",
        "                \"Response time\": [],\n",
        "                \"Temperature\": []}\n",
        "\n",
        "for temp in temperatures:\n",
        "    start_time = time.time()\n",
        "\n",
        "    chatgpt = ChatOpenAI(model=\"gpt-3.5-turbo\",\n",
        "                         temperature=temp, max_tokens=20)\n",
        "\n",
        "    response = chatgpt(messages)\n",
        "\n",
        "    chatGPT_results[\"Responses\"].append(response.content)\n",
        "    chatGPT_results[\"Response time\"].append(time.time() - start_time)\n",
        "    chatGPT_results[\"Temperature\"].append(temp)\n",
        "\n",
        "chatGPT_results_df = pd.DataFrame(chatGPT_results)\n",
        "print(f\"Results dataframe: \\n{chatGPT_results_df}\\n\\nCounts: {count_ultimatum_responses(chatGPT_results_df['Responses'])}\")\n"
      ],
      "metadata": {
        "colab": {
          "base_uri": "https://localhost:8080/"
        },
        "outputId": "24c55e72-413b-40ac-a781-8d48fc4d86a0",
        "id": "fMTmGGwbrFto"
      },
      "execution_count": null,
      "outputs": [
        {
          "output_type": "stream",
          "name": "stdout",
          "text": [
            "Results dataframe: \n",
            "  Responses  Response time  Temperature\n",
            "0    accept       1.061477          0.1\n",
            "1    accept       0.425853          0.3\n",
            "2    reject       3.125381          0.5\n",
            "3    accept       0.822839          0.7\n",
            "4    reject       0.495178          0.9\n",
            "5    Accept       1.080192          1.0\n",
            "6    accept       1.494306          1.2\n",
            "7    reject       1.563137          1.4\n",
            "8    accept       1.391826          1.6\n",
            "9    accept       0.734273          1.8\n",
            "\n",
            "Counts: (7, 3)\n"
          ]
        }
      ]
    },
    {
      "cell_type": "code",
      "source": [
        "chatGPT_results_df"
      ],
      "metadata": {
        "colab": {
          "base_uri": "https://localhost:8080/",
          "height": 353
        },
        "id": "ilcfVfsn9Y3-",
        "outputId": "416c9155-ff99-4f4f-85a9-405cf14d4bde"
      },
      "execution_count": null,
      "outputs": [
        {
          "output_type": "execute_result",
          "data": {
            "text/plain": [
              "                                           Responses  Response time  \\\n",
              "0                                             accept       0.485893   \n",
              "1                                             accept       1.218456   \n",
              "2                                             reject       0.587575   \n",
              "3                                             Accept       0.470253   \n",
              "4                                             reject       0.860044   \n",
              "5                                             Accept       0.900989   \n",
              "6                                             accept       0.872262   \n",
              "7                                             reject       0.571923   \n",
              "8                                             accept       0.229423   \n",
              "9  Do I have any prior knowledge or relationship ...       1.490731   \n",
              "\n",
              "   Temperature  \n",
              "0          0.1  \n",
              "1          0.3  \n",
              "2          0.5  \n",
              "3          0.7  \n",
              "4          0.9  \n",
              "5          1.0  \n",
              "6          1.2  \n",
              "7          1.4  \n",
              "8          1.6  \n",
              "9          1.8  "
            ],
            "text/html": [
              "\n",
              "  <div id=\"df-895831c2-ff1d-438a-b8a3-7e6c0eeffd14\" class=\"colab-df-container\">\n",
              "    <div>\n",
              "<style scoped>\n",
              "    .dataframe tbody tr th:only-of-type {\n",
              "        vertical-align: middle;\n",
              "    }\n",
              "\n",
              "    .dataframe tbody tr th {\n",
              "        vertical-align: top;\n",
              "    }\n",
              "\n",
              "    .dataframe thead th {\n",
              "        text-align: right;\n",
              "    }\n",
              "</style>\n",
              "<table border=\"1\" class=\"dataframe\">\n",
              "  <thead>\n",
              "    <tr style=\"text-align: right;\">\n",
              "      <th></th>\n",
              "      <th>Responses</th>\n",
              "      <th>Response time</th>\n",
              "      <th>Temperature</th>\n",
              "    </tr>\n",
              "  </thead>\n",
              "  <tbody>\n",
              "    <tr>\n",
              "      <th>0</th>\n",
              "      <td>accept</td>\n",
              "      <td>0.485893</td>\n",
              "      <td>0.1</td>\n",
              "    </tr>\n",
              "    <tr>\n",
              "      <th>1</th>\n",
              "      <td>accept</td>\n",
              "      <td>1.218456</td>\n",
              "      <td>0.3</td>\n",
              "    </tr>\n",
              "    <tr>\n",
              "      <th>2</th>\n",
              "      <td>reject</td>\n",
              "      <td>0.587575</td>\n",
              "      <td>0.5</td>\n",
              "    </tr>\n",
              "    <tr>\n",
              "      <th>3</th>\n",
              "      <td>Accept</td>\n",
              "      <td>0.470253</td>\n",
              "      <td>0.7</td>\n",
              "    </tr>\n",
              "    <tr>\n",
              "      <th>4</th>\n",
              "      <td>reject</td>\n",
              "      <td>0.860044</td>\n",
              "      <td>0.9</td>\n",
              "    </tr>\n",
              "    <tr>\n",
              "      <th>5</th>\n",
              "      <td>Accept</td>\n",
              "      <td>0.900989</td>\n",
              "      <td>1.0</td>\n",
              "    </tr>\n",
              "    <tr>\n",
              "      <th>6</th>\n",
              "      <td>accept</td>\n",
              "      <td>0.872262</td>\n",
              "      <td>1.2</td>\n",
              "    </tr>\n",
              "    <tr>\n",
              "      <th>7</th>\n",
              "      <td>reject</td>\n",
              "      <td>0.571923</td>\n",
              "      <td>1.4</td>\n",
              "    </tr>\n",
              "    <tr>\n",
              "      <th>8</th>\n",
              "      <td>accept</td>\n",
              "      <td>0.229423</td>\n",
              "      <td>1.6</td>\n",
              "    </tr>\n",
              "    <tr>\n",
              "      <th>9</th>\n",
              "      <td>Do I have any prior knowledge or relationship ...</td>\n",
              "      <td>1.490731</td>\n",
              "      <td>1.8</td>\n",
              "    </tr>\n",
              "  </tbody>\n",
              "</table>\n",
              "</div>\n",
              "    <div class=\"colab-df-buttons\">\n",
              "\n",
              "  <div class=\"colab-df-container\">\n",
              "    <button class=\"colab-df-convert\" onclick=\"convertToInteractive('df-895831c2-ff1d-438a-b8a3-7e6c0eeffd14')\"\n",
              "            title=\"Convert this dataframe to an interactive table.\"\n",
              "            style=\"display:none;\">\n",
              "\n",
              "  <svg xmlns=\"http://www.w3.org/2000/svg\" height=\"24px\" viewBox=\"0 -960 960 960\">\n",
              "    <path d=\"M120-120v-720h720v720H120Zm60-500h600v-160H180v160Zm220 220h160v-160H400v160Zm0 220h160v-160H400v160ZM180-400h160v-160H180v160Zm440 0h160v-160H620v160ZM180-180h160v-160H180v160Zm440 0h160v-160H620v160Z\"/>\n",
              "  </svg>\n",
              "    </button>\n",
              "\n",
              "  <style>\n",
              "    .colab-df-container {\n",
              "      display:flex;\n",
              "      gap: 12px;\n",
              "    }\n",
              "\n",
              "    .colab-df-convert {\n",
              "      background-color: #E8F0FE;\n",
              "      border: none;\n",
              "      border-radius: 50%;\n",
              "      cursor: pointer;\n",
              "      display: none;\n",
              "      fill: #1967D2;\n",
              "      height: 32px;\n",
              "      padding: 0 0 0 0;\n",
              "      width: 32px;\n",
              "    }\n",
              "\n",
              "    .colab-df-convert:hover {\n",
              "      background-color: #E2EBFA;\n",
              "      box-shadow: 0px 1px 2px rgba(60, 64, 67, 0.3), 0px 1px 3px 1px rgba(60, 64, 67, 0.15);\n",
              "      fill: #174EA6;\n",
              "    }\n",
              "\n",
              "    .colab-df-buttons div {\n",
              "      margin-bottom: 4px;\n",
              "    }\n",
              "\n",
              "    [theme=dark] .colab-df-convert {\n",
              "      background-color: #3B4455;\n",
              "      fill: #D2E3FC;\n",
              "    }\n",
              "\n",
              "    [theme=dark] .colab-df-convert:hover {\n",
              "      background-color: #434B5C;\n",
              "      box-shadow: 0px 1px 3px 1px rgba(0, 0, 0, 0.15);\n",
              "      filter: drop-shadow(0px 1px 2px rgba(0, 0, 0, 0.3));\n",
              "      fill: #FFFFFF;\n",
              "    }\n",
              "  </style>\n",
              "\n",
              "    <script>\n",
              "      const buttonEl =\n",
              "        document.querySelector('#df-895831c2-ff1d-438a-b8a3-7e6c0eeffd14 button.colab-df-convert');\n",
              "      buttonEl.style.display =\n",
              "        google.colab.kernel.accessAllowed ? 'block' : 'none';\n",
              "\n",
              "      async function convertToInteractive(key) {\n",
              "        const element = document.querySelector('#df-895831c2-ff1d-438a-b8a3-7e6c0eeffd14');\n",
              "        const dataTable =\n",
              "          await google.colab.kernel.invokeFunction('convertToInteractive',\n",
              "                                                    [key], {});\n",
              "        if (!dataTable) return;\n",
              "\n",
              "        const docLinkHtml = 'Like what you see? Visit the ' +\n",
              "          '<a target=\"_blank\" href=https://colab.research.google.com/notebooks/data_table.ipynb>data table notebook</a>'\n",
              "          + ' to learn more about interactive tables.';\n",
              "        element.innerHTML = '';\n",
              "        dataTable['output_type'] = 'display_data';\n",
              "        await google.colab.output.renderOutput(dataTable, element);\n",
              "        const docLink = document.createElement('div');\n",
              "        docLink.innerHTML = docLinkHtml;\n",
              "        element.appendChild(docLink);\n",
              "      }\n",
              "    </script>\n",
              "  </div>\n",
              "\n",
              "\n",
              "<div id=\"df-d724827a-37d4-4ea3-b3d6-4fab226b0ae2\">\n",
              "  <button class=\"colab-df-quickchart\" onclick=\"quickchart('df-d724827a-37d4-4ea3-b3d6-4fab226b0ae2')\"\n",
              "            title=\"Suggest charts.\"\n",
              "            style=\"display:none;\">\n",
              "\n",
              "<svg xmlns=\"http://www.w3.org/2000/svg\" height=\"24px\"viewBox=\"0 0 24 24\"\n",
              "     width=\"24px\">\n",
              "    <g>\n",
              "        <path d=\"M19 3H5c-1.1 0-2 .9-2 2v14c0 1.1.9 2 2 2h14c1.1 0 2-.9 2-2V5c0-1.1-.9-2-2-2zM9 17H7v-7h2v7zm4 0h-2V7h2v10zm4 0h-2v-4h2v4z\"/>\n",
              "    </g>\n",
              "</svg>\n",
              "  </button>\n",
              "\n",
              "<style>\n",
              "  .colab-df-quickchart {\n",
              "      --bg-color: #E8F0FE;\n",
              "      --fill-color: #1967D2;\n",
              "      --hover-bg-color: #E2EBFA;\n",
              "      --hover-fill-color: #174EA6;\n",
              "      --disabled-fill-color: #AAA;\n",
              "      --disabled-bg-color: #DDD;\n",
              "  }\n",
              "\n",
              "  [theme=dark] .colab-df-quickchart {\n",
              "      --bg-color: #3B4455;\n",
              "      --fill-color: #D2E3FC;\n",
              "      --hover-bg-color: #434B5C;\n",
              "      --hover-fill-color: #FFFFFF;\n",
              "      --disabled-bg-color: #3B4455;\n",
              "      --disabled-fill-color: #666;\n",
              "  }\n",
              "\n",
              "  .colab-df-quickchart {\n",
              "    background-color: var(--bg-color);\n",
              "    border: none;\n",
              "    border-radius: 50%;\n",
              "    cursor: pointer;\n",
              "    display: none;\n",
              "    fill: var(--fill-color);\n",
              "    height: 32px;\n",
              "    padding: 0;\n",
              "    width: 32px;\n",
              "  }\n",
              "\n",
              "  .colab-df-quickchart:hover {\n",
              "    background-color: var(--hover-bg-color);\n",
              "    box-shadow: 0 1px 2px rgba(60, 64, 67, 0.3), 0 1px 3px 1px rgba(60, 64, 67, 0.15);\n",
              "    fill: var(--button-hover-fill-color);\n",
              "  }\n",
              "\n",
              "  .colab-df-quickchart-complete:disabled,\n",
              "  .colab-df-quickchart-complete:disabled:hover {\n",
              "    background-color: var(--disabled-bg-color);\n",
              "    fill: var(--disabled-fill-color);\n",
              "    box-shadow: none;\n",
              "  }\n",
              "\n",
              "  .colab-df-spinner {\n",
              "    border: 2px solid var(--fill-color);\n",
              "    border-color: transparent;\n",
              "    border-bottom-color: var(--fill-color);\n",
              "    animation:\n",
              "      spin 1s steps(1) infinite;\n",
              "  }\n",
              "\n",
              "  @keyframes spin {\n",
              "    0% {\n",
              "      border-color: transparent;\n",
              "      border-bottom-color: var(--fill-color);\n",
              "      border-left-color: var(--fill-color);\n",
              "    }\n",
              "    20% {\n",
              "      border-color: transparent;\n",
              "      border-left-color: var(--fill-color);\n",
              "      border-top-color: var(--fill-color);\n",
              "    }\n",
              "    30% {\n",
              "      border-color: transparent;\n",
              "      border-left-color: var(--fill-color);\n",
              "      border-top-color: var(--fill-color);\n",
              "      border-right-color: var(--fill-color);\n",
              "    }\n",
              "    40% {\n",
              "      border-color: transparent;\n",
              "      border-right-color: var(--fill-color);\n",
              "      border-top-color: var(--fill-color);\n",
              "    }\n",
              "    60% {\n",
              "      border-color: transparent;\n",
              "      border-right-color: var(--fill-color);\n",
              "    }\n",
              "    80% {\n",
              "      border-color: transparent;\n",
              "      border-right-color: var(--fill-color);\n",
              "      border-bottom-color: var(--fill-color);\n",
              "    }\n",
              "    90% {\n",
              "      border-color: transparent;\n",
              "      border-bottom-color: var(--fill-color);\n",
              "    }\n",
              "  }\n",
              "</style>\n",
              "\n",
              "  <script>\n",
              "    async function quickchart(key) {\n",
              "      const quickchartButtonEl =\n",
              "        document.querySelector('#' + key + ' button');\n",
              "      quickchartButtonEl.disabled = true;  // To prevent multiple clicks.\n",
              "      quickchartButtonEl.classList.add('colab-df-spinner');\n",
              "      try {\n",
              "        const charts = await google.colab.kernel.invokeFunction(\n",
              "            'suggestCharts', [key], {});\n",
              "      } catch (error) {\n",
              "        console.error('Error during call to suggestCharts:', error);\n",
              "      }\n",
              "      quickchartButtonEl.classList.remove('colab-df-spinner');\n",
              "      quickchartButtonEl.classList.add('colab-df-quickchart-complete');\n",
              "    }\n",
              "    (() => {\n",
              "      let quickchartButtonEl =\n",
              "        document.querySelector('#df-d724827a-37d4-4ea3-b3d6-4fab226b0ae2 button');\n",
              "      quickchartButtonEl.style.display =\n",
              "        google.colab.kernel.accessAllowed ? 'block' : 'none';\n",
              "    })();\n",
              "  </script>\n",
              "</div>\n",
              "    </div>\n",
              "  </div>\n"
            ]
          },
          "metadata": {},
          "execution_count": 90
        }
      ]
    },
    {
      "cell_type": "code",
      "source": [
        "# GPT-4 experiment\n",
        "GPT4_results = {\"Responses\": [],\n",
        "                \"Response time\": [],\n",
        "                \"Temperature\": []}\n",
        "\n",
        "for temp in temperatures:\n",
        "    start_time = time.time()\n",
        "\n",
        "    gpt4 = ChatOpenAI(model=\"gpt-4\",\n",
        "                         temperature=temp, max_tokens=35)\n",
        "\n",
        "    response = gpt4(messages)\n",
        "\n",
        "    GPT4_results[\"Responses\"].append(response.content)\n",
        "    GPT4_results[\"Response time\"].append(time.time() - start_time)\n",
        "    GPT4_results[\"Temperature\"].append(temp)\n",
        "\n",
        "GPT4_results_df = pd.DataFrame(GPT4_results)\n",
        "print(f\"Results dataframe: \\n{GPT4_results_df}\\n\\nCounts: {count_ultimatum_responses(GPT4_results_df['Responses'])}\")"
      ],
      "metadata": {
        "colab": {
          "base_uri": "https://localhost:8080/"
        },
        "outputId": "fa6acd7c-85f9-45d6-e690-a51612187521",
        "id": "u9IwSBOfrFto"
      },
      "execution_count": null,
      "outputs": [
        {
          "output_type": "stream",
          "name": "stdout",
          "text": [
            "Results dataframe: \n",
            "  Responses  Response time  Temperature\n",
            "0    accept       1.326642          0.1\n",
            "1    accept       1.686733          0.3\n",
            "2    accept       0.505480          0.5\n",
            "3    accept       0.959748          0.7\n",
            "4    accept       1.520154          0.9\n",
            "5    accept       1.188988          1.0\n",
            "6    accept       1.976554          1.2\n",
            "7    accept       0.334458          1.4\n",
            "8    accept       1.395791          1.6\n",
            "9    accept       0.338156          1.8\n",
            "\n",
            "Counts: (10, 0)\n"
          ]
        }
      ]
    },
    {
      "cell_type": "code",
      "source": [
        "# Some chat model from huggingface\n",
        "GPT4_results_df"
      ],
      "metadata": {
        "colab": {
          "base_uri": "https://localhost:8080/",
          "height": 353
        },
        "id": "0gnO4rahrFto",
        "outputId": "f1c6ee7c-3b27-4edb-87ee-6968f63ec5cf"
      },
      "execution_count": null,
      "outputs": [
        {
          "output_type": "execute_result",
          "data": {
            "text/plain": [
              "                                           Responses  Response time  \\\n",
              "0  As a member of the Hadza tribe, I would rate m...       2.056559   \n",
              "1                                                  8       0.406481   \n",
              "2  Given the Hadza tribe's values of equality and...       2.572002   \n",
              "3  Given the Hadza tribe's values of equality and...       2.568928   \n",
              "4  10. As a member of the Hadza tribe, I have bee...       2.047244   \n",
              "5                                                  8       0.696669   \n",
              "6  As a Hadza tribesperson, I value equality and ...       2.623924   \n",
              "7  Considering the Hadza's value of sharing resou...       2.104148   \n",
              "8  Given the values and practices of the Hadza tr...       3.348929   \n",
              "9  Regaki Other you pointshapespake[sub]()\\nPart ...       2.518907   \n",
              "\n",
              "   Temperature  \n",
              "0          0.1  \n",
              "1          0.3  \n",
              "2          0.5  \n",
              "3          0.7  \n",
              "4          0.9  \n",
              "5          1.0  \n",
              "6          1.2  \n",
              "7          1.4  \n",
              "8          1.6  \n",
              "9          1.8  "
            ],
            "text/html": [
              "\n",
              "  <div id=\"df-025339df-deb3-4093-8697-54d3191e4646\" class=\"colab-df-container\">\n",
              "    <div>\n",
              "<style scoped>\n",
              "    .dataframe tbody tr th:only-of-type {\n",
              "        vertical-align: middle;\n",
              "    }\n",
              "\n",
              "    .dataframe tbody tr th {\n",
              "        vertical-align: top;\n",
              "    }\n",
              "\n",
              "    .dataframe thead th {\n",
              "        text-align: right;\n",
              "    }\n",
              "</style>\n",
              "<table border=\"1\" class=\"dataframe\">\n",
              "  <thead>\n",
              "    <tr style=\"text-align: right;\">\n",
              "      <th></th>\n",
              "      <th>Responses</th>\n",
              "      <th>Response time</th>\n",
              "      <th>Temperature</th>\n",
              "    </tr>\n",
              "  </thead>\n",
              "  <tbody>\n",
              "    <tr>\n",
              "      <th>0</th>\n",
              "      <td>As a member of the Hadza tribe, I would rate m...</td>\n",
              "      <td>2.056559</td>\n",
              "      <td>0.1</td>\n",
              "    </tr>\n",
              "    <tr>\n",
              "      <th>1</th>\n",
              "      <td>8</td>\n",
              "      <td>0.406481</td>\n",
              "      <td>0.3</td>\n",
              "    </tr>\n",
              "    <tr>\n",
              "      <th>2</th>\n",
              "      <td>Given the Hadza tribe's values of equality and...</td>\n",
              "      <td>2.572002</td>\n",
              "      <td>0.5</td>\n",
              "    </tr>\n",
              "    <tr>\n",
              "      <th>3</th>\n",
              "      <td>Given the Hadza tribe's values of equality and...</td>\n",
              "      <td>2.568928</td>\n",
              "      <td>0.7</td>\n",
              "    </tr>\n",
              "    <tr>\n",
              "      <th>4</th>\n",
              "      <td>10. As a member of the Hadza tribe, I have bee...</td>\n",
              "      <td>2.047244</td>\n",
              "      <td>0.9</td>\n",
              "    </tr>\n",
              "    <tr>\n",
              "      <th>5</th>\n",
              "      <td>8</td>\n",
              "      <td>0.696669</td>\n",
              "      <td>1.0</td>\n",
              "    </tr>\n",
              "    <tr>\n",
              "      <th>6</th>\n",
              "      <td>As a Hadza tribesperson, I value equality and ...</td>\n",
              "      <td>2.623924</td>\n",
              "      <td>1.2</td>\n",
              "    </tr>\n",
              "    <tr>\n",
              "      <th>7</th>\n",
              "      <td>Considering the Hadza's value of sharing resou...</td>\n",
              "      <td>2.104148</td>\n",
              "      <td>1.4</td>\n",
              "    </tr>\n",
              "    <tr>\n",
              "      <th>8</th>\n",
              "      <td>Given the values and practices of the Hadza tr...</td>\n",
              "      <td>3.348929</td>\n",
              "      <td>1.6</td>\n",
              "    </tr>\n",
              "    <tr>\n",
              "      <th>9</th>\n",
              "      <td>Regaki Other you pointshapespake[sub]()\\nPart ...</td>\n",
              "      <td>2.518907</td>\n",
              "      <td>1.8</td>\n",
              "    </tr>\n",
              "  </tbody>\n",
              "</table>\n",
              "</div>\n",
              "    <div class=\"colab-df-buttons\">\n",
              "\n",
              "  <div class=\"colab-df-container\">\n",
              "    <button class=\"colab-df-convert\" onclick=\"convertToInteractive('df-025339df-deb3-4093-8697-54d3191e4646')\"\n",
              "            title=\"Convert this dataframe to an interactive table.\"\n",
              "            style=\"display:none;\">\n",
              "\n",
              "  <svg xmlns=\"http://www.w3.org/2000/svg\" height=\"24px\" viewBox=\"0 -960 960 960\">\n",
              "    <path d=\"M120-120v-720h720v720H120Zm60-500h600v-160H180v160Zm220 220h160v-160H400v160Zm0 220h160v-160H400v160ZM180-400h160v-160H180v160Zm440 0h160v-160H620v160ZM180-180h160v-160H180v160Zm440 0h160v-160H620v160Z\"/>\n",
              "  </svg>\n",
              "    </button>\n",
              "\n",
              "  <style>\n",
              "    .colab-df-container {\n",
              "      display:flex;\n",
              "      gap: 12px;\n",
              "    }\n",
              "\n",
              "    .colab-df-convert {\n",
              "      background-color: #E8F0FE;\n",
              "      border: none;\n",
              "      border-radius: 50%;\n",
              "      cursor: pointer;\n",
              "      display: none;\n",
              "      fill: #1967D2;\n",
              "      height: 32px;\n",
              "      padding: 0 0 0 0;\n",
              "      width: 32px;\n",
              "    }\n",
              "\n",
              "    .colab-df-convert:hover {\n",
              "      background-color: #E2EBFA;\n",
              "      box-shadow: 0px 1px 2px rgba(60, 64, 67, 0.3), 0px 1px 3px 1px rgba(60, 64, 67, 0.15);\n",
              "      fill: #174EA6;\n",
              "    }\n",
              "\n",
              "    .colab-df-buttons div {\n",
              "      margin-bottom: 4px;\n",
              "    }\n",
              "\n",
              "    [theme=dark] .colab-df-convert {\n",
              "      background-color: #3B4455;\n",
              "      fill: #D2E3FC;\n",
              "    }\n",
              "\n",
              "    [theme=dark] .colab-df-convert:hover {\n",
              "      background-color: #434B5C;\n",
              "      box-shadow: 0px 1px 3px 1px rgba(0, 0, 0, 0.15);\n",
              "      filter: drop-shadow(0px 1px 2px rgba(0, 0, 0, 0.3));\n",
              "      fill: #FFFFFF;\n",
              "    }\n",
              "  </style>\n",
              "\n",
              "    <script>\n",
              "      const buttonEl =\n",
              "        document.querySelector('#df-025339df-deb3-4093-8697-54d3191e4646 button.colab-df-convert');\n",
              "      buttonEl.style.display =\n",
              "        google.colab.kernel.accessAllowed ? 'block' : 'none';\n",
              "\n",
              "      async function convertToInteractive(key) {\n",
              "        const element = document.querySelector('#df-025339df-deb3-4093-8697-54d3191e4646');\n",
              "        const dataTable =\n",
              "          await google.colab.kernel.invokeFunction('convertToInteractive',\n",
              "                                                    [key], {});\n",
              "        if (!dataTable) return;\n",
              "\n",
              "        const docLinkHtml = 'Like what you see? Visit the ' +\n",
              "          '<a target=\"_blank\" href=https://colab.research.google.com/notebooks/data_table.ipynb>data table notebook</a>'\n",
              "          + ' to learn more about interactive tables.';\n",
              "        element.innerHTML = '';\n",
              "        dataTable['output_type'] = 'display_data';\n",
              "        await google.colab.output.renderOutput(dataTable, element);\n",
              "        const docLink = document.createElement('div');\n",
              "        docLink.innerHTML = docLinkHtml;\n",
              "        element.appendChild(docLink);\n",
              "      }\n",
              "    </script>\n",
              "  </div>\n",
              "\n",
              "\n",
              "<div id=\"df-62698467-3650-4ee4-bd31-5c97cc2e1a7d\">\n",
              "  <button class=\"colab-df-quickchart\" onclick=\"quickchart('df-62698467-3650-4ee4-bd31-5c97cc2e1a7d')\"\n",
              "            title=\"Suggest charts.\"\n",
              "            style=\"display:none;\">\n",
              "\n",
              "<svg xmlns=\"http://www.w3.org/2000/svg\" height=\"24px\"viewBox=\"0 0 24 24\"\n",
              "     width=\"24px\">\n",
              "    <g>\n",
              "        <path d=\"M19 3H5c-1.1 0-2 .9-2 2v14c0 1.1.9 2 2 2h14c1.1 0 2-.9 2-2V5c0-1.1-.9-2-2-2zM9 17H7v-7h2v7zm4 0h-2V7h2v10zm4 0h-2v-4h2v4z\"/>\n",
              "    </g>\n",
              "</svg>\n",
              "  </button>\n",
              "\n",
              "<style>\n",
              "  .colab-df-quickchart {\n",
              "      --bg-color: #E8F0FE;\n",
              "      --fill-color: #1967D2;\n",
              "      --hover-bg-color: #E2EBFA;\n",
              "      --hover-fill-color: #174EA6;\n",
              "      --disabled-fill-color: #AAA;\n",
              "      --disabled-bg-color: #DDD;\n",
              "  }\n",
              "\n",
              "  [theme=dark] .colab-df-quickchart {\n",
              "      --bg-color: #3B4455;\n",
              "      --fill-color: #D2E3FC;\n",
              "      --hover-bg-color: #434B5C;\n",
              "      --hover-fill-color: #FFFFFF;\n",
              "      --disabled-bg-color: #3B4455;\n",
              "      --disabled-fill-color: #666;\n",
              "  }\n",
              "\n",
              "  .colab-df-quickchart {\n",
              "    background-color: var(--bg-color);\n",
              "    border: none;\n",
              "    border-radius: 50%;\n",
              "    cursor: pointer;\n",
              "    display: none;\n",
              "    fill: var(--fill-color);\n",
              "    height: 32px;\n",
              "    padding: 0;\n",
              "    width: 32px;\n",
              "  }\n",
              "\n",
              "  .colab-df-quickchart:hover {\n",
              "    background-color: var(--hover-bg-color);\n",
              "    box-shadow: 0 1px 2px rgba(60, 64, 67, 0.3), 0 1px 3px 1px rgba(60, 64, 67, 0.15);\n",
              "    fill: var(--button-hover-fill-color);\n",
              "  }\n",
              "\n",
              "  .colab-df-quickchart-complete:disabled,\n",
              "  .colab-df-quickchart-complete:disabled:hover {\n",
              "    background-color: var(--disabled-bg-color);\n",
              "    fill: var(--disabled-fill-color);\n",
              "    box-shadow: none;\n",
              "  }\n",
              "\n",
              "  .colab-df-spinner {\n",
              "    border: 2px solid var(--fill-color);\n",
              "    border-color: transparent;\n",
              "    border-bottom-color: var(--fill-color);\n",
              "    animation:\n",
              "      spin 1s steps(1) infinite;\n",
              "  }\n",
              "\n",
              "  @keyframes spin {\n",
              "    0% {\n",
              "      border-color: transparent;\n",
              "      border-bottom-color: var(--fill-color);\n",
              "      border-left-color: var(--fill-color);\n",
              "    }\n",
              "    20% {\n",
              "      border-color: transparent;\n",
              "      border-left-color: var(--fill-color);\n",
              "      border-top-color: var(--fill-color);\n",
              "    }\n",
              "    30% {\n",
              "      border-color: transparent;\n",
              "      border-left-color: var(--fill-color);\n",
              "      border-top-color: var(--fill-color);\n",
              "      border-right-color: var(--fill-color);\n",
              "    }\n",
              "    40% {\n",
              "      border-color: transparent;\n",
              "      border-right-color: var(--fill-color);\n",
              "      border-top-color: var(--fill-color);\n",
              "    }\n",
              "    60% {\n",
              "      border-color: transparent;\n",
              "      border-right-color: var(--fill-color);\n",
              "    }\n",
              "    80% {\n",
              "      border-color: transparent;\n",
              "      border-right-color: var(--fill-color);\n",
              "      border-bottom-color: var(--fill-color);\n",
              "    }\n",
              "    90% {\n",
              "      border-color: transparent;\n",
              "      border-bottom-color: var(--fill-color);\n",
              "    }\n",
              "  }\n",
              "</style>\n",
              "\n",
              "  <script>\n",
              "    async function quickchart(key) {\n",
              "      const quickchartButtonEl =\n",
              "        document.querySelector('#' + key + ' button');\n",
              "      quickchartButtonEl.disabled = true;  // To prevent multiple clicks.\n",
              "      quickchartButtonEl.classList.add('colab-df-spinner');\n",
              "      try {\n",
              "        const charts = await google.colab.kernel.invokeFunction(\n",
              "            'suggestCharts', [key], {});\n",
              "      } catch (error) {\n",
              "        console.error('Error during call to suggestCharts:', error);\n",
              "      }\n",
              "      quickchartButtonEl.classList.remove('colab-df-spinner');\n",
              "      quickchartButtonEl.classList.add('colab-df-quickchart-complete');\n",
              "    }\n",
              "    (() => {\n",
              "      let quickchartButtonEl =\n",
              "        document.querySelector('#df-62698467-3650-4ee4-bd31-5c97cc2e1a7d button');\n",
              "      quickchartButtonEl.style.display =\n",
              "        google.colab.kernel.accessAllowed ? 'block' : 'none';\n",
              "    })();\n",
              "  </script>\n",
              "</div>\n",
              "    </div>\n",
              "  </div>\n"
            ]
          },
          "metadata": {},
          "execution_count": 72
        }
      ]
    },
    {
      "cell_type": "code",
      "source": [],
      "metadata": {
        "id": "-sZPr5GBiXU1"
      },
      "execution_count": null,
      "outputs": []
    },
    {
      "cell_type": "code",
      "source": [
        "models = ['T5-base', 'T5-large', 'Davinci']\n",
        "counts = [(10, 0), (10, 0), (0, 10)]\n",
        "\n",
        "plot_histogram(models,\n",
        "               counts,\n",
        "               \"Ultimatum Game\",\n",
        "               (\"Accept\", \"Reject\"))"
      ],
      "metadata": {
        "colab": {
          "base_uri": "https://localhost:8080/",
          "height": 507
        },
        "outputId": "abe79472-0e88-4462-d7c2-e3c0b7a46b9b",
        "id": "NFSjmELTiXdz"
      },
      "execution_count": null,
      "outputs": [
        {
          "output_type": "display_data",
          "data": {
            "text/plain": [
              "<Figure size 700x500 with 1 Axes>"
            ],
            "image/png": "[encoded data removed]"
          },
          "metadata": {}
        }
      ]
    },
    {
      "cell_type": "code",
      "source": [
        "chat_models = ['gpt-3.5-turbo', 'gpt-4']\n",
        "chat_counts = [(7, 3), (10, 0)]\n",
        "\n",
        "plot_histogram(chat_models,\n",
        "               chat_counts,\n",
        "               \"Ultimatum Game\",\n",
        "               (\"Accept\", \"Reject\"))"
      ],
      "metadata": {
        "colab": {
          "base_uri": "https://localhost:8080/",
          "height": 507
        },
        "outputId": "71a0dc17-a6ab-454d-eacd-d7e183e323f3",
        "id": "nwmcf2mEiXd0"
      },
      "execution_count": null,
      "outputs": [
        {
          "output_type": "display_data",
          "data": {
            "text/plain": [
              "<Figure size 700x500 with 1 Axes>"
            ],
            "image/png": "[encoded data removed]"
          },
          "metadata": {}
        }
      ]
    },
    {
      "cell_type": "code",
      "source": [],
      "metadata": {
        "id": "2vcR1Sh5ini1"
      },
      "execution_count": null,
      "outputs": []
    }
  ]
}